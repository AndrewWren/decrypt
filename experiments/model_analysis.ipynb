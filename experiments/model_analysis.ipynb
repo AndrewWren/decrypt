{
 "cells": [
  {
   "cell_type": "markdown",
   "metadata": {
    "collapsed": true,
    "pycharm": {
     "name": "#%% md\n"
    }
   },
   "source": [
    "### todo\n",
    "1. all sections"
   ]
  },
  {
   "cell_type": "code",
   "execution_count": null,
   "outputs": [],
   "source": [
    "\n",
    "\n",
    "# special eval\n",
    "# train overlap performance\n",
    "# load_and_run('baseline_naive_e12_val')\n",
    "\n",
    "_, _, (train, _, _) = load_guardian_splits(k_json_folder)"
   ],
   "metadata": {
    "collapsed": false,
    "pycharm": {
     "name": "#%%\n"
    }
   }
  },
  {
   "cell_type": "code",
   "execution_count": null,
   "outputs": [],
   "source": [
    "def make_set_inclusion_filter_fcn(train_set: List[BaseClue]):\n",
    "    s = set()\n",
    "    for c in train_set:\n",
    "        s.add(c.soln_with_spaces)\n",
    "\n",
    "    # return False to omit\n",
    "    def filter_fcn(mp: vt.ModelPrediction):\n",
    "        if mp.target in s:\n",
    "            return False\n",
    "        return True\n",
    "    return filter_fcn"
   ],
   "metadata": {
    "collapsed": false,
    "pycharm": {
     "name": "#%%\n"
    }
   }
  },
  {
   "cell_type": "code",
   "execution_count": null,
   "outputs": [],
   "source": [
    "# subset that does not overlap with train (exact match)\n",
    "load_and_run('baseline_naive_e12_val',\n",
    "             label='baseline_naive_e12_val_diff_exact',\n",
    "             filter_fcn=make_set_inclusion_filter_fcn(train))\n",
    "load_and_run('baseline_naive_e12_test',\n",
    "             label='baseline_naive_e12_test_diff_exact',\n",
    "             filter_fcn=make_set_inclusion_filter_fcn(train))"
   ],
   "metadata": {
    "collapsed": false,
    "pycharm": {
     "name": "#%%\n"
    }
   }
  },
  {
   "cell_type": "code",
   "execution_count": null,
   "outputs": [],
   "source": [],
   "metadata": {
    "collapsed": false,
    "pycharm": {
     "name": "#%%\n"
    }
   }
  },
  {
   "cell_type": "code",
   "execution_count": null,
   "outputs": [],
   "source": [
    "###\n",
    "# prepare for set that does not overlap, fuzzily\n",
    "##\n",
    "# this result not in paper\n",
    "def make_set_inclusion_filter_fcn_fuzz(train_set: List[BaseClue]):\n",
    "    s = set()\n",
    "    for c in train_set:\n",
    "        soln = c.soln_with_spaces\n",
    "        if soln.endswith('es'):\n",
    "            s.add(soln[:-2])\n",
    "        if soln.endswith('s'):\n",
    "            s.add(soln[:-1])\n",
    "        s.add(soln + 'es')\n",
    "        s.add(soln + 's')\n",
    "        s.add(soln)\n",
    "\n",
    "    # return False to omit\n",
    "    def filter_fcn(mp: vt.ModelPrediction):\n",
    "        if mp.target in s or mp.target[:-1] in s or mp.target[:-2] in s:\n",
    "            return False\n",
    "        return True\n",
    "    return filter_fcn"
   ],
   "metadata": {
    "collapsed": false,
    "pycharm": {
     "name": "#%%\n"
    }
   }
  },
  {
   "cell_type": "code",
   "execution_count": null,
   "outputs": [],
   "source": [
    "load_and_run('baseline_naive_e12_val',\n",
    "             label='baseline_naive_e12_val_diff_plurals',\n",
    "             filter_fcn=make_set_inclusion_filter_fcn_fuzz(train))\n",
    "load_and_run('baseline_naive_e12_test',\n",
    "             label='baseline_naive_e12_test_diff_plurals',\n",
    "             filter_fcn=make_set_inclusion_filter_fcn_fuzz(train))"
   ],
   "metadata": {
    "collapsed": false,
    "pycharm": {
     "name": "#%%\n"
    }
   }
  },
  {
   "cell_type": "code",
   "execution_count": null,
   "outputs": [],
   "source": [
    "###\n",
    "# disjoint\n",
    "###\n",
    "# not reported in paper\n",
    "_, _, (train_disj, val_disj, _) = load_guardian_splits_disjoint_hash(k_json_folder)\n",
    "\n",
    "load_and_run('baseline_disj1_e6_val',\n",
    "             label='baseline_disj1_e6_val_diff',\n",
    "             filter_fcn=make_set_inclusion_filter_fcn_fuzz(train_disj))\n",
    "\n",
    "\n"
   ],
   "metadata": {
    "collapsed": false,
    "pycharm": {
     "name": "#%%\n"
    }
   }
  }
 ],
 "metadata": {
  "kernelspec": {
   "display_name": "Python 3",
   "language": "python",
   "name": "python3"
  },
  "language_info": {
   "codemirror_mode": {
    "name": "ipython",
    "version": 2
   },
   "file_extension": ".py",
   "mimetype": "text/x-python",
   "name": "python",
   "nbconvert_exporter": "python",
   "pygments_lexer": "ipython2",
   "version": "2.7.6"
  }
 },
 "nbformat": 4,
 "nbformat_minor": 0
}