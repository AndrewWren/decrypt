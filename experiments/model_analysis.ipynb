{
 "cells": [
  {
   "cell_type": "code",
   "execution_count": 12,
   "outputs": [],
   "source": [
    "%load_ext autoreload\n",
    "%autoreload 2\n",
    "\n",
    "from tqdm import tqdm"
   ],
   "metadata": {
    "collapsed": false,
    "pycharm": {
     "name": "#%%\n"
    }
   }
  },
  {
   "cell_type": "markdown",
   "source": [
    "# Model Analysis section of paper\n",
    "\n",
    "## 6.1 Meta-linguistic properties\n",
    "Table 3b is produced from the statistics that will be outputted in baselines/baseline_t5 and\n",
    "baselines/baseline_knn.\n",
    "\n",
    "Nothing else is required\n",
    "\n",
    "## 6.2 Disjointness\n",
    "This section contains two parts:\n",
    "1. Subset analysis\n",
    "2. Analysis on distinct splits\n",
    "\n",
    "Producing the table rows:\n",
    "1. Row 1 in the Table 3b (naive, entire split) is the same as T5 (lenghts) in the main\n",
    " results table and is produced by running baselines/baseline_t5, i.e.\n",
    "1. Subset not in train - see below for setup\n",
    "1. Naive disjoint - run in the same way as baselines/baseline_t5, but on the naive_disjoint split, i.e.\n",
    "    - Train on the naive disjoint split:\n",
    "```python\n",
    "python train_clues.py --default_train=base --name=baseline_naive_disjoint --project=baseline --wandb_dir='./wandb' --data_dir='../data/clue_json/guardian/naive_disjoint'\n",
    "```\n",
    "    - Eval to get 100 generations (on the best epoch checkpoint), with and without `--test` flag\n",
    "```python\n",
    "python train_clues.py --default_val=base --name=baseline_naive_disjoint_val --project=baseline --data_dir='../data/clue_json/guardian/naive_disjoint' --ckpt_path='./wandb/run_name/files/epoch_10.pth.tar\n",
    "```\n",
    "    - run the eval script\n",
    "`vt.load_and_run_t5('decrypt/t5_outputs/baseline_naive_disjoint_val.preds')`\n",
    "1. word initial disjoint split - same as T5 (lengths) row in main results table (see baselines/baselines_t5)\n"
   ],
   "metadata": {
    "collapsed": false
   }
  },
  {
   "cell_type": "code",
   "execution_count": 9,
   "outputs": [],
   "source": [
    "# eval on the subset not seen in train\n",
    "import random\n",
    "from decrypt import config\n",
    "from decrypt.scrape_parse import load_guardian_splits\n",
    "from decrypt.common import validation_tools as vt\n",
    "from decrypt.scrape_parse.util import str_hash as safe_hash"
   ],
   "metadata": {
    "collapsed": false,
    "pycharm": {
     "name": "#%%\n"
    }
   }
  },
  {
   "cell_type": "code",
   "execution_count": null,
   "outputs": [],
   "source": [
    "# create a function that will filter to those input-output pairs with answers\n",
    "# not seen during training\n",
    "def make_filter_fn():\n",
    "    _, _, (train, _, _) = load_guardian_splits(config.DataDirs.Guardian.json_folder, verify=True)\n",
    "    s = set()\n",
    "    for c in train:\n",
    "        s.add(c.soln_with_spaces)\n",
    "\n",
    "    # return False to omit\n",
    "    def filter_fcn(mp: vt.ModelPrediction):\n",
    "        if mp.target in s:\n",
    "            return False\n",
    "        return True\n",
    "    return filter_fcn\n",
    "\n",
    "\n",
    "vt.load_and_run_t5('outputs/naive_baseline.preds',\n",
    "                   filter_fcn=make_filter_fn())"
   ],
   "metadata": {
    "collapsed": false,
    "pycharm": {
     "name": "#%%\n"
    }
   }
  },
  {
   "cell_type": "code",
   "execution_count": null,
   "outputs": [],
   "source": [
    "# the following is not reported in the paper\n",
    "# prepare for set that does not overlap, fuzzily\n",
    "# ie also match on plurals\n",
    "def make_set_inclusion_filter_fcn_fuzz():\n",
    "    _, _, (train, _, _) = load_guardian_splits(config.DataDirs.Guardian.json_folder, verify=True)\n",
    "    s = set()\n",
    "\n",
    "    # fuzzily match plurals\n",
    "    for c in train:\n",
    "        soln = c.soln_with_spaces\n",
    "        if soln.endswith('es'):\n",
    "            s.add(soln[:-2])\n",
    "        if soln.endswith('s'):\n",
    "            s.add(soln[:-1])\n",
    "        s.add(soln + 'es')\n",
    "        s.add(soln + 's')\n",
    "        s.add(soln)\n",
    "\n",
    "    # return False to omit\n",
    "    def filter_fcn(mp: vt.ModelPrediction):\n",
    "        if mp.target in s or mp.target[:-1] in s or mp.target[:-2] in s:\n",
    "            return False\n",
    "        return True\n",
    "    return filter_fcn\n",
    "\n",
    "vt.load_and_run_t5('outputs/naive_baseline.preds',\n",
    "                   filter_fcn=make_set_inclusion_filter_fcn_fuzz())"
   ],
   "metadata": {
    "collapsed": false,
    "pycharm": {
     "name": "#%%\n"
    }
   }
  },
  {
   "cell_type": "markdown",
   "source": [
    "## 6.3 Wordplay minimal task\n",
    "Here we provide code to\n",
    "1. produce the descramble dataset\n",
    "1. run the two variations of the descramble task\n",
    "    - with and without adding the definition\n",
    "    - on random and word-initial disjoint splits\n",
    "    - copy task (i.e. no scrambling)"
   ],
   "metadata": {
    "collapsed": false
   }
  },
  {
   "cell_type": "code",
   "execution_count": null,
   "outputs": [],
   "source": [
    "# first prepare the descrambling dataset\n",
    "from decrypt.scrape_parse.acw_load import get_clean_xd_clues\n",
    "from sklearn.model_selection import train_test_split\n",
    "from decrypt.common.util_data import write_json_tuple\n",
    "\n",
    "k_xd_orig_tsv = config.DataDirs.OriginalData.k_xd_cw\n",
    "k_descramble_rand = config.DataDirs.DataExport.descramble_random\n",
    "k_descramble_disj = config.DataDirs.DataExport.descramble_word_init_disjoint\n",
    "\n",
    "# method will produce a version of the ACW dataset that is\n",
    "# - single words that appear in our dictionary\n",
    "# - without exact duplicates (but note that some answers will occur multiple times with different clues\n",
    "# - filtered to answer words with between 4 and 14 characters\n",
    "# - downsampled to 10%\n",
    "def make_descramble_json(seed=42):\n",
    "    stc_map, all_clues = get_clean_xd_clues(k_xd_orig_tsv,\n",
    "                                            remove_if_not_in_dict=True,     # only single words\n",
    "                                            do_filter_dupes=True)\n",
    "\n",
    "    # further filter away anything < 4 chars\n",
    "    all_clues_len = [x for x in all_clues if len(x.soln) > 3 and len(x.soln) < 15]\n",
    "    print(len(all_clues_len))\n",
    "\n",
    "    # downsample to 10 percent\n",
    "    rng = random.Random(42)\n",
    "    all_clues_10per = rng.sample(all_clues_len, k=int(len(all_clues)*.1))\n",
    "    print(len(all_clues_10per))\n",
    "    print(all_clues_10per[0])\n",
    "\n",
    "    # logic the same as scrape_parse.guardian_load.make_disjoint_split()\n",
    "    def make_dataset(disj: bool):\n",
    "        # make json\n",
    "        json_all = []\n",
    "        for c in all_clues_10per:\n",
    "            c.soln = c.soln.lower()\n",
    "            json_dict = dict(defn=c.clue,\n",
    "                             target=c.soln)\n",
    "            json_all.append(json_dict)\n",
    "\n",
    "        train, val = [], []     # list of json dicts\n",
    "        rng.seed(seed)\n",
    "        if disj:\n",
    "            for c in json_all:\n",
    "                idx = safe_hash(c['target'][:2]) % 10\n",
    "                if idx == 0:\n",
    "                    val.append(c)   # val ~ 20k\n",
    "                else:\n",
    "                    train.append(c)\n",
    "            rng.shuffle(train)\n",
    "            rng.shuffle(val)\n",
    "        else:   # not disj\n",
    "            train, val = train_test_split(json_all, test_size=.1, random_state=seed)\n",
    "\n",
    "        return train, val\n",
    "\n",
    "    write_json_tuple(list(make_dataset(disj=False)),    # train, val\n",
    "                     comment=\"\",\n",
    "                     export_dir=k_descramble_rand)\n",
    "\n",
    "    write_json_tuple(list(make_dataset(disj=True)),     # train, val\n",
    "                     comment=\"\",\n",
    "                     export_dir=k_descramble_disj)\n",
    "\n",
    "make_descramble_json()"
   ],
   "metadata": {
    "collapsed": false,
    "pycharm": {
     "name": "#%%\n"
    }
   }
  },
  {
   "cell_type": "markdown",
   "source": [
    "To run (e.g. on random split with phrasal definition)\n",
    "```python\n",
    "python train_descramble.py --default_train=base --name=descramble_random_phrase --project=descramble --wandb_dir='./wandb' --data_dir='../data/clue_json/descramble/random_split/' --generation_beams=10 --no_save --randomize_train_scramble --add_defn\n",
    "```\n",
    "\n",
    "The other variations we present are\n",
    "- word initial split ('./data/clue_json/descramble/word_initial')\n",
    "- --no_defn (do not append phrase), instead of --add_defn\n",
    "- --copy (to test the identity task)\n",
    "\n",
    "Model analysis (eval) runs are not necessary: we can just read off the metric from the best model."
   ],
   "metadata": {
    "collapsed": false
   }
  },
  {
   "cell_type": "markdown",
   "source": [
    "## 6.4 Wordplay systematic learning\n",
    "- identify clues with anagram of first name\n",
    "- two sets: scramble / substitute\n",
    "- run / evaluate\n",
    "- average character level overlap"
   ],
   "metadata": {
    "collapsed": false
   }
  },
  {
   "cell_type": "code",
   "execution_count": 1,
   "outputs": [],
   "source": [
    "from decrypt.common.label_anagrams import make_label_set\n",
    "from glob import glob\n",
    "from collections import defaultdict\n",
    "from typing import *\n",
    "from decrypt.common.substitution import ClueWithSubstitutions, Substitution\n",
    "from decrypt.common.puzzle_clue import BaseClue\n",
    "import json\n",
    "import os"
   ],
   "metadata": {
    "collapsed": false,
    "pycharm": {
     "name": "#%%\n"
    }
   }
  },
  {
   "cell_type": "code",
   "execution_count": 6,
   "outputs": [],
   "source": [
    "def load_train_and_val_direct_anag_sets() -> Tuple[List[int], ...]:\n",
    "    # this will load things twice, but whatever\n",
    "    labels = make_label_set()\n",
    "    _, _, (train, val, _) = load_guardian_splits(config.DataDirs.Guardian.json_folder)\n",
    "\n",
    "    # get pre-labeled direct anagram clue sets\n",
    "    def load_set(label_name: str):\n",
    "        idx_to_clues_train = {c.idx: c for c in train}\n",
    "        idx_to_clues_val = {c.idx: c for c in val}\n",
    "        train_set = [idx_to_clues_train[idx] for idx in labels[label_name] if idx in idx_to_clues_train]\n",
    "        val_set = [idx_to_clues_val[idx] for idx in labels[label_name] if idx in idx_to_clues_val]\n",
    "        return train_set, val_set\n",
    "\n",
    "    train_set, val_set = load_set('anag_direct')\n",
    "    print(len(train_set))\n",
    "    print(len(val_set))\n",
    "    return train_set, val_set\n"
   ],
   "metadata": {
    "collapsed": false,
    "pycharm": {
     "name": "#%%\n"
    }
   }
  },
  {
   "cell_type": "code",
   "execution_count": 3,
   "outputs": [],
   "source": [
    "# Filter to clues that work for our substitution\n",
    "# - only one word targets\n",
    "# - no punctuation\n",
    "# Produce clues with 20 substitutions (10 scramble, 10 sub)\n",
    "def get_clues_with_subs(\n",
    "        clue_list: List[BaseClue],\n",
    "        num_subs=10) -> List[ClueWithSubstitutions]:\n",
    "    random.seed(42)\n",
    "\n",
    "    # produce a map from the name length to list of names with that length\n",
    "    def get_names_map() -> Tuple[List[str], Dict[int, List[str]]]:\n",
    "        names = list()\n",
    "        dir_glob = glob(str(config.DataDirs.OriginalData.k_names / \"*.txt\"))\n",
    "        for name_file in dir_glob:\n",
    "            with open(name_file, 'r') as f:\n",
    "                names.extend([x.strip() for x in f.readlines()])\n",
    "\n",
    "        # get mapping from length to names\n",
    "        def make_length_to_names_map():\n",
    "            length_to_names_set = defaultdict(set)\n",
    "            for name in names:\n",
    "                length_to_names_set[len(name)].add(name)\n",
    "\n",
    "            # convert to lists\n",
    "            length_to_names = defaultdict(list)\n",
    "            for k,v in length_to_names_set.items():\n",
    "                length_to_names[k] = list(v)\n",
    "            return length_to_names\n",
    "\n",
    "        all_names = list(set(names))            # dedupe\n",
    "        # len(all_names)\n",
    "        # sum(map(len, names_map.values()))     # total names\n",
    "        names_map = make_length_to_names_map()\n",
    "        return all_names, names_map\n",
    "    all_names_list, names_map = get_names_map()\n",
    "    all_names_set = set(all_names_list)\n",
    "\n",
    "    # For each of the possible clues, look for those that have a first name\n",
    "    clues_with_subs = []        # we accumulate ClueWithSubstitution\n",
    "    for sc in tqdm(clue_list):\n",
    "        if len(sc.lengths) > 1:     # skip multiword outputs\n",
    "            continue\n",
    "\n",
    "        s = sorted(sc.soln.lower())\n",
    "        anagram_substrate = None\n",
    "        word_idx = None\n",
    "\n",
    "        # find the word that was actually the anagram substrate (i.e. we are looking for\n",
    "        # anagrams that are a full word)\n",
    "        words: List[str] = sc.clue_with_lengths().split(' ')\n",
    "        for idx, w in enumerate(words):\n",
    "            if not len(w) == len(s):    # verify length - this cannot be the substrate if it's not correct len\n",
    "                continue\n",
    "            if not w.isalpha():         # skip, e.g. any anagram substrate that has some punctuation\n",
    "                continue\n",
    "            # this one is probably redundant with .isalpha()\n",
    "            if not sorted(w.lower()) == s:  # verify that the word is in fact an anagram\n",
    "                continue\n",
    "            if w in all_names_set:\n",
    "                anagram_substrate = w\n",
    "                word_idx = idx\n",
    "                break\n",
    "        # skip clue if we didn't find the anagram substrate\n",
    "        if anagram_substrate is None:\n",
    "            continue\n",
    "\n",
    "        # success: we found the anagram substrate!\n",
    "        print(sc)\n",
    "\n",
    "        # create substitutions\n",
    "        # we will fill in the substitutions part below with 10 each of\n",
    "        # - scramble\n",
    "        # - new name\n",
    "        sub_clue = ClueWithSubstitutions(\n",
    "            orig_input=sc.clue_with_lengths(),\n",
    "            word_to_be_swapped=anagram_substrate,\n",
    "            target=sc.soln,\n",
    "            substitutions=[]\n",
    "        )\n",
    "\n",
    "        # scramble substition\n",
    "        for i in range(num_subs):\n",
    "            x = list(anagram_substrate.lower())\n",
    "            random.shuffle(x)\n",
    "            new_word = \"\".join(x).capitalize()\n",
    "            words[word_idx] = new_word\n",
    "            new_clue_str = \" \".join(words)\n",
    "            sub_clue.substitutions.append(Substitution(new_clue_str, new_word))\n",
    "\n",
    "        # real name substitutions\n",
    "        subs_list = random.sample(names_map[len(anagram_substrate)], k=num_subs)\n",
    "        for new_word in subs_list:\n",
    "            words[word_idx] = new_word\n",
    "            new_clue_str = \" \".join(words)\n",
    "            sub_clue.substitutions.append(Substitution(new_clue_str, new_word))\n",
    "        clues_with_subs.append(sub_clue)\n",
    "    return clues_with_subs\n",
    "\n",
    "# write json for use by model\n",
    "def write_json(input_list, name):\n",
    "    os.makedirs(config.DataDirs.DataExport.wordplay_dir, exist_ok=True)\n",
    "    fname = config.DataDirs.DataExport.wordplay_dir / f'{name}_subs.json'\n",
    "    with open(fname, 'w') as f:\n",
    "        v_subs_json = [v.to_dict() for v in input_list]\n",
    "        json.dump(v_subs_json, f)"
   ],
   "metadata": {
    "collapsed": false,
    "pycharm": {
     "name": "#%%\n"
    }
   }
  },
  {
   "cell_type": "code",
   "execution_count": 10,
   "outputs": [
    {
     "name": "stderr",
     "output_type": "stream",
     "text": [
      "INFO:decrypt.scrape_parse.guardian_load:loading from /Users/jsrozner/MOUNT/scdt/decrypt/data/puzzles\n",
      "INFO:decrypt.scrape_parse.guardian_load:Using file glob at /Users/jsrozner/MOUNT/scdt/decrypt/data/puzzles/cryptic*.json\n",
      "INFO:decrypt.scrape_parse.guardian_load:Glob has size 5518\n",
      "INFO:decrypt.scrape_parse.guardian_load:Glob size matches the expected one from Decrypting paper\n",
      "100%|██████████| 5518/5518 [01:21<00:00, 67.38it/s]\n",
      " 64%|██████▍   | 92531/143991 [00:00<00:00, 467659.41it/s]"
     ]
    },
    {
     "name": "stdout",
     "output_type": "stream",
     "text": [
      "[(\"length punct: '\", 1),\n",
      " ('invalid: clue group', 7687),\n",
      " ('invalid: invalid start char (most are continuation clues)', 607),\n",
      " ('invalid: number in clue (commonly references another clue)', 7066),\n",
      " ('invalid: regexp', 75),\n",
      " ('invalid: soln length does not match specified lens (multi box soln)', 56),\n",
      " ('invalid: unrecognized char in clue (e.g. html)', 85),\n",
      " ('invalid: zero-len clue text after regexp', 15),\n",
      " ('length punct: ,', 24644),\n",
      " ('length punct: -', 4148),\n",
      " ('length punct: .', 8),\n",
      " ('length punct: /', 1),\n",
      " ('stat: parsed_puzzle', 5518),\n",
      " ('stat: total_clues', 143991),\n",
      " (1, 119956),\n",
      " (2, 20272),\n",
      " (3, 2957),\n",
      " (4, 686),\n",
      " (5, 112),\n",
      " (6, 8)]\n",
      "Total clues: len(puzz_list)\n"
     ]
    },
    {
     "name": "stderr",
     "output_type": "stream",
     "text": [
      "100%|██████████| 143991/143991 [00:00<00:00, 461233.59it/s]\n",
      "100%|██████████| 55783/55783 [00:02<00:00, 22157.52it/s]\n",
      "INFO:decrypt.scrape_parse.guardian_load:Counter({1: 118540, 2: 20105, 3: 2929, 4: 686, 5: 112, 6: 8})\n",
      "INFO:decrypt.scrape_parse.guardian_load:Clue list length matches Decrypting paper expected length\n"
     ]
    },
    {
     "name": "stdout",
     "output_type": "stream",
     "text": [
      "removed 1611 exact dupes\n",
      "142380\n"
     ]
    },
    {
     "name": "stderr",
     "output_type": "stream",
     "text": [
      "INFO:decrypt.scrape_parse.guardian_load:Got splits of lenghts [85428, 28476, 28476]\n",
      "INFO:decrypt.scrape_parse.guardian_load:First three clues of train set:\n",
      "\t[GuardianClue(clue='Suffering to grasp edge of plant', lengths=[8], soln='agrimony', soln_with_spaces='agrimony', idx=85002, dataset=PosixPath('/Users/jsrozner/MOUNT/scdt/decrypt/data/puzzles'), across_or_down='across', pos=(7, 4), unique_clue_id='cryptic_25415_11-across', type='cryptic', number=25415, id='crosswords/cryptic/25415', creator='Chifonie', orig_lengths='8', lengths_punctuation=set()), GuardianClue(clue='Honour Ben and Noel with new order', lengths=[7], soln='ennoble', soln_with_spaces='ennoble', idx=3432, dataset=PosixPath('/Users/jsrozner/MOUNT/scdt/decrypt/data/puzzles'), across_or_down='down', pos=(7, 8), unique_clue_id='cryptic_24994_18-down', type='cryptic', number=24994, id='crosswords/cryptic/24994', creator='Rufus', orig_lengths='7', lengths_punctuation=set()), GuardianClue(clue='Bit the royal we love? Cheers!', lengths=[4], soln='iota', soln_with_spaces='iota', idx=25530, dataset=PosixPath('/Users/jsrozner/MOUNT/scdt/decrypt/data/puzzles'), across_or_down='across', pos=(0, 10), unique_clue_id='cryptic_26632_21-across', type='cryptic', number=26632, id='crosswords/cryptic/26632', creator='Screw', orig_lengths='4', lengths_punctuation=set())]\n",
      "INFO:decrypt.scrape_parse.guardian_load:Verifying splits match Decrypting paper: Spot test clue 5111 has correct text\n",
      "100%|██████████| 142380/142380 [00:06<00:00, 20938.19it/s]\n",
      "INFO:decrypt.scrape_parse.guardian_load:loading from /Users/jsrozner/MOUNT/scdt/decrypt/data/puzzles\n",
      "INFO:decrypt.scrape_parse.guardian_load:Using file glob at /Users/jsrozner/MOUNT/scdt/decrypt/data/puzzles/cryptic*.json\n",
      "INFO:decrypt.scrape_parse.guardian_load:Glob has size 5518\n",
      "INFO:decrypt.scrape_parse.guardian_load:Glob size matches the expected one from Decrypting paper\n",
      "100%|██████████| 5518/5518 [01:24<00:00, 65.28it/s] \n",
      " 46%|████▌     | 65860/143991 [00:00<00:00, 658592.78it/s]"
     ]
    },
    {
     "name": "stdout",
     "output_type": "stream",
     "text": [
      "[(\"length punct: '\", 1),\n",
      " ('invalid: clue group', 7687),\n",
      " ('invalid: invalid start char (most are continuation clues)', 607),\n",
      " ('invalid: number in clue (commonly references another clue)', 7066),\n",
      " ('invalid: regexp', 75),\n",
      " ('invalid: soln length does not match specified lens (multi box soln)', 56),\n",
      " ('invalid: unrecognized char in clue (e.g. html)', 85),\n",
      " ('invalid: zero-len clue text after regexp', 15),\n",
      " ('length punct: ,', 24644),\n",
      " ('length punct: -', 4148),\n",
      " ('length punct: .', 8),\n",
      " ('length punct: /', 1),\n",
      " ('stat: parsed_puzzle', 5518),\n",
      " ('stat: total_clues', 143991),\n",
      " (1, 119956),\n",
      " (2, 20272),\n",
      " (3, 2957),\n",
      " (4, 686),\n",
      " (5, 112),\n",
      " (6, 8)]\n",
      "Total clues: len(puzz_list)\n"
     ]
    },
    {
     "name": "stderr",
     "output_type": "stream",
     "text": [
      "100%|██████████| 143991/143991 [00:01<00:00, 90459.49it/s]\n",
      "100%|██████████| 55783/55783 [00:04<00:00, 13215.39it/s]\n",
      "INFO:decrypt.scrape_parse.guardian_load:Counter({1: 118540, 2: 20105, 3: 2929, 4: 686, 5: 112, 6: 8})\n"
     ]
    },
    {
     "name": "stdout",
     "output_type": "stream",
     "text": [
      "removed 1611 exact dupes\n",
      "142380\n"
     ]
    },
    {
     "name": "stderr",
     "output_type": "stream",
     "text": [
      "INFO:decrypt.scrape_parse.guardian_load:Clue list length matches Decrypting paper expected length\n",
      "INFO:decrypt.scrape_parse.guardian_load:Got splits of lenghts [85428, 28476, 28476]\n",
      "INFO:decrypt.scrape_parse.guardian_load:First three clues of train set:\n",
      "\t[GuardianClue(clue='Suffering to grasp edge of plant', lengths=[8], soln='agrimony', soln_with_spaces='agrimony', idx=85002, dataset=PosixPath('/Users/jsrozner/MOUNT/scdt/decrypt/data/puzzles'), across_or_down='across', pos=(7, 4), unique_clue_id='cryptic_25415_11-across', type='cryptic', number=25415, id='crosswords/cryptic/25415', creator='Chifonie', orig_lengths='8', lengths_punctuation=set()), GuardianClue(clue='Honour Ben and Noel with new order', lengths=[7], soln='ennoble', soln_with_spaces='ennoble', idx=3432, dataset=PosixPath('/Users/jsrozner/MOUNT/scdt/decrypt/data/puzzles'), across_or_down='down', pos=(7, 8), unique_clue_id='cryptic_24994_18-down', type='cryptic', number=24994, id='crosswords/cryptic/24994', creator='Rufus', orig_lengths='7', lengths_punctuation=set()), GuardianClue(clue='Bit the royal we love? Cheers!', lengths=[4], soln='iota', soln_with_spaces='iota', idx=25530, dataset=PosixPath('/Users/jsrozner/MOUNT/scdt/decrypt/data/puzzles'), across_or_down='across', pos=(0, 10), unique_clue_id='cryptic_26632_21-across', type='cryptic', number=26632, id='crosswords/cryptic/26632', creator='Screw', orig_lengths='4', lengths_punctuation=set())]\n",
      "INFO:decrypt.scrape_parse.guardian_load:Verifying splits match Decrypting paper: Spot test clue 5111 has correct text\n"
     ]
    },
    {
     "name": "stdout",
     "output_type": "stream",
     "text": [
      "9045\n",
      "2946\n"
     ]
    }
   ],
   "source": [
    "train_list, val_list = load_train_and_val_direct_anag_sets()"
   ],
   "metadata": {
    "collapsed": false,
    "pycharm": {
     "name": "#%%\n"
    }
   }
  },
  {
   "cell_type": "code",
   "execution_count": 14,
   "outputs": [
    {
     "name": "stderr",
     "output_type": "stream",
     "text": [
      "100%|██████████| 2946/2946 [00:00<00:00, 108221.62it/s]\n",
      "100%|██████████| 9045/9045 [00:00<00:00, 82476.91it/s]"
     ]
    },
    {
     "name": "stdout",
     "output_type": "stream",
     "text": [
      "GuardianClue(clue='Cameron is recollected in Italian city', lengths=[7], soln='cremona', soln_with_spaces='cremona', idx=112, dataset=PosixPath('/Users/jsrozner/MOUNT/scdt/decrypt/data/puzzles'), across_or_down='across', pos=(8, 0), unique_clue_id='cryptic_27765_5-across', type='cryptic', number=27765, id='crosswords/cryptic/27765', creator='Orlando', orig_lengths='7', lengths_punctuation=set())\n",
      "GuardianClue(clue='Denial from Antigone', lengths=[8], soln='negation', soln_with_spaces='negation', idx=33488, dataset=PosixPath('/Users/jsrozner/MOUNT/scdt/decrypt/data/puzzles'), across_or_down='down', pos=(12, 0), unique_clue_id='cryptic_27312_7-down', type='cryptic', number=27312, id='crosswords/cryptic/27312', creator='Philistine', orig_lengths='8', lengths_punctuation=set())\n",
      "GuardianClue(clue='Arne given order of merit', lengths=[4], soln='earn', soln_with_spaces='earn', idx=67295, dataset=PosixPath('/Users/jsrozner/MOUNT/scdt/decrypt/data/puzzles'), across_or_down='across', pos=(11, 12), unique_clue_id='cryptic_22554_27-across', type='cryptic', number=22554, id='crosswords/cryptic/22554', creator='Rufus', orig_lengths='4', lengths_punctuation=set())\n",
      "GuardianClue(clue='General change is swell', lengths=[7], soln='enlarge', soln_with_spaces='enlarge', idx=34780, dataset=PosixPath('/Users/jsrozner/MOUNT/scdt/decrypt/data/puzzles'), across_or_down='down', pos=(13, 8), unique_clue_id='cryptic_27891_22-down', type='cryptic', number=27891, id='crosswords/cryptic/27891', creator='Vulcan', orig_lengths='7', lengths_punctuation=set())\n",
      "GuardianClue(clue='Material for Conrad novel', lengths=[6], soln='dacron', soln_with_spaces='dacron', idx=36114, dataset=PosixPath('/Users/jsrozner/MOUNT/scdt/decrypt/data/puzzles'), across_or_down='across', pos=(8, 1), unique_clue_id='cryptic_21998_6-across', type='cryptic', number=21998, id='crosswords/cryptic/21998', creator='Orlando', orig_lengths='6', lengths_punctuation=set())\n",
      "GuardianClue(clue='Marian in fashion - wearing this designer label?', lengths=[6], soln='armani', soln_with_spaces='armani', idx=101762, dataset=PosixPath('/Users/jsrozner/MOUNT/scdt/decrypt/data/puzzles'), across_or_down='across', pos=(0, 12), unique_clue_id='cryptic_23880_23-across', type='cryptic', number=23880, id='crosswords/cryptic/23880', creator='Rufus', orig_lengths='6', lengths_punctuation=set())\n",
      "GuardianClue(clue='Designer label excited Marian', lengths=[6], soln='armani', soln_with_spaces='armani', idx=101763, dataset=PosixPath('/Users/jsrozner/MOUNT/scdt/decrypt/data/puzzles'), across_or_down='down', pos=(4, 9), unique_clue_id='cryptic_24302_21-down', type='cryptic', number=24302, id='crosswords/cryptic/24302', creator='Rufus', orig_lengths='6', lengths_punctuation=set())\n",
      "GuardianClue(clue='Those screaming as Presley gyrates', lengths=[7], soln='yelpers', soln_with_spaces='yelpers', idx=137218, dataset=PosixPath('/Users/jsrozner/MOUNT/scdt/decrypt/data/puzzles'), across_or_down='across', pos=(0, 14), unique_clue_id='cryptic_27277_27-across', type='cryptic', number=27277, id='crosswords/cryptic/27277', creator='Tramp', orig_lengths='7', lengths_punctuation=set())\n",
      "GuardianClue(clue='Nigel playing with marbles?', lengths=[5], soln='elgin', soln_with_spaces='elgin', idx=6803, dataset=PosixPath('/Users/jsrozner/MOUNT/scdt/decrypt/data/puzzles'), across_or_down='down', pos=(10, 10), unique_clue_id='cryptic_25786_24-down', type='cryptic', number=25786, id='crosswords/cryptic/25786', creator='Gordius', orig_lengths='5', lengths_punctuation=set())\n",
      "GuardianClue(clue='Alice cured of the small intestine', lengths=[5], soln='ileac', soln_with_spaces='ileac', idx=74652, dataset=PosixPath('/Users/jsrozner/MOUNT/scdt/decrypt/data/puzzles'), across_or_down='across', pos=(0, 12), unique_clue_id='cryptic_22759_28-across', type='cryptic', number=22759, id='crosswords/cryptic/22759', creator='Logodaedalus', orig_lengths='5', lengths_punctuation=set())\n",
      "GuardianClue(clue='Tory disaster caused by one lacking experience', lengths=[4], soln='tyro', soln_with_spaces='tyro', idx=77621, dataset=PosixPath('/Users/jsrozner/MOUNT/scdt/decrypt/data/puzzles'), across_or_down='down', pos=(6, 11), unique_clue_id='cryptic_25741_23-down', type='cryptic', number=25741, id='crosswords/cryptic/25741', creator='Gordius', orig_lengths='4', lengths_punctuation=set())\n",
      "GuardianClue(clue='Prescott changes guards', lengths=[8], soln='protects', soln_with_spaces='protects', idx=110407, dataset=PosixPath('/Users/jsrozner/MOUNT/scdt/decrypt/data/puzzles'), across_or_down='down', pos=(6, 7), unique_clue_id='cryptic_24323_16-down', type='cryptic', number=24323, id='crosswords/cryptic/24323', creator='Shed', orig_lengths='8', lengths_punctuation=set())\n",
      "GuardianClue(clue='Encourage Jonnie indecently', lengths=[6], soln='enjoin', soln_with_spaces='enjoin', idx=110714, dataset=PosixPath('/Users/jsrozner/MOUNT/scdt/decrypt/data/puzzles'), across_or_down='across', pos=(1, 7), unique_clue_id='cryptic_24347_15-across', type='cryptic', number=24347, id='crosswords/cryptic/24347', creator='Logodaedalus', orig_lengths='6', lengths_punctuation=set())\n",
      "GuardianClue(clue='One for me, says drunken Dora', lengths=[4], soln='road', soln_with_spaces='road', idx=12928, dataset=PosixPath('/Users/jsrozner/MOUNT/scdt/decrypt/data/puzzles'), across_or_down='down', pos=(1, 0), unique_clue_id='cryptic_21733_2-down', type='cryptic', number=21733, id='crosswords/cryptic/21733', creator='Logodaedalus', orig_lengths='4', lengths_punctuation=set())\n",
      "GuardianClue(clue='Cake made by Claire', lengths=[6], soln='eclair', soln_with_spaces='eclair', idx=13841, dataset=PosixPath('/Users/jsrozner/MOUNT/scdt/decrypt/data/puzzles'), across_or_down='across', pos=(9, 1), unique_clue_id='cryptic_21743_9-across', type='cryptic', number=21743, id='crosswords/cryptic/21743', creator='Rufus', orig_lengths='6', lengths_punctuation=set())\n",
      "GuardianClue(clue='Tempt poor Glenda', lengths=[6], soln='dangle', soln_with_spaces='dangle', idx=81565, dataset=PosixPath('/Users/jsrozner/MOUNT/scdt/decrypt/data/puzzles'), across_or_down='across', pos=(8, 6), unique_clue_id='cryptic_24867_15-across', type='cryptic', number=24867, id='crosswords/cryptic/24867', creator='Chifonie', orig_lengths='6', lengths_punctuation=set())\n",
      "GuardianClue(clue='Martin served in Ulster', lengths=[6], soln='antrim', soln_with_spaces='antrim', idx=50386, dataset=PosixPath('/Users/jsrozner/MOUNT/scdt/decrypt/data/puzzles'), across_or_down='across', pos=(0, 12), unique_clue_id='cryptic_22892_26-across', type='cryptic', number=22892, id='crosswords/cryptic/22892', creator='Gordius', orig_lengths='6', lengths_punctuation=set())\n",
      "GuardianClue(clue='Name Dianne differently', lengths=[6], soln='nadine', soln_with_spaces='nadine', idx=85144, dataset=PosixPath('/Users/jsrozner/MOUNT/scdt/decrypt/data/puzzles'), across_or_down='across', pos=(9, 9), unique_clue_id='cryptic_24656_22-across', type='cryptic', number=24656, id='crosswords/cryptic/24656', creator='Brendan', orig_lengths='6', lengths_punctuation=set())\n",
      "GuardianClue(clue='Martine converted in this tower', lengths=[7], soln='minaret', soln_with_spaces='minaret', idx=52763, dataset=PosixPath('/Users/jsrozner/MOUNT/scdt/decrypt/data/puzzles'), across_or_down='across', pos=(8, 5), unique_clue_id='cryptic_22816_15-across', type='cryptic', number=22816, id='crosswords/cryptic/22816', creator='Logodaedalus', orig_lengths='7', lengths_punctuation=set())\n",
      "GuardianClue(clue='Roman comic opera', lengths=[5], soln='norma', soln_with_spaces='norma', idx=20544, dataset=PosixPath('/Users/jsrozner/MOUNT/scdt/decrypt/data/puzzles'), across_or_down='down', pos=(12, 0), unique_clue_id='cryptic_22736_7-down', type='cryptic', number=22736, id='crosswords/cryptic/22736', creator='Rover', orig_lengths='5', lengths_punctuation=set())\n",
      "GuardianClue(clue='German recollected something in memory', lengths=[6], soln='engram', soln_with_spaces='engram', idx=88996, dataset=PosixPath('/Users/jsrozner/MOUNT/scdt/decrypt/data/puzzles'), across_or_down='down', pos=(12, 9), unique_clue_id='cryptic_25725_23-down', type='cryptic', number=25725, id='crosswords/cryptic/25725', creator='Brendan', orig_lengths='6', lengths_punctuation=set())\n",
      "GuardianClue(clue='Trace misdirected supply', lengths=[5], soln='cater', soln_with_spaces='cater', idx=57418, dataset=PosixPath('/Users/jsrozner/MOUNT/scdt/decrypt/data/puzzles'), across_or_down='across', pos=(0, 12), unique_clue_id='cryptic_22340_24-across', type='cryptic', number=22340, id='crosswords/cryptic/22340', creator='Rufus', orig_lengths='5', lengths_punctuation=set())\n",
      "GuardianClue(clue='Lady Diana manipulated?', lengths=[5], soln='nadia', soln_with_spaces='nadia', idx=58911, dataset=PosixPath('/Users/jsrozner/MOUNT/scdt/decrypt/data/puzzles'), across_or_down='across', pos=(0, 13), unique_clue_id='cryptic_23000_26-across', type='cryptic', number=23000, id='crosswords/cryptic/23000', creator='Paul', orig_lengths='5', lengths_punctuation=set())\n",
      "GuardianClue(clue='Master disciplined a group of pupils', lengths=[6], soln='stream', soln_with_spaces='stream', idx=26567, dataset=PosixPath('/Users/jsrozner/MOUNT/scdt/decrypt/data/puzzles'), across_or_down='down', pos=(12, 9), unique_clue_id='cryptic_25540_19-down', type='cryptic', number=25540, id='crosswords/cryptic/25540', creator='Pasquale', orig_lengths='6', lengths_punctuation=set())\n",
      "GuardianClue(clue='Unorthodox Easter saint', lengths=[6], soln='teresa', soln_with_spaces='teresa', idx=92699, dataset=PosixPath('/Users/jsrozner/MOUNT/scdt/decrypt/data/puzzles'), across_or_down='down', pos=(12, 9), unique_clue_id='cryptic_23377_19-down', type='cryptic', number=23377, id='crosswords/cryptic/23377', creator='Rufus', orig_lengths='6', lengths_punctuation=set())\n",
      "GuardianClue(clue='Rodney could be in that place', lengths=[6], soln='yonder', soln_with_spaces='yonder', idx=93992, dataset=PosixPath('/Users/jsrozner/MOUNT/scdt/decrypt/data/puzzles'), across_or_down='across', pos=(0, 14), unique_clue_id='cryptic_23435_26-across', type='cryptic', number=23435, id='crosswords/cryptic/23435', creator='Logodaedalus', orig_lengths='6', lengths_punctuation=set())\n",
      "GuardianClue(clue='Monster in Hardy novel', lengths=[5], soln='hydra', soln_with_spaces='hydra', idx=64605, dataset=PosixPath('/Users/jsrozner/MOUNT/scdt/decrypt/data/puzzles'), across_or_down='across', pos=(10, 10), unique_clue_id='cryptic_23930_24-across', type='cryptic', number=23930, id='crosswords/cryptic/23930', creator='Chifonie', orig_lengths='5', lengths_punctuation=set())\n",
      "GuardianClue(clue='Sign of Blair embarrassment?', lengths=[5], soln='libra', soln_with_spaces='libra', idx=73, dataset=PosixPath('/Users/jsrozner/MOUNT/scdt/decrypt/data/puzzles'), across_or_down='across', pos=(10, 12), unique_clue_id='cryptic_22028_24-across', type='cryptic', number=22028, id='crosswords/cryptic/22028', creator='Gordius', orig_lengths='5', lengths_punctuation=set())\n",
      "GuardianClue(clue='Manual put out for past student', lengths=[6], soln='alumna', soln_with_spaces='alumna', idx=131292, dataset=PosixPath('/Users/jsrozner/MOUNT/scdt/decrypt/data/puzzles'), across_or_down='down', pos=(9, 0), unique_clue_id='cryptic_26389_5-down', type='cryptic', number=26389, id='crosswords/cryptic/26389', creator='Rufus', orig_lengths='6', lengths_punctuation=set())\n",
      "GuardianClue(clue='Lois becomes a medium', lengths=[4], soln='oils', soln_with_spaces='oils', idx=628, dataset=PosixPath('/Users/jsrozner/MOUNT/scdt/decrypt/data/puzzles'), across_or_down='down', pos=(1, 0), unique_clue_id='cryptic_21623_2-down', type='cryptic', number=21623, id='crosswords/cryptic/21623', creator='Rufus', orig_lengths='4', lengths_punctuation=set())\n",
      "GuardianClue(clue='Set of three April fools', lengths=[5], soln='prial', soln_with_spaces='prial', idx=132389, dataset=PosixPath('/Users/jsrozner/MOUNT/scdt/decrypt/data/puzzles'), across_or_down='down', pos=(10, 10), unique_clue_id='cryptic_26534_23-down', type='cryptic', number=26534, id='crosswords/cryptic/26534', creator='Atë', orig_lengths='5', lengths_punctuation=set())\n",
      "GuardianClue(clue='Expand the General Assembly', lengths=[7], soln='enlarge', soln_with_spaces='enlarge', idx=34769, dataset=PosixPath('/Users/jsrozner/MOUNT/scdt/decrypt/data/puzzles'), across_or_down='down', pos=(14, 0), unique_clue_id='cryptic_21980_8-down', type='cryptic', number=21980, id='crosswords/cryptic/21980', creator='Taupi', orig_lengths='7', lengths_punctuation=set())\n",
      "GuardianClue(clue='General bursting balloon', lengths=[7], soln='enlarge', soln_with_spaces='enlarge', idx=34778, dataset=PosixPath('/Users/jsrozner/MOUNT/scdt/decrypt/data/puzzles'), across_or_down='across', pos=(0, 14), unique_clue_id='cryptic_27248_27-across', type='cryptic', number=27248, id='crosswords/cryptic/27248', creator='Paul', orig_lengths='7', lengths_punctuation=set())\n",
      "GuardianClue(clue='Show off in Venice', lengths=[6], soln='evince', soln_with_spaces='evince', idx=2927, dataset=PosixPath('/Users/jsrozner/MOUNT/scdt/decrypt/data/puzzles'), across_or_down='across', pos=(0, 6), unique_clue_id='cryptic_25985_12-across', type='cryptic', number=25985, id='crosswords/cryptic/25985', creator='Orlando', orig_lengths='6', lengths_punctuation=set())\n",
      "GuardianClue(clue='Show how Venice developed', lengths=[6], soln='evince', soln_with_spaces='evince', idx=2932, dataset=PosixPath('/Users/jsrozner/MOUNT/scdt/decrypt/data/puzzles'), across_or_down='down', pos=(2, 0), unique_clue_id='cryptic_27209_2-down', type='cryptic', number=27209, id='crosswords/cryptic/27209', creator='Rufus', orig_lengths='6', lengths_punctuation=set())\n",
      "GuardianClue(clue='Puts back in the oven - Theresa is worried', lengths=[7], soln='reheats', soln_with_spaces='reheats', idx=134412, dataset=PosixPath('/Users/jsrozner/MOUNT/scdt/decrypt/data/puzzles'), across_or_down='down', pos=(4, 0), unique_clue_id='cryptic_26827_2-down', type='cryptic', number=26827, id='crosswords/cryptic/26827', creator='Maskarade', orig_lengths='7', lengths_punctuation=set())\n",
      "GuardianClue(clue='Designer label unusual for Marian', lengths=[6], soln='armani', soln_with_spaces='armani', idx=101767, dataset=PosixPath('/Users/jsrozner/MOUNT/scdt/decrypt/data/puzzles'), across_or_down='down', pos=(5, 9), unique_clue_id='cryptic_26245_22-down', type='cryptic', number=26245, id='crosswords/cryptic/26245', creator='Rufus', orig_lengths='6', lengths_punctuation=set())\n",
      "GuardianClue(clue='Found out, Eddy coloured', lengths=[4], soln='dyed', soln_with_spaces='dyed', idx=134656, dataset=PosixPath('/Users/jsrozner/MOUNT/scdt/decrypt/data/puzzles'), across_or_down='down', pos=(14, 0), unique_clue_id='cryptic_26861_8-down', type='cryptic', number=26861, id='crosswords/cryptic/26861', creator='Rufus', orig_lengths='4', lengths_punctuation=set())\n",
      "GuardianClue(clue='Diana metamorphosed into a nymph', lengths=[5], soln='naiad', soln_with_spaces='naiad', idx=36964, dataset=PosixPath('/Users/jsrozner/MOUNT/scdt/decrypt/data/puzzles'), across_or_down='across', pos=(0, 6), unique_clue_id='cryptic_24118_14-across', type='cryptic', number=24118, id='crosswords/cryptic/24118', creator='Arachne', orig_lengths='5', lengths_punctuation=set())\n",
      "GuardianClue(clue='Ronaldo playing for US city', lengths=[7], soln='orlando', soln_with_spaces='orlando', idx=37638, dataset=PosixPath('/Users/jsrozner/MOUNT/scdt/decrypt/data/puzzles'), across_or_down='across', pos=(0, 14), unique_clue_id='cryptic_26558_27-across', type='cryptic', number=26558, id='crosswords/cryptic/26558', creator='Otterden', orig_lengths='7', lengths_punctuation=set())\n",
      "GuardianClue(clue=\"Mister Wrong's briefs\", lengths=[6], soln='remits', soln_with_spaces='remits', idx=103272, dataset=PosixPath('/Users/jsrozner/MOUNT/scdt/decrypt/data/puzzles'), across_or_down='down', pos=(9, 0), unique_clue_id='cryptic_23888_6-down', type='cryptic', number=23888, id='crosswords/cryptic/23888', creator='Arachne', orig_lengths='6', lengths_punctuation=set())\n",
      "GuardianClue(clue='Cameron broadcast lie', lengths=[7], soln='romance', soln_with_spaces='romance', idx=70893, dataset=PosixPath('/Users/jsrozner/MOUNT/scdt/decrypt/data/puzzles'), across_or_down='down', pos=(3, 8), unique_clue_id='cryptic_26192_17-down', type='cryptic', number=26192, id='crosswords/cryptic/26192', creator='Arachne', orig_lengths='7', lengths_punctuation=set())\n",
      "GuardianClue(clue='A paper decoration from China', lengths=[5], soln='chain', soln_with_spaces='chain', idx=38648, dataset=PosixPath('/Users/jsrozner/MOUNT/scdt/decrypt/data/puzzles'), across_or_down='down', pos=(3, 0), unique_clue_id='cryptic_25827_3-down', type='cryptic', number=25827, id='crosswords/cryptic/25827', creator='Rufus', orig_lengths='5', lengths_punctuation=set())\n",
      "GuardianClue(clue='Cathy rocks the boat', lengths=[5], soln='yacht', soln_with_spaces='yacht', idx=39060, dataset=PosixPath('/Users/jsrozner/MOUNT/scdt/decrypt/data/puzzles'), across_or_down='down', pos=(6, 0), unique_clue_id='cryptic_24028_4-down', type='cryptic', number=24028, id='crosswords/cryptic/24028', creator='Rufus', orig_lengths='5', lengths_punctuation=set())\n",
      "GuardianClue(clue='Rocky English beach', lengths=[7], soln='shingle', soln_with_spaces='shingle', idx=39177, dataset=PosixPath('/Users/jsrozner/MOUNT/scdt/decrypt/data/puzzles'), across_or_down='across', pos=(8, 0), unique_clue_id='cryptic_22042_5-across', type='cryptic', number=22042, id='crosswords/cryptic/22042', creator='Crispa', orig_lengths='7', lengths_punctuation=set())\n",
      "GuardianClue(clue='Fragments of rock in broken English', lengths=[7], soln='shingle', soln_with_spaces='shingle', idx=39182, dataset=PosixPath('/Users/jsrozner/MOUNT/scdt/decrypt/data/puzzles'), across_or_down='across', pos=(0, 7), unique_clue_id='cryptic_27379_15-across', type='cryptic', number=27379, id='crosswords/cryptic/27379', creator='Boatman', orig_lengths='7', lengths_punctuation=set())\n",
      "GuardianClue(clue='A sage, Irish from first to last', lengths=[5], soln='rishi', soln_with_spaces='rishi', idx=105233, dataset=PosixPath('/Users/jsrozner/MOUNT/scdt/decrypt/data/puzzles'), across_or_down='down', pos=(4, 10), unique_clue_id='cryptic_24001_23-down', type='cryptic', number=24001, id='crosswords/cryptic/24001', creator='Gordius', orig_lengths='5', lengths_punctuation=set())\n",
      "GuardianClue(clue='Desire terribly half the above', lengths=[6], soln='reside', soln_with_spaces='reside', idx=40297, dataset=PosixPath('/Users/jsrozner/MOUNT/scdt/decrypt/data/puzzles'), across_or_down='down', pos=(2, 9), unique_clue_id='cryptic_23309_20-down', type='cryptic', number=23309, id='crosswords/cryptic/23309', creator='Araucaria', orig_lengths='6', lengths_punctuation=set())\n",
      "GuardianClue(clue='Property of Roman building', lengths=[5], soln='manor', soln_with_spaces='manor', idx=105896, dataset=PosixPath('/Users/jsrozner/MOUNT/scdt/decrypt/data/puzzles'), across_or_down='across', pos=(10, 14), unique_clue_id='cryptic_24375_26-across', type='cryptic', number=24375, id='crosswords/cryptic/24375', creator='Gordius', orig_lengths='5', lengths_punctuation=set())\n",
      "GuardianClue(clue='Silly Alfred exploded', lengths=[6], soln='flared', soln_with_spaces='flared', idx=106034, dataset=PosixPath('/Users/jsrozner/MOUNT/scdt/decrypt/data/puzzles'), across_or_down='across', pos=(9, 4), unique_clue_id='cryptic_24044_12-across', type='cryptic', number=24044, id='crosswords/cryptic/24044', creator='Rover', orig_lengths='6', lengths_punctuation=set())\n",
      "GuardianClue(clue='Aristotle tinkered with system for the better', lengths=[9], soln='totaliser', soln_with_spaces='totaliser', idx=106222, dataset=PosixPath('/Users/jsrozner/MOUNT/scdt/decrypt/data/puzzles'), across_or_down='across', pos=(0, 8), unique_clue_id='cryptic_28068_17-across', type='cryptic', number=28068, id='crosswords/cryptic/28068', creator='Picaroon', orig_lengths='9', lengths_punctuation=set())\n",
      "GuardianClue(clue='They happen to upset Steven', lengths=[6], soln='events', soln_with_spaces='events', idx=73653, dataset=PosixPath('/Users/jsrozner/MOUNT/scdt/decrypt/data/puzzles'), across_or_down='across', pos=(0, 4), unique_clue_id='cryptic_26143_12-across', type='cryptic', number=26143, id='crosswords/cryptic/26143', creator='Rufus', orig_lengths='6', lengths_punctuation=set())\n",
      "GuardianClue(clue='Mary served as host', lengths=[4], soln='army', soln_with_spaces='army', idx=8423, dataset=PosixPath('/Users/jsrozner/MOUNT/scdt/decrypt/data/puzzles'), across_or_down='down', pos=(4, 11), unique_clue_id='cryptic_27309_25-down', type='cryptic', number=27309, id='crosswords/cryptic/27309', creator='Qaos', orig_lengths='4', lengths_punctuation=set())\n",
      "GuardianClue(clue='Teresa treated sharp edges', lengths=[6], soln='aretes', soln_with_spaces='aretes', idx=139602, dataset=PosixPath('/Users/jsrozner/MOUNT/scdt/decrypt/data/puzzles'), across_or_down='down', pos=(1, 9), unique_clue_id='cryptic_27708_21-down', type='cryptic', number=27708, id='crosswords/cryptic/27708', creator='Chifonie', orig_lengths='6', lengths_punctuation=set())\n",
      "GuardianClue(clue='Susie might have offspring', lengths=[5], soln='issue', soln_with_spaces='issue', idx=8631, dataset=PosixPath('/Users/jsrozner/MOUNT/scdt/decrypt/data/puzzles'), across_or_down='across', pos=(0, 4), unique_clue_id='cryptic_22848_12-across', type='cryptic', number=22848, id='crosswords/cryptic/22848', creator='Gordius', orig_lengths='5', lengths_punctuation=set())\n",
      "GuardianClue(clue='Where Clement settled in North Africa', lengths=[7], soln='tlemcen', soln_with_spaces='tlemcen', idx=74868, dataset=PosixPath('/Users/jsrozner/MOUNT/scdt/decrypt/data/puzzles'), across_or_down='down', pos=(8, 8), unique_clue_id='cryptic_22752_18-down', type='cryptic', number=22752, id='crosswords/cryptic/22752', creator='Gordius', orig_lengths='7', lengths_punctuation=set())\n",
      "GuardianClue(clue='Dame could be Dane with English genes', lengths=[4], soln='edna', soln_with_spaces='edna', idx=9809, dataset=PosixPath('/Users/jsrozner/MOUNT/scdt/decrypt/data/puzzles'), across_or_down='down', pos=(4, 11), unique_clue_id='cryptic_25553_24-down', type='cryptic', number=25553, id='crosswords/cryptic/25553', creator='Gordius', orig_lengths='4', lengths_punctuation=set())\n",
      "GuardianClue(clue='Foreigner making Marianne unfaithful?', lengths=[8], soln='armenian', soln_with_spaces='armenian', idx=75692, dataset=PosixPath('/Users/jsrozner/MOUNT/scdt/decrypt/data/puzzles'), across_or_down='across', pos=(6, 2), unique_clue_id='cryptic_25413_9-across', type='cryptic', number=25413, id='crosswords/cryptic/25413', creator='Orlando', orig_lengths='8', lengths_punctuation=set())\n",
      "GuardianClue(clue='Those drying Sierra winds?', lengths=[6], soln='airers', soln_with_spaces='airers', idx=142208, dataset=PosixPath('/Users/jsrozner/MOUNT/scdt/decrypt/data/puzzles'), across_or_down='across', pos=(9, 11), unique_clue_id='cryptic_28228_22-across', type='cryptic', number=28228, id='crosswords/cryptic/28228', creator='Puck', orig_lengths='6', lengths_punctuation=set())\n",
      "GuardianClue(clue='Heron played in the river', lengths=[5], soln='rhone', soln_with_spaces='rhone', idx=11487, dataset=PosixPath('/Users/jsrozner/MOUNT/scdt/decrypt/data/puzzles'), across_or_down='across', pos=(0, 10), unique_clue_id='cryptic_27412_20-across', type='cryptic', number=27412, id='crosswords/cryptic/27412', creator='Chifonie', orig_lengths='5', lengths_punctuation=set())\n",
      "GuardianClue(clue='It could get Charon in a fix on the Styx', lengths=[6], soln='anchor', soln_with_spaces='anchor', idx=11615, dataset=PosixPath('/Users/jsrozner/MOUNT/scdt/decrypt/data/puzzles'), across_or_down='across', pos=(8, 0), unique_clue_id='cryptic_23192_4-across', type='cryptic', number=23192, id='crosswords/cryptic/23192', creator='Rufus', orig_lengths='6', lengths_punctuation=set())\n",
      "GuardianClue(clue='Laurence is turning blue', lengths=[8], soln='cerulean', soln_with_spaces='cerulean', idx=110509, dataset=PosixPath('/Users/jsrozner/MOUNT/scdt/decrypt/data/puzzles'), across_or_down='down', pos=(4, 7), unique_clue_id='cryptic_24330_17-down', type='cryptic', number=24330, id='crosswords/cryptic/24330', creator='Orlando', orig_lengths='8', lengths_punctuation=set())\n",
      "GuardianClue(clue='Nicola may be picked up by a mechanic', lengths=[6], soln='oilcan', soln_with_spaces='oilcan', idx=78941, dataset=PosixPath('/Users/jsrozner/MOUNT/scdt/decrypt/data/puzzles'), across_or_down='down', pos=(5, 0), unique_clue_id='cryptic_22876_3-down', type='cryptic', number=22876, id='crosswords/cryptic/22876', creator='Rufus', orig_lengths='6', lengths_punctuation=set())\n",
      "GuardianClue(clue='Irene ruined the bondsman', lengths=[5], soln='ernie', soln_with_spaces='ernie', idx=13589, dataset=PosixPath('/Users/jsrozner/MOUNT/scdt/decrypt/data/puzzles'), across_or_down='down', pos=(6, 0), unique_clue_id='cryptic_23473_4-down', type='cryptic', number=23473, id='crosswords/cryptic/23473', creator='Rufus', orig_lengths='5', lengths_punctuation=set())\n",
      "GuardianClue(clue='Casper resolved predicament', lengths=[6], soln='scrape', soln_with_spaces='scrape', idx=14445, dataset=PosixPath('/Users/jsrozner/MOUNT/scdt/decrypt/data/puzzles'), across_or_down='down', pos=(10, 9), unique_clue_id='cryptic_24285_19-down', type='cryptic', number=24285, id='crosswords/cryptic/24285', creator='Chifonie', orig_lengths='6', lengths_punctuation=set())\n",
      "GuardianClue(clue='Ransom organised for some Italians', lengths=[6], soln='romans', soln_with_spaces='romans', idx=113862, dataset=PosixPath('/Users/jsrozner/MOUNT/scdt/decrypt/data/puzzles'), across_or_down='across', pos=(0, 0), unique_clue_id='cryptic_24574_1-across', type='cryptic', number=24574, id='crosswords/cryptic/24574', creator='Rover', orig_lengths='6', lengths_punctuation=set())\n",
      "GuardianClue(clue='Doctor Khan getting cross', lengths=[4], soln='ankh', soln_with_spaces='ankh', idx=81610, dataset=PosixPath('/Users/jsrozner/MOUNT/scdt/decrypt/data/puzzles'), across_or_down='across', pos=(11, 6), unique_clue_id='cryptic_24146_14-across', type='cryptic', number=24146, id='crosswords/cryptic/24146', creator='Arachne', orig_lengths='4', lengths_punctuation=set())\n",
      "GuardianClue(clue='Ernest broke records', lengths=[6], soln='enters', soln_with_spaces='enters', idx=81715, dataset=PosixPath('/Users/jsrozner/MOUNT/scdt/decrypt/data/puzzles'), across_or_down='across', pos=(0, 4), unique_clue_id='cryptic_22966_11-across', type='cryptic', number=22966, id='crosswords/cryptic/22966', creator='Rufus', orig_lengths='6', lengths_punctuation=set())\n",
      "GuardianClue(clue='Ernest breaks records', lengths=[6], soln='enters', soln_with_spaces='enters', idx=81718, dataset=PosixPath('/Users/jsrozner/MOUNT/scdt/decrypt/data/puzzles'), across_or_down='down', pos=(5, 0), unique_clue_id='cryptic_24256_4-down', type='cryptic', number=24256, id='crosswords/cryptic/24256', creator='Rufus', orig_lengths='6', lengths_punctuation=set())\n",
      "GuardianClue(clue='Ernest goes out for records', lengths=[6], soln='enters', soln_with_spaces='enters', idx=81719, dataset=PosixPath('/Users/jsrozner/MOUNT/scdt/decrypt/data/puzzles'), across_or_down='down', pos=(8, 0), unique_clue_id='cryptic_27203_5-down', type='cryptic', number=27203, id='crosswords/cryptic/27203', creator='Rufus', orig_lengths='6', lengths_punctuation=set())\n",
      "GuardianClue(clue='Traditional Irish dish in Wild West', lengths=[4], soln='stew', soln_with_spaces='stew', idx=50154, dataset=PosixPath('/Users/jsrozner/MOUNT/scdt/decrypt/data/puzzles'), across_or_down='down', pos=(4, 11), unique_clue_id='cryptic_26209_25-down', type='cryptic', number=26209, id='crosswords/cryptic/26209', creator='Brendan', orig_lengths='4', lengths_punctuation=set())\n",
      "GuardianClue(clue='Trace changes, then respond', lengths=[5], soln='react', soln_with_spaces='react', idx=17433, dataset=PosixPath('/Users/jsrozner/MOUNT/scdt/decrypt/data/puzzles'), across_or_down='across', pos=(1, 3), unique_clue_id='cryptic_24847_10-across', type='cryptic', number=24847, id='crosswords/cryptic/24847', creator='Bonxie', orig_lengths='5', lengths_punctuation=set())\n",
      "GuardianClue(clue='By mistake, Gerald scowled', lengths=[6], soln='glared', soln_with_spaces='glared', idx=83498, dataset=PosixPath('/Users/jsrozner/MOUNT/scdt/decrypt/data/puzzles'), across_or_down='across', pos=(8, 14), unique_clue_id='cryptic_23422_26-across', type='cryptic', number=23422, id='crosswords/cryptic/23422', creator='Janus', orig_lengths='6', lengths_punctuation=set())\n",
      "GuardianClue(clue='Having no object in bothering Melissa', lengths=[7], soln='aimless', soln_with_spaces='aimless', idx=116432, dataset=PosixPath('/Users/jsrozner/MOUNT/scdt/decrypt/data/puzzles'), across_or_down='down', pos=(13, 0), unique_clue_id='cryptic_25946_8-down', type='cryptic', number=25946, id='crosswords/cryptic/25946', creator='Rufus', orig_lengths='7', lengths_punctuation=set())\n",
      "GuardianClue(clue='Climber of the Caroline Restoration', lengths=[8], soln='lonicera', soln_with_spaces='lonicera', idx=51157, dataset=PosixPath('/Users/jsrozner/MOUNT/scdt/decrypt/data/puzzles'), across_or_down='across', pos=(7, 8), unique_clue_id='cryptic_22228_19-across', type='cryptic', number=22228, id='crosswords/cryptic/22228', creator='Gordius', orig_lengths='8', lengths_punctuation=set())\n",
      "GuardianClue(clue='Craftsmen from Chester', lengths=[7], soln='etchers', soln_with_spaces='etchers', idx=117449, dataset=PosixPath('/Users/jsrozner/MOUNT/scdt/decrypt/data/puzzles'), across_or_down='across', pos=(0, 14), unique_clue_id='cryptic_25224_28-across', type='cryptic', number=25224, id='crosswords/cryptic/25224', creator='Rover', orig_lengths='7', lengths_punctuation=set())\n",
      "GuardianClue(clue='Evelyn distributes fairly', lengths=[6], soln='evenly', soln_with_spaces='evenly', idx=21848, dataset=PosixPath('/Users/jsrozner/MOUNT/scdt/decrypt/data/puzzles'), across_or_down='across', pos=(0, 9), unique_clue_id='cryptic_23485_23-across', type='cryptic', number=23485, id='crosswords/cryptic/23485', creator='Rufus', orig_lengths='6', lengths_punctuation=set())\n",
      "GuardianClue(clue='Elinor playing with oil', lengths=[6], soln='neroli', soln_with_spaces='neroli', idx=55134, dataset=PosixPath('/Users/jsrozner/MOUNT/scdt/decrypt/data/puzzles'), across_or_down='down', pos=(12, 9), unique_clue_id='cryptic_22588_20-down', type='cryptic', number=22588, id='crosswords/cryptic/22588', creator='Gordius', orig_lengths='6', lengths_punctuation=set())\n",
      "GuardianClue(clue='Memorable impression of German comic', lengths=[6], soln='engram', soln_with_spaces='engram', idx=88995, dataset=PosixPath('/Users/jsrozner/MOUNT/scdt/decrypt/data/puzzles'), across_or_down='down', pos=(8, 0), unique_clue_id='cryptic_25391_5-down', type='cryptic', number=25391, id='crosswords/cryptic/25391', creator='Orlando', orig_lengths='6', lengths_punctuation=set())\n",
      "GuardianClue(clue='Sunni reformer with tomb in dream', lengths=[5], soln='ninus', soln_with_spaces='ninus', idx=121880, dataset=PosixPath('/Users/jsrozner/MOUNT/scdt/decrypt/data/puzzles'), across_or_down='down', pos=(6, 0), unique_clue_id='cryptic_25291_4-down', type='cryptic', number=25291, id='crosswords/cryptic/25291', creator='Araucaria', orig_lengths='5', lengths_punctuation=set())\n",
      "GuardianClue(clue='Smoke irritated Craig', lengths=[5], soln='cigar', soln_with_spaces='cigar', idx=56593, dataset=PosixPath('/Users/jsrozner/MOUNT/scdt/decrypt/data/puzzles'), across_or_down='across', pos=(0, 2), unique_clue_id='cryptic_27312_9-across', type='cryptic', number=27312, id='crosswords/cryptic/27312', creator='Philistine', orig_lengths='5', lengths_punctuation=set())\n",
      "GuardianClue(clue='Alice is out to get her', lengths=[5], soln='celia', soln_with_spaces='celia', idx=56747, dataset=PosixPath('/Users/jsrozner/MOUNT/scdt/decrypt/data/puzzles'), across_or_down='down', pos=(3, 0), unique_clue_id='cryptic_22786_2-down', type='cryptic', number=22786, id='crosswords/cryptic/22786', creator='Rufus', orig_lengths='5', lengths_punctuation=set())\n",
      "GuardianClue(clue='Perhaps Hudson Bay may have come from one of these', lengths=[6], soln='hounds', soln_with_spaces='hounds', idx=123670, dataset=PosixPath('/Users/jsrozner/MOUNT/scdt/decrypt/data/puzzles'), across_or_down='across', pos=(9, 8), unique_clue_id='cryptic_25473_19-across', type='cryptic', number=25473, id='crosswords/cryptic/25473', creator='Rufus', orig_lengths='6', lengths_punctuation=set())\n",
      "GuardianClue(clue='Master switch for the current', lengths=[6], soln='stream', soln_with_spaces='stream', idx=26568, dataset=PosixPath('/Users/jsrozner/MOUNT/scdt/decrypt/data/puzzles'), across_or_down='across', pos=(0, 6), unique_clue_id='cryptic_25683_12-across', type='cryptic', number=25683, id='crosswords/cryptic/25683', creator='Rufus', orig_lengths='6', lengths_punctuation=set())\n",
      "GuardianClue(clue='Master moves in current production', lengths=[6], soln='stream', soln_with_spaces='stream', idx=26572, dataset=PosixPath('/Users/jsrozner/MOUNT/scdt/decrypt/data/puzzles'), across_or_down='across', pos=(1, 1), unique_clue_id='cryptic_26347_5-across', type='cryptic', number=26347, id='crosswords/cryptic/26347', creator='Rufus', orig_lengths='6', lengths_punctuation=set())\n",
      "GuardianClue(clue='Rodney is moving over there', lengths=[6], soln='yonder', soln_with_spaces='yonder', idx=93993, dataset=PosixPath('/Users/jsrozner/MOUNT/scdt/decrypt/data/puzzles'), across_or_down='across', pos=(0, 14), unique_clue_id='cryptic_24052_28-across', type='cryptic', number=24052, id='crosswords/cryptic/24052', creator='Rufus', orig_lengths='6', lengths_punctuation=set())\n",
      "GuardianClue(clue='Moira goes out with New Zealander', lengths=[5], soln='maori', soln_with_spaces='maori', idx=94326, dataset=PosixPath('/Users/jsrozner/MOUNT/scdt/decrypt/data/puzzles'), across_or_down='down', pos=(8, 10), unique_clue_id='cryptic_24196_23-down', type='cryptic', number=24196, id='crosswords/cryptic/24196', creator='Rufus', orig_lengths='5', lengths_punctuation=set())\n",
      "GuardianClue(clue='Electra cast as a tart?', lengths=[7], soln='treacle', soln_with_spaces='treacle', idx=61800, dataset=PosixPath('/Users/jsrozner/MOUNT/scdt/decrypt/data/puzzles'), across_or_down='across', pos=(0, 4), unique_clue_id='cryptic_23110_11-across', type='cryptic', number=23110, id='crosswords/cryptic/23110', creator='Audreus', orig_lengths='7', lengths_punctuation=set())\n",
      "GuardianClue(clue='Cyril composed song', lengths=[5], soln='lyric', soln_with_spaces='lyric', idx=29691, dataset=PosixPath('/Users/jsrozner/MOUNT/scdt/decrypt/data/puzzles'), across_or_down='across', pos=(10, 6), unique_clue_id='cryptic_22235_15-across', type='cryptic', number=22235, id='crosswords/cryptic/22235', creator='Chifonie', orig_lengths='5', lengths_punctuation=set())\n",
      "GuardianClue(clue='Evil spirits plagued Madison', lengths=[7], soln='daimons', soln_with_spaces='daimons', idx=95328, dataset=PosixPath('/Users/jsrozner/MOUNT/scdt/decrypt/data/puzzles'), across_or_down='across', pos=(0, 6), unique_clue_id='cryptic_23494_14-across', type='cryptic', number=23494, id='crosswords/cryptic/23494', creator='Rover', orig_lengths='7', lengths_punctuation=set())\n",
      "GuardianClue(clue=\"Tabitha changes one's environment\", lengths=[7], soln='habitat', soln_with_spaces='habitat', idx=31670, dataset=PosixPath('/Users/jsrozner/MOUNT/scdt/decrypt/data/puzzles'), across_or_down='across', pos=(8, 6), unique_clue_id='cryptic_22280_16-across', type='cryptic', number=22280, id='crosswords/cryptic/22280', creator='Rufus', orig_lengths='7', lengths_punctuation=set())\n",
      "GuardianClue(clue='Environment Tabitha created', lengths=[7], soln='habitat', soln_with_spaces='habitat', idx=31672, dataset=PosixPath('/Users/jsrozner/MOUNT/scdt/decrypt/data/puzzles'), across_or_down='down', pos=(2, 0), unique_clue_id='cryptic_22772_1-down', type='cryptic', number=22772, id='crosswords/cryptic/22772', creator='Chifonie', orig_lengths='7', lengths_punctuation=set())\n",
      "GuardianClue(clue='Tabitha abandoned her natural home', lengths=[7], soln='habitat', soln_with_spaces='habitat', idx=31681, dataset=PosixPath('/Users/jsrozner/MOUNT/scdt/decrypt/data/puzzles'), across_or_down='across', pos=(0, 8), unique_clue_id='cryptic_27065_19-across', type='cryptic', number=27065, id='crosswords/cryptic/27065', creator='Rufus', orig_lengths='7', lengths_punctuation=set())\n",
      "GuardianClue(clue='Alonso crashing car', lengths=[6], soln='saloon', soln_with_spaces='saloon', idx=97301, dataset=PosixPath('/Users/jsrozner/MOUNT/scdt/decrypt/data/puzzles'), across_or_down='across', pos=(9, 10), unique_clue_id='cryptic_27569_24-across', type='cryptic', number=27569, id='crosswords/cryptic/27569', creator='Tramp', orig_lengths='6', lengths_punctuation=set())\n",
      "GuardianClue(clue='Ghost seen in Hampton maze', lengths=[7], soln='phantom', soln_with_spaces='phantom', idx=64613, dataset=PosixPath('/Users/jsrozner/MOUNT/scdt/decrypt/data/puzzles'), across_or_down='down', pos=(11, 0), unique_clue_id='cryptic_25958_6-down', type='cryptic', number=25958, id='crosswords/cryptic/25958', creator='Rufus', orig_lengths='7', lengths_punctuation=set())\n",
      "GuardianClue(clue='Emile provides something fragrant - could be myrrh', lengths=[5], soln='elemi', soln_with_spaces='elemi', idx=31900, dataset=PosixPath('/Users/jsrozner/MOUNT/scdt/decrypt/data/puzzles'), across_or_down='down', pos=(10, 0), unique_clue_id='cryptic_23020_6-down', type='cryptic', number=23020, id='crosswords/cryptic/23020', creator='Rufus', orig_lengths='5', lengths_punctuation=set())\n",
      "27\n",
      "69\n"
     ]
    },
    {
     "name": "stderr",
     "output_type": "stream",
     "text": [
      "\n"
     ]
    }
   ],
   "source": [
    "val_subs = get_clues_with_subs(val_list)\n",
    "train_subs = get_clues_with_subs(train_list)\n",
    "print(len(val_subs))\n",
    "print(len(train_subs))"
   ],
   "metadata": {
    "collapsed": false,
    "pycharm": {
     "name": "#%%\n"
    }
   }
  },
  {
   "cell_type": "code",
   "execution_count": null,
   "outputs": [],
   "source": [
    "# verify that we can pass to /from json\n",
    "v_subs_json = [v.to_dict() for v in val_subs]\n",
    "v_subs_orig = [ClueWithSubstitutions.from_dict(v) for v in v_subs_json]\n",
    "assert v_subs_orig == val_subs\n",
    "print('ok')"
   ],
   "metadata": {
    "collapsed": false,
    "pycharm": {
     "name": "#%%\n"
    }
   }
  },
  {
   "cell_type": "code",
   "execution_count": null,
   "outputs": [],
   "source": [
    "write_json(train_subs, 'train')\n",
    "write_json(val_subs, 'val')"
   ],
   "metadata": {
    "collapsed": false,
    "pycharm": {
     "name": "#%%\n"
    }
   }
  },
  {
   "cell_type": "markdown",
   "source": [
    "At this point, we should have the json on which we will run the experiment.\n",
    "Now we load and evaluate on these cluesets. For the paper we used the best model for T5 (lengths),\n",
    "i.e., second to last row in Table 2"
   ],
   "metadata": {
    "collapsed": false
   }
  },
  {
   "cell_type": "code",
   "execution_count": null,
   "outputs": [],
   "source": [
    "from seq2seq.model_runner import ModelRunner\n",
    "\n",
    "k_model_name = 't5-base'\n",
    "k_ckpt_path = ''    # substitute the checkpoint path\n",
    "\n",
    "def run_model(name):\n",
    "    mr = ModelRunner(k_model_name, k_ckpt_path)\n",
    "\n",
    "    fname = config.DataDirs.DataExport.wordplay_dir / f'{name}_subs.json'\n",
    "    with open(fname, 'r') as f:\n",
    "        clue_sub_list: List[ClueWithSubstitutions] = [ClueWithSubstitutions.from_dict(v) for v in json.load(f)]\n",
    "    all_outputs: List[List[str]] = []\n",
    "    for cws in clue_sub_list:\n",
    "        input_list = [cws.orig_input]\n",
    "        input_list.extend([x.new_clue_str for x in cws.substitutions])\n",
    "        outs = mr.generate(input_list)\n",
    "        outs = [x.tolist() for x in outs]\n",
    "        all_outputs.append(outs)\n",
    "    # to get off a cluster, e.g.\n",
    "    # with open(f'./data_util/{name}_results.json', 'w') as f:\n",
    "    #     json.dump(all_outputs, f)\n",
    "    return all_outputs\n",
    "\n",
    "# alternatively, could write to json and then read back in, e.g. if on cluster\n",
    "train_results = run_model('train')\n",
    "val_results = run_model('val')\n",
    "assert len(train_results) == len(train_subs)\n",
    "assert len(val_results) == len(val_subs)\n",
    "\n",
    "\n",
    "# each output grouping should have 21 entries (1 unchanged, 10 scramble, 10 sub)\n",
    "for i in train_results:\n",
    "    assert len(i) == 21\n",
    "for i in val_results:\n",
    "    assert len(i) == 21"
   ],
   "metadata": {
    "collapsed": false,
    "pycharm": {
     "name": "#%%\n"
    }
   }
  },
  {
   "cell_type": "code",
   "execution_count": null,
   "outputs": [],
   "source": [
    "import multiset\n",
    "from collections import Counter\n",
    "\n",
    "# adapted from decrypt.common.validation_tools\n",
    "def calc_metrics(substrate_word: str,\n",
    "                 sampled: List[str],\n",
    "                 tgt: str,\n",
    "                 ctr: Counter,\n",
    "                 truncate=None):\n",
    "    \"\"\"Accumulate results in the counter\"\"\"\n",
    "    top_res = 0\n",
    "    in_res = 0\n",
    "    ct_match_first_letter = 0\n",
    "    avg_char_overlap_with_substrate = 0.0\n",
    "    avg_char_overlap_with_target = 0.0\n",
    "\n",
    "    if truncate is not None:\n",
    "        sampled = sampled[:truncate]\n",
    "\n",
    "    substrate_word = substrate_word.lower()\n",
    "    samples_no_spaces = list(map(lambda x: x.lower().replace(' ','').strip(), sampled))\n",
    "    if samples_no_spaces[0] == tgt:\n",
    "        top_res = 1\n",
    "    if tgt in samples_no_spaces:\n",
    "        in_res = 1\n",
    "\n",
    "    substrate_multiset = multiset.Multiset(substrate_word)\n",
    "    target_multiset = multiset.Multiset(tgt)\n",
    "    for s in samples_no_spaces:\n",
    "        if s[0] == substrate_word[0]:\n",
    "            ct_match_first_letter += 1\n",
    "        avg_char_overlap_with_substrate += len(substrate_multiset.intersection(multiset.Multiset(s)))/ len(s)\n",
    "        avg_char_overlap_with_target += len(target_multiset.intersection(multiset.Multiset(s))) / len(s)\n",
    "\n",
    "    ctr['total'] += 1\n",
    "    ctr['top'] += top_res\n",
    "    ctr['in_res'] += in_res\n",
    "    ctr['first_letter'] += ct_match_first_letter / len(sampled)\n",
    "    ctr['char_overlap_sub'] += avg_char_overlap_with_substrate / len(sampled)\n",
    "    ctr['char_overlap_tgt'] += avg_char_overlap_with_target / len(sampled)\n",
    "\n",
    "\n",
    "def eval_(pairs, sample_truncate=3):\n",
    "    ctr_orig = Counter()\n",
    "    ctr_scramble = Counter()\n",
    "    ctr_new = Counter()\n",
    "    for sub_group, result_list in pairs:\n",
    "        orig_substrate = sub_group.word_to_be_swapped\n",
    "        tgt = sub_group.target\n",
    "\n",
    "        # unpack the base result (unmodified), scramble results, and substitution results\n",
    "        # 0, 1-10, 11-20\n",
    "        result_base, result_scramble, result_sub = result_list[0], result_list[1:11], result_list[11:]\n",
    "\n",
    "        # base\n",
    "        calc_metrics(orig_substrate, result_base, tgt, ctr_orig, truncate=sample_truncate)\n",
    "        # scramble\n",
    "        for i in range(10):\n",
    "            calc_metrics(substrate_word=sub_group.substitutions[i].substituted_word,\n",
    "                         sampled=result_scramble[i],\n",
    "                         tgt=tgt,\n",
    "                         ctr=ctr_scramble,\n",
    "                         truncate=sample_truncate)\n",
    "        # substitution\n",
    "        for i in range(10):\n",
    "            calc_metrics(substrate_word=sub_group.substitutions[i+10].substituted_word,\n",
    "                         sampled=result_sub[i],\n",
    "                         tgt=tgt,\n",
    "                         ctr=ctr_new,\n",
    "                         truncate=sample_truncate)\n",
    "    # print the counter results\n",
    "    for c in [ctr_orig, ctr_scramble, ctr_new]:\n",
    "        print()\n",
    "        for k,v in c.items():\n",
    "            print(f'{k}: {v/c[\"total\"]}')"
   ],
   "metadata": {
    "collapsed": false,
    "pycharm": {
     "name": "#%%\n"
    }
   }
  },
  {
   "cell_type": "code",
   "execution_count": null,
   "outputs": [],
   "source": [
    "val_pairs = list(zip(val_subs, val_results))\n",
    "train_pairs = list(zip(train_subs, train_results))\n",
    "\n",
    "truncate=10     # i.e. keep all 10; equivalent to not truncating\n",
    "eval_(val_pairs, sample_truncate=truncate)\n",
    "eval_(train_pairs, sample_truncate=truncate)"
   ],
   "metadata": {
    "collapsed": false,
    "pycharm": {
     "name": "#%%\n"
    }
   }
  },
  {
   "cell_type": "markdown",
   "source": [
    "## 6.5  Efrat comparison\n",
    "The Efrat comparison has 3 parts:\n",
    "1. Replication of their results\n",
    "1. Creation and analysis on a word-initial disjoint version of their dataset\n",
    "1. Training and eval of a curricular model with t5-large\n",
    "\n",
    "### Replication\n",
    "1. Download and unzip the cryptonite dataset from https://github.com/aviaefrat/cryptonite/tree/main/data.\n",
    "    - We will use only the naive and official-split\n",
    "    - Place in data/original/cryptonite\n",
    "1. Convert to format for our model\n",
    "1. Create the word initial disjoint split\n"
   ],
   "metadata": {
    "collapsed": false
   }
  },
  {
   "cell_type": "code",
   "execution_count": null,
   "outputs": [],
   "source": [
    "import json_lines\n",
    "from typing import *\n",
    "from decrypt.common.puzzle_clue import BaseClue\n",
    "from decrypt.common.util_data import clue_list_tuple_to_train_split_json"
   ],
   "metadata": {
    "collapsed": false,
    "pycharm": {
     "name": "#%%\n"
    }
   }
  },
  {
   "cell_type": "code",
   "execution_count": null,
   "outputs": [],
   "source": [
    "# load in all cryptonite split\n",
    "def load_split(split_type: str, loc):\n",
    "    output_list = []\n",
    "    file_loc = loc / \"cryptonite-\" + split_type + \".jsonl\"\n",
    "    with open(file_loc, \"rb\") as f:\n",
    "        for line in json_lines.reader(f):\n",
    "            output_list.append(line)\n",
    "    return output_list\n",
    "\n",
    "def baseclue_from_cryptonite_clue(cryptonite_clue: Dict) -> BaseClue:\n",
    "    clue = cryptonite_clue['clue']\n",
    "    soln = cryptonite_clue['answer']\n",
    "    soln = \"\".join(soln.split(\" \"))\n",
    "    enumeration = cryptonite_clue['enumeration']\n",
    "\n",
    "    # strip endings\n",
    "    end = clue.rfind(\"(\")\n",
    "    assert clue[end-1] == \" \"\n",
    "    clue = clue[:end-1]\n",
    "\n",
    "    lens = list(map(int, enumeration.strip(\"()\").split(\",\")))\n",
    "    return BaseClue(clue, lens, soln)\n",
    "\n",
    "# # some tests of above method\n",
    "# def test_baseclue_from_cryptonite():\n",
    "#     pp(list(map(baseclue_from_cryptonite_clue, cryptonite_data_all[:5])))\n",
    "#     # a multiword clue\n",
    "#     for c in cryptonite_data_all:\n",
    "#         if ',' in c['enumeration']:\n",
    "#             pp(baseclue_from_cryptonite_clue(c))\n",
    "#             break\n",
    "# # test_baseclue_from_cryptonite()\n",
    "\n",
    "\n",
    "def crypto_to_our_json_format(crypto_tuple, label: str,\n",
    "                              export_dir,\n",
    "                              verify=False):\n",
    "    def crypto_clues_to_base_clues(input_list):\n",
    "        return list(map(baseclue_from_cryptonite_clue, input_list))\n",
    "\n",
    "    tuple_base_clue_list = tuple(map(crypto_clues_to_base_clues, crypto_tuple))\n",
    "\n",
    "    # make sure our changes make sense\n",
    "    if verify:\n",
    "        for idx in range(3):\n",
    "            for orig, new in zip(crypto_tuple[idx], tuple_base_clue_list[idx]):\n",
    "                assert orig['clue'] == new.clue_with_lengths(), f'{orig}, {new}'\n",
    "                assert orig['answer'].strip() == new.soln_with_spaces, f'{orig}, {new}'\n",
    "\n",
    "    clue_list_tuple_to_train_split_json(tuple_base_clue_list,\n",
    "                                        comment='Cryptonite ' + label,\n",
    "                                        export_dir=export_dir,\n",
    "                                        overwrite=False)"
   ],
   "metadata": {
    "collapsed": false,
    "pycharm": {
     "name": "#%%\n"
    }
   }
  },
  {
   "cell_type": "code",
   "execution_count": null,
   "outputs": [],
   "source": [
    "train_val_test_official = list(map(lambda x:\n",
    "                                   load_split(x,\n",
    "                                              loc=config.DataDirs.OriginalData.k_cryptonite_offical),\n",
    "                                   ['train', 'val', 'test']))\n",
    "train_val_test_naive = list(map(lambda x:\n",
    "                                load_split(x,\n",
    "                                           loc=config.DataDirs.OriginalData.k_cryptonite_naive),\n",
    "                                ['train', 'val', 'test']))\n",
    "\n",
    "# quick sanity check - should be the same length\n",
    "all_official = [clue for clue_list in train_val_test_official\n",
    "                for clue in clue_list]\n",
    "all_naive = [x for l in train_val_test_naive\n",
    "             for x in l]\n",
    "assert len(all_official) == len(all_naive)\n",
    "print(len(all_official))\n",
    "\n",
    "# produce our json format for their splits\n",
    "crypto_to_our_json_format(train_val_test_official, label='official, theirs', verify=True,\n",
    "                          export_dir=config.DataDirs.DataExport.crypto_naive_disjoint)\n",
    "crypto_to_our_json_format(train_val_test_naive, label='naive', verify=True,\n",
    "                          export_dir=config.DataDirs.DataExport.crypto_naive)"
   ],
   "metadata": {
    "collapsed": false,
    "pycharm": {
     "name": "#%%\n"
    }
   }
  },
  {
   "cell_type": "code",
   "execution_count": null,
   "outputs": [],
   "source": [
    "# make our disjoint hash split\n",
    "# disjoint set\n",
    "def make_disjoint_json(all_clue_list: List[BaseClue]):\n",
    "    soln_to_clue_map: defaultdict[str, List[BaseClue]] = defaultdict(list)\n",
    "    for bc in tqdm(all_clue_list):\n",
    "        soln_to_clue_map[bc.soln].append(bc)\n",
    "    train_val_test = [[], [], []]\n",
    "    for k, v in soln_to_clue_map.items():\n",
    "        h = safe_hash(k[:2]) % 1000        # tried to make larger to get better split numbers\n",
    "        if h < 899 :\n",
    "            train_val_test[0].extend(v)\n",
    "        elif h < 949:        # h==18\n",
    "            train_val_test[1].extend(v)\n",
    "        else:               # h==19\n",
    "            train_val_test[2].extend(v)\n",
    "    print(list(map(len, train_val_test)))\n",
    "\n",
    "    # now shuffle the lists\n",
    "    rng = random.Random(42)\n",
    "    print(train_val_test[0][:3])\n",
    "    for l in train_val_test:\n",
    "        rng.shuffle(l)\n",
    "    print(train_val_test[0][:3])\n",
    "\n",
    "    assert sum(map(len, train_val_test)) == len(all_clue_list)\n",
    "    return train_val_test\n",
    "\n",
    "clue_list_tuple_to_train_split_json(make_disjoint_json(all_official),\n",
    "                                    comment='Cryptonite disjoint hash, ours',\n",
    "                                    export_dir=config.DataDirs.DataExport.crypto_word_init_disjoint,\n",
    "                                    overwrite=False)"
   ],
   "metadata": {
    "collapsed": false,
    "pycharm": {
     "name": "#%%\n"
    }
   }
  },
  {
   "cell_type": "markdown",
   "source": [
    "### Running their model\n",
    "For the naive split training can go to 20 epochs\n",
    "This will use t5-large\n",
    "\n",
    "1. for naive\n",
    "```python\n",
    "python train_clues.py --default_train=cryptonite --name=cryptonite_naive --project=cryptonite --wandb_dir='./wandb' --data_dir='../data/clue_json/cryptonite/naive'\n",
    "```\n",
    "1. also run the official split by modifying the data_dir\n",
    "\n",
    "1. for word initial disjoint split, best performing model is around step 100k, so we need intraepoch eval\n",
    "```python\n",
    "python train_clues.py --default_train=cryptonite --name=cryptonite_word_init_disjoint --project=cryptonite --wandb_dir='./wandb' --data_dir='../data/clue_json/cryptonite/word_init_disjoint' --val_freq=100\n",
    "```\n",
    "\n",
    "Then we run evaluation on the test set\n",
    "1.  for example,\n",
    "```python\n",
    "python train_clues.py --default_val=cryptonite --name=cryptonite_word_init_disjoint _val --project=cryptonite --wandb_dir='./wandb' --data_dir='../data/clue_json/cryptonite/word_init_disjoint' --test --ckpt_path='./path_to_model_ckpt'\n",
    "```"
   ],
   "metadata": {
    "collapsed": false,
    "pycharm": {
     "name": "#%% md\n"
    }
   }
  },
  {
   "cell_type": "markdown",
   "source": [
    "### Curricular\n",
    "Finally, we train their model using our curricular approach\n",
    "\n",
    "For example, on word initial disjoint\n",
    "```python\n",
    "python train_clues.py --default_train=cryptonite --name=cryptonite_curr_word_init_disj --project=cryptonite --wandb_dir='./wandb' --data_dir='../data/clue_json/cryptonite/word_init_disjoint' --multitask=cfg_crypto_acw_acwdesc\n",
    "```\n",
    "This curricular approach has one fewer epoch of curricular pretraining. It takes\n",
    "a long time (24 hours) to train since the crossword dataset (ACW) is so large.\n",
    "For this reason, it is better to do curricular training only once (i.e. three epochs), and then\n",
    "for each of the three datasplits, train from the pretrained checkpoint.\n",
    "Pretraining takes roughly 6 hours per epoch.\n",
    "\n",
    "And evaluation is unchanged from above (just adding --test and a checkpoint path)\n",
    "\n",
    "\n"
   ],
   "metadata": {
    "collapsed": false,
    "pycharm": {
     "name": "#%% md\n"
    }
   }
  }
 ],
 "metadata": {
  "kernelspec": {
   "display_name": "Python 3",
   "language": "python",
   "name": "python3"
  },
  "language_info": {
   "codemirror_mode": {
    "name": "ipython",
    "version": 2
   },
   "file_extension": ".py",
   "mimetype": "text/x-python",
   "name": "python",
   "nbconvert_exporter": "python",
   "pygments_lexer": "ipython2",
   "version": "2.7.6"
  }
 },
 "nbformat": 4,
 "nbformat_minor": 0
}