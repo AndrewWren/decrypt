{
 "cells": [
  {
   "cell_type": "markdown",
   "metadata": {
    "collapsed": true,
    "pycharm": {
     "name": "#%% md\n"
    }
   },
   "source": [
    "## Setting up for curricular experiment\n",
    "\n",
    "### Datasets\n",
    "1. Download and unzip the xd cw crossword set from http://xd.saul.pw/xd-clues.zip.\n",
    "    - Save it as './data/original/xd/clues.tsv'\n",
    "2. Preprocess the dataset using this notebook\n"
   ]
  },
  {
   "cell_type": "code",
   "execution_count": null,
   "outputs": [],
   "source": [
    "%load_ext autoreload\n",
    "%autoreload 2\n",
    "\n",
    "import sys\n",
    "sys.path.append('../decrypt')\n",
    "\n",
    "from decrypt.scrape_parse.acw_load import get_clean_xd_clues\n",
    "import config\n",
    "from decrypt.common.util_data import clue_list_tuple_to_train_split_json\n",
    "\n",
    "k_xd_orig_tsv = config.DataDirs.OriginalData.k_xd_cw\n",
    "k_acw_export_dir = config.DataDirs.DataExport.xd_cw_json"
   ],
   "metadata": {
    "collapsed": false,
    "pycharm": {
     "name": "#%%\n"
    }
   }
  },
  {
   "cell_type": "code",
   "execution_count": null,
   "outputs": [],
   "source": [
    "# defaults to strip periods, remove questions, remove abbrevs, remove fillin\n",
    "stc_map, all_clues = get_clean_xd_clues(k_xd_orig_tsv,\n",
    "                                        remove_if_not_in_dict=False,\n",
    "                                        do_filter_dupes=True)\n",
    "clue_list_tuple_to_train_split_json((all_clues,),\n",
    "                                    comment='ACW set; xd cw set, all',\n",
    "                                    export_dir=k_acw_export_dir,\n",
    "                                    overwrite=False)"
   ],
   "metadata": {
    "collapsed": false,
    "pycharm": {
     "name": "#%%\n"
    }
   }
  },
  {
   "cell_type": "code",
   "execution_count": null,
   "outputs": [],
   "source": [
    "\n"
   ],
   "metadata": {
    "collapsed": false,
    "pycharm": {
     "name": "#%%\n"
    }
   }
  }
 ],
 "metadata": {
  "kernelspec": {
   "display_name": "Python 3",
   "language": "python",
   "name": "python3"
  },
  "language_info": {
   "codemirror_mode": {
    "name": "ipython",
    "version": 2
   },
   "file_extension": ".py",
   "mimetype": "text/x-python",
   "name": "python",
   "nbconvert_exporter": "python",
   "pygments_lexer": "ipython2",
   "version": "2.7.6"
  }
 },
 "nbformat": 4,
 "nbformat_minor": 0
}