{
 "cells": [
  {
   "cell_type": "markdown",
   "metadata": {
    "collapsed": true,
    "pycharm": {
     "name": "#%% md\n"
    }
   },
   "source": [
    "## For running the T5 vanilla baseline\n",
    "1. Run the seq2seq model to produce outputs, saving in a directory that matches k_t5_outputs below\n",
    "    - Train model (produces saved checkpoints)\n",
    "    - Eval top performing model (load from top checkpoint, produces json outputs)\n",
    "\n",
    "2. run the eval code here using the json output from model eval"
   ]
  },
  {
   "cell_type": "code",
   "execution_count": null,
   "outputs": [],
   "source": [
    "\n",
    "%load_ext autoreload\n",
    "%autoreload 2"
   ],
   "metadata": {
    "collapsed": false,
    "pycharm": {
     "name": "#%%\n"
    }
   }
  },
  {
   "cell_type": "code",
   "execution_count": null,
   "outputs": [],
   "source": [
    "import config\n",
    "k_json_folder = config.DataDirs.Guardian.json_folder\n",
    "\n",
    "# you'll need to specify where you saved the model outputs\n",
    "k_t5_outputs_dir = None\n",
    "assert k_t5_outputs_dir is not None"
   ],
   "metadata": {
    "collapsed": false,
    "pycharm": {
     "name": "#%%\n"
    }
   }
  },
  {
   "cell_type": "code",
   "execution_count": null,
   "outputs": [],
   "source": [
    "import sys\n",
    "sys.path.append('../decrypt')\n",
    "from decrypt.scrape_parse import (\n",
    "    load_guardian_splits,\n",
    "    load_guardian_splits_disjoint_hash\n",
    ")"
   ],
   "metadata": {
    "collapsed": false,
    "pycharm": {
     "name": "#%%\n"
    }
   }
  },
  {
   "cell_type": "code",
   "execution_count": null,
   "outputs": [],
   "source": [
    "from decrypt.common.puzzle_clue import GuardianClue, BaseClue\n",
    "from decrypt.common import validation_tools as vt\n",
    "from typing import List\n",
    "import json\n",
    "from glob import glob"
   ],
   "metadata": {
    "collapsed": false,
    "pycharm": {
     "name": "#%%\n"
    }
   }
  },
  {
   "cell_type": "code",
   "execution_count": 3,
   "outputs": [
    {
     "name": "stdout",
     "output_type": "stream",
     "text": [
      "initializing a csv writer\n"
     ]
    },
    {
     "name": "stderr",
     "output_type": "stream",
     "text": [
      "INFO:validation_tools:Opened clue labels file:\n"
     ]
    }
   ],
   "source": [
    "def load_t5(json_out_file: str, pre_truncate=None):\n",
    "    with open(json_out_file, 'r') as f:\n",
    "        json_blob = json.load(f)\n",
    "\n",
    "    # eval (and backfill)\n",
    "    model_outputs = []\n",
    "    idx_set = set()\n",
    "    for d in json_blob:\n",
    "        idx, input, tgt, greedy, sampled = d\n",
    "        assert idx not in idx_set\n",
    "        idx_set.add(idx)\n",
    "\n",
    "        mp = vt.ModelPrediction(idx, input, tgt, greedy, sampled)\n",
    "        mp.model_eval = vt.eval(mp, pre_truncate=pre_truncate)\n",
    "        model_outputs.append(mp)\n",
    "\n",
    "    print(len(model_outputs))\n",
    "    # was used to verify we had an output for all inputs\n",
    "    # for i in range(28476):\n",
    "    #     if i not in idx_set:\n",
    "    #         print(i)\n",
    "\n",
    "    return model_outputs\n",
    "\n",
    "# def json_from_dir(dir):\n",
    "#     path = dir + \"/epoch_1.*.json\"\n",
    "#     g = glob(path)\n",
    "#     assert len(g) == 1, path\n",
    "#     return g[0]\n",
    "\n"
   ],
   "metadata": {
    "collapsed": false,
    "pycharm": {
     "name": "#%%\n"
    }
   }
  },
  {
   "cell_type": "code",
   "execution_count": 4,
   "outputs": [],
   "source": [
    "def load_and_run(fname, label=None, filter_fcn=None, pre_truncate=None):\n",
    "    if label is None:\n",
    "        label = fname\n",
    "    data = load_t5(k_t5_outputs_dir + fname + '.json',\n",
    "                   pre_truncate=pre_truncate)\n",
    "    vt.all_aggregate(data, label=label, filter_fcn=filter_fcn)"
   ],
   "metadata": {
    "collapsed": false,
    "pycharm": {
     "name": "#%%\n"
    }
   }
  },
  {
   "cell_type": "code",
   "execution_count": 6,
   "outputs": [
    {
     "name": "stdout",
     "output_type": "stream",
     "text": [
      "28476\n",
      "[('agg_filter_len_pre_truncate', 44.504495013344574),\n",
      " ('agg_filtered_few', 0.007093692934400899),\n",
      " ('agg_generate_few', 0.0),\n",
      " ('agg_generate_none', 0.0),\n",
      " ('agg_in_filtered', 0.4591234723978087),\n",
      " ('agg_in_sample', 0.2807978648686613),\n",
      " ('agg_sample_len', 10.0),\n",
      " ('agg_sample_len_correct', 0.48454136816968674),\n",
      " ('agg_sample_len_pre_truncate', 100.0),\n",
      " ('agg_sample_wordct_correct', 0.9789858126141312),\n",
      " ('agg_top_10_after_filter', 0.3385658098047479),\n",
      " ('agg_top_match', 0.1630495856159573),\n",
      " ('agg_top_match_len_correct', 0.9998946481247366),\n",
      " ('agg_top_match_none', 0.00010535187526337969),\n",
      " ('agg_top_match_wordct_correct', 0.9942407641522686),\n",
      " ('agg_top_sample_result_len_correct', 0.560858266610479),\n",
      " ('agg_top_sample_result_wordct_correct', 0.9846186262115466),\n",
      " ('filter_len_pre_truncate', 1267310),\n",
      " ('filtered_few', 202),\n",
      " ('generate_few', 0),\n",
      " ('generate_none', 0),\n",
      " ('in_filtered', 13074),\n",
      " ('in_sample', 7996),\n",
      " ('sample_len', 284760),\n",
      " ('sample_len_correct', 137978),\n",
      " ('sample_len_pre_truncate', 2847600),\n",
      " ('sample_wordct_correct', 278776),\n",
      " ('top_10_after_filter', 9641),\n",
      " ('top_match', 4643),\n",
      " ('top_match_len_correct', 28473),\n",
      " ('top_match_none', 3),\n",
      " ('top_match_wordct_correct', 28312),\n",
      " ('top_sample_result_len_correct', 15971),\n",
      " ('top_sample_result_wordct_correct', 28038),\n",
      " ('total', 28476)]\n"
     ]
    }
   ],
   "source": [
    "# for example, if your output files are in\n",
    "# 'decrypt/t5_outputs/baseline_naive_e12_test.json'\n",
    "# you would have set k_t5_outputs_dir to be 'decrypt/t5_outputs/\n",
    "# and you will run the below\n",
    "\n",
    "### primary - test\n",
    "load_and_run('baseline_naive_e12_test')\n",
    "load_and_run('baseline_naive_nolens_e15_test')     # test set"
   ],
   "metadata": {
    "collapsed": false,
    "pycharm": {
     "name": "#%%\n"
    }
   }
  },
  {
   "cell_type": "code",
   "execution_count": 5,
   "outputs": [
    {
     "name": "stdout",
     "output_type": "stream",
     "text": [
      "28476\n",
      "[('agg_filter_len_pre_truncate', 44.389275179098185),\n",
      " ('agg_filtered_few', 0.0064615816828206205),\n",
      " ('agg_generate_few', 0.0),\n",
      " ('agg_generate_none', 0.0),\n",
      " ('agg_in_filtered', 0.45146790279533644),\n",
      " ('agg_in_sample', 0.2747225733951398),\n",
      " ('agg_sample_len', 10.0),\n",
      " ('agg_sample_len_correct', 0.4834843376878775),\n",
      " ('agg_sample_len_pre_truncate', 100.0),\n",
      " ('agg_sample_wordct_correct', 0.9792175867397106),\n",
      " ('agg_top_10_after_filter', 0.33122629582806573),\n",
      " ('agg_top_match', 0.16002949852507375),\n",
      " ('agg_top_match_len_correct', 0.9999648827082456),\n",
      " ('agg_top_match_none', 3.5117291754459895e-05),\n",
      " ('agg_top_match_wordct_correct', 0.9941002949852508),\n",
      " ('agg_top_sample_result_len_correct', 0.5595940441073184),\n",
      " ('agg_top_sample_result_wordct_correct', 0.9845132743362832),\n",
      " ('filter_len_pre_truncate', 1264029),\n",
      " ('filtered_few', 184),\n",
      " ('generate_few', 0),\n",
      " ('generate_none', 0),\n",
      " ('in_filtered', 12856),\n",
      " ('in_sample', 7823),\n",
      " ('sample_len', 284760),\n",
      " ('sample_len_correct', 137677),\n",
      " ('sample_len_pre_truncate', 2847600),\n",
      " ('sample_wordct_correct', 278842),\n",
      " ('top_10_after_filter', 9432),\n",
      " ('top_match', 4557),\n",
      " ('top_match_len_correct', 28475),\n",
      " ('top_match_none', 1),\n",
      " ('top_match_wordct_correct', 28308),\n",
      " ('top_sample_result_len_correct', 15935),\n",
      " ('top_sample_result_wordct_correct', 28035),\n",
      " ('total', 28476)]\n",
      "28476\n",
      "[('agg_filter_len_pre_truncate', 14.035924989464812),\n",
      " ('agg_filtered_few', 0.24641803624104508),\n",
      " ('agg_generate_few', 0.0),\n",
      " ('agg_generate_none', 0.0),\n",
      " ('agg_in_filtered', 0.3221309172636606),\n",
      " ('agg_in_sample', 0.1901952521421548),\n",
      " ('agg_sample_len', 10.0),\n",
      " ('agg_sample_len_correct', 0.160338530692513),\n",
      " ('agg_sample_len_pre_truncate', 100.0),\n",
      " ('agg_sample_wordct_correct', 0.7415016153954207),\n",
      " ('agg_top_10_after_filter', 0.29365079365079366),\n",
      " ('agg_top_match', 0.15335721309172637),\n",
      " ('agg_top_match_len_correct', 0.9865149599662874),\n",
      " ('agg_top_match_none', 0.0134850400337126),\n",
      " ('agg_top_match_wordct_correct', 0.7974785784520297),\n",
      " ('agg_top_sample_result_len_correct', 0.22166034555415087),\n",
      " ('agg_top_sample_result_wordct_correct', 0.7812895069532237),\n",
      " ('filter_len_pre_truncate', 399687),\n",
      " ('filtered_few', 7017),\n",
      " ('generate_few', 0),\n",
      " ('generate_none', 0),\n",
      " ('in_filtered', 9173),\n",
      " ('in_sample', 5416),\n",
      " ('sample_len', 284760),\n",
      " ('sample_len_correct', 45658),\n",
      " ('sample_len_pre_truncate', 2847600),\n",
      " ('sample_wordct_correct', 211150),\n",
      " ('top_10_after_filter', 8362),\n",
      " ('top_match', 4367),\n",
      " ('top_match_len_correct', 28092),\n",
      " ('top_match_none', 384),\n",
      " ('top_match_wordct_correct', 22709),\n",
      " ('top_sample_result_len_correct', 6312),\n",
      " ('top_sample_result_wordct_correct', 22248),\n",
      " ('total', 28476)]\n",
      "28710\n",
      "[('agg_filter_len_pre_truncate', 38.883385579937304),\n",
      " ('agg_filtered_few', 0.01128526645768025),\n",
      " ('agg_generate_few', 0.0),\n",
      " ('agg_generate_none', 0.0),\n",
      " ('agg_in_filtered', 0.21455938697318008),\n",
      " ('agg_in_sample', 0.07836990595611286),\n",
      " ('agg_sample_len', 10.0),\n",
      " ('agg_sample_len_correct', 0.4051724137931034),\n",
      " ('agg_sample_len_pre_truncate', 100.0),\n",
      " ('agg_sample_wordct_correct', 0.98206548241031),\n",
      " ('agg_top_10_after_filter', 0.12643678160919541),\n",
      " ('agg_top_match', 0.03298502264019505),\n",
      " ('agg_top_match_len_correct', 1.0),\n",
      " ('agg_top_match_none', 0.0),\n",
      " ('agg_top_match_wordct_correct', 0.9906652734238941),\n",
      " ('agg_top_sample_result_len_correct', 0.4221525600835946),\n",
      " ('agg_top_sample_result_wordct_correct', 0.984221525600836),\n",
      " ('filter_len_pre_truncate', 1116342),\n",
      " ('filtered_few', 324),\n",
      " ('generate_few', 0),\n",
      " ('generate_none', 0),\n",
      " ('in_filtered', 6160),\n",
      " ('in_sample', 2250),\n",
      " ('sample_len', 287100),\n",
      " ('sample_len_correct', 116325),\n",
      " ('sample_len_pre_truncate', 2871000),\n",
      " ('sample_wordct_correct', 281951),\n",
      " ('top_10_after_filter', 3630),\n",
      " ('top_match', 947),\n",
      " ('top_match_len_correct', 28710),\n",
      " ('top_match_none', 0),\n",
      " ('top_match_wordct_correct', 28442),\n",
      " ('top_sample_result_len_correct', 12120),\n",
      " ('top_sample_result_wordct_correct', 28257),\n",
      " ('total', 28710)]\n"
     ]
    }
   ],
   "source": [
    "## primary val\n",
    "load_and_run('baseline_naive_e12_val')\n",
    "load_and_run('baseline_naive_nolens_e15_val')     # test set"
   ],
   "metadata": {
    "collapsed": false,
    "pycharm": {
     "name": "#%%\n"
    }
   }
  },
  {
   "cell_type": "code",
   "execution_count": 7,
   "outputs": [
    {
     "name": "stdout",
     "output_type": "stream",
     "text": [
      "26546\n",
      "[('agg_filter_len_pre_truncate', 13.30332253446847),\n",
      " ('agg_filtered_few', 0.2847509982671589),\n",
      " ('agg_generate_few', 0.0),\n",
      " ('agg_generate_none', 0.0),\n",
      " ('agg_in_filtered', 0.057146086039327956),\n",
      " ('agg_in_sample', 0.013033978753861222),\n",
      " ('agg_sample_len', 10.0),\n",
      " ('agg_sample_len_correct', 0.12870488962555565),\n",
      " ('agg_sample_len_pre_truncate', 100.0),\n",
      " ('agg_sample_wordct_correct', 0.7729488435169141),\n",
      " ('agg_top_10_after_filter', 0.047653130415128454),\n",
      " ('agg_top_match', 0.009492955624199502),\n",
      " ('agg_top_match_len_correct', 0.9659835756799517),\n",
      " ('agg_top_match_none', 0.03401642432004822),\n",
      " ('agg_top_match_wordct_correct', 0.7763128154900927),\n",
      " ('agg_top_sample_result_len_correct', 0.13414450388005725),\n",
      " ('agg_top_sample_result_wordct_correct', 0.7771038951254426),\n",
      " ('filter_len_pre_truncate', 353150),\n",
      " ('filtered_few', 7559),\n",
      " ('generate_few', 0),\n",
      " ('generate_none', 0),\n",
      " ('in_filtered', 1517),\n",
      " ('in_sample', 346),\n",
      " ('sample_len', 265460),\n",
      " ('sample_len_correct', 34166),\n",
      " ('sample_len_pre_truncate', 2654600),\n",
      " ('sample_wordct_correct', 205187),\n",
      " ('top_10_after_filter', 1265),\n",
      " ('top_match', 252),\n",
      " ('top_match_len_correct', 25643),\n",
      " ('top_match_none', 903),\n",
      " ('top_match_wordct_correct', 20608),\n",
      " ('top_sample_result_len_correct', 3561),\n",
      " ('top_sample_result_wordct_correct', 20629),\n",
      " ('total', 26546)]\n",
      "28085\n",
      "[('agg_filter_len_pre_truncate', 13.317358020295531),\n",
      " ('agg_filtered_few', 0.2852412319743635),\n",
      " ('agg_generate_few', 0.0),\n",
      " ('agg_generate_none', 0.0),\n",
      " ('agg_in_filtered', 0.060744169485490475),\n",
      " ('agg_in_sample', 0.013281110913298914),\n",
      " ('agg_sample_len', 10.0),\n",
      " ('agg_sample_len_correct', 0.12817162186220402),\n",
      " ('agg_sample_len_pre_truncate', 100.0),\n",
      " ('agg_sample_wordct_correct', 0.8021043261527506),\n",
      " ('agg_top_10_after_filter', 0.050667616165212745),\n",
      " ('agg_top_match', 0.00986291614740965),\n",
      " ('agg_top_match_len_correct', 0.967455937333096),\n",
      " ('agg_top_match_none', 0.032544062666904044),\n",
      " ('agg_top_match_wordct_correct', 0.8022431903151148),\n",
      " ('agg_top_sample_result_len_correct', 0.1291792771942318),\n",
      " ('agg_top_sample_result_wordct_correct', 0.8020295531422468),\n",
      " ('filter_len_pre_truncate', 374018),\n",
      " ('filtered_few', 8011),\n",
      " ('generate_few', 0),\n",
      " ('generate_none', 0),\n",
      " ('in_filtered', 1706),\n",
      " ('in_sample', 373),\n",
      " ('sample_len', 280850),\n",
      " ('sample_len_correct', 35997),\n",
      " ('sample_len_pre_truncate', 2808500),\n",
      " ('sample_wordct_correct', 225271),\n",
      " ('top_10_after_filter', 1423),\n",
      " ('top_match', 277),\n",
      " ('top_match_len_correct', 27171),\n",
      " ('top_match_none', 914),\n",
      " ('top_match_wordct_correct', 22531),\n",
      " ('top_sample_result_len_correct', 3628),\n",
      " ('top_sample_result_wordct_correct', 22525),\n",
      " ('total', 28085)]\n"
     ]
    },
    {
     "name": "stderr",
     "output_type": "stream",
     "text": [
      "WARNING:googleapiclient.http:Sleeping 1.41 seconds before retry 1 of 3 for request: POST https://sheets.googleapis.com/v4/spreadsheets/1vCQo-pavKElPbUeKRoM4KL7ZK6zgNOmNz2BlgdSGbyA:batchUpdate?fields=%2A&alt=json, after [Errno 32] Broken pipe\n",
      "WARNING:googleapiclient.http:Sleeping 3.15 seconds before retry 2 of 3 for request: POST https://sheets.googleapis.com/v4/spreadsheets/1vCQo-pavKElPbUeKRoM4KL7ZK6zgNOmNz2BlgdSGbyA:batchUpdate?fields=%2A&alt=json, after [Errno 54] Connection reset by peer\n"
     ]
    }
   ],
   "source": [
    "## no lens - disj2\n",
    "load_and_run('baseline_disj2_nolens_val')\n",
    "load_and_run('baseline_disj2_nolens_test')     # test set\n",
    "\n"
   ],
   "metadata": {
    "collapsed": false,
    "pycharm": {
     "name": "#%%\n"
    }
   }
  },
  {
   "cell_type": "code",
   "execution_count": 5,
   "outputs": [
    {
     "name": "stdout",
     "output_type": "stream",
     "text": [
      "28476\n",
      "[('agg_filter_len_pre_truncate', 88.33677482792527),\n",
      " ('agg_filtered_few', 0.001685630004214075),\n",
      " ('agg_generate_few', 0.0),\n",
      " ('agg_generate_none', 0.0),\n",
      " ('agg_in_filtered', 0.6056679308891698),\n",
      " ('agg_in_sample', 0.41515662312122487),\n",
      " ('agg_sample_len', 10.0),\n",
      " ('agg_sample_len_correct', 0.9134042702626773),\n",
      " ('agg_sample_len_pre_truncate', 100.0),\n",
      " ('agg_sample_wordct_correct', 0.9718253968253968),\n",
      " ('agg_top_10_after_filter', 0.4220747295968535),\n",
      " ('agg_top_match', 0.21519876387133025),\n",
      " ('agg_top_match_len_correct', 0.9998244135412278),\n",
      " ('agg_top_match_none', 0.00017558645877229948),\n",
      " ('agg_top_match_wordct_correct', 0.9902373928922602),\n",
      " ('agg_top_sample_result_len_correct', 0.9383340356791684),\n",
      " ('agg_top_sample_result_wordct_correct', 0.9814229526618907),\n",
      " ('filter_len_pre_truncate', 2515478),\n",
      " ('filtered_few', 48),\n",
      " ('generate_few', 0),\n",
      " ('generate_none', 0),\n",
      " ('in_filtered', 17247),\n",
      " ('in_sample', 11822),\n",
      " ('sample_len', 284760),\n",
      " ('sample_len_correct', 260101),\n",
      " ('sample_len_pre_truncate', 2847600),\n",
      " ('sample_wordct_correct', 276737),\n",
      " ('top_10_after_filter', 12019),\n",
      " ('top_match', 6128),\n",
      " ('top_match_len_correct', 28471),\n",
      " ('top_match_none', 5),\n",
      " ('top_match_wordct_correct', 28198),\n",
      " ('top_sample_result_len_correct', 26720),\n",
      " ('top_sample_result_wordct_correct', 27947),\n",
      " ('total', 28476)]\n",
      "28476\n",
      "[('agg_filter_len_pre_truncate', 88.25755021772721),\n",
      " ('agg_filtered_few', 0.0017909818794774547),\n",
      " ('agg_generate_few', 0.0),\n",
      " ('agg_generate_none', 0.0),\n",
      " ('agg_in_filtered', 0.6022615535889873),\n",
      " ('agg_in_sample', 0.41677201854193),\n",
      " ('agg_sample_len', 10.0),\n",
      " ('agg_sample_len_correct', 0.9126176429273775),\n",
      " ('agg_sample_len_pre_truncate', 100.0),\n",
      " ('agg_sample_wordct_correct', 0.9708140188228683),\n",
      " ('agg_top_10_after_filter', 0.42358477314229526),\n",
      " ('agg_top_match', 0.2179379126281781),\n",
      " ('agg_top_match_len_correct', 0.9998946481247366),\n",
      " ('agg_top_match_none', 0.00010535187526337969),\n",
      " ('agg_top_match_wordct_correct', 0.9898862199747156),\n",
      " ('agg_top_sample_result_len_correct', 0.9377721590110971),\n",
      " ('agg_top_sample_result_wordct_correct', 0.97984267453294),\n",
      " ('filter_len_pre_truncate', 2513222),\n",
      " ('filtered_few', 51),\n",
      " ('generate_few', 0),\n",
      " ('generate_none', 0),\n",
      " ('in_filtered', 17150),\n",
      " ('in_sample', 11868),\n",
      " ('sample_len', 284760),\n",
      " ('sample_len_correct', 259877),\n",
      " ('sample_len_pre_truncate', 2847600),\n",
      " ('sample_wordct_correct', 276449),\n",
      " ('top_10_after_filter', 12062),\n",
      " ('top_match', 6206),\n",
      " ('top_match_len_correct', 28473),\n",
      " ('top_match_none', 3),\n",
      " ('top_match_wordct_correct', 28188),\n",
      " ('top_sample_result_len_correct', 26704),\n",
      " ('top_sample_result_wordct_correct', 27902),\n",
      " ('total', 28476)]\n"
     ]
    }
   ],
   "source": [
    "# top curricular\n",
    "load_and_run('cw_4_4_e19_val_all')\n",
    "load_and_run('cw_4_4_e19_test_all')"
   ],
   "metadata": {
    "collapsed": false,
    "pycharm": {
     "name": "#%%\n"
    }
   }
  },
  {
   "cell_type": "code",
   "execution_count": 6,
   "outputs": [
    {
     "name": "stdout",
     "output_type": "stream",
     "text": [
      "28085\n",
      "[('agg_filter_len_pre_truncate', 84.89104504183727),\n",
      " ('agg_filtered_few', 0.053444899412497776),\n",
      " ('agg_generate_few', 0.0),\n",
      " ('agg_generate_none', 0.0),\n",
      " ('agg_in_filtered', 0.386612070500267),\n",
      " ('agg_in_sample', 0.1935196724230016),\n",
      " ('agg_sample_len', 10.0),\n",
      " ('agg_sample_len_correct', 0.861146519494392),\n",
      " ('agg_sample_len_pre_truncate', 100.0),\n",
      " ('agg_sample_wordct_correct', 0.9229944810397009),\n",
      " ('agg_top_10_after_filter', 0.2),\n",
      " ('agg_top_match', 0.06498130674737404),\n",
      " ('agg_top_match_len_correct', 0.991917393626491),\n",
      " ('agg_top_match_none', 0.00808260637350899),\n",
      " ('agg_top_match_wordct_correct', 0.9389709809506854),\n",
      " ('agg_top_sample_result_len_correct', 0.8667616165212747),\n",
      " ('agg_top_sample_result_wordct_correct', 0.9304254940359623),\n",
      " ('filter_len_pre_truncate', 2384165),\n",
      " ('filtered_few', 1501),\n",
      " ('generate_few', 0),\n",
      " ('generate_none', 0),\n",
      " ('in_filtered', 10858),\n",
      " ('in_sample', 5435),\n",
      " ('sample_len', 280850),\n",
      " ('sample_len_correct', 241853),\n",
      " ('sample_len_pre_truncate', 2808500),\n",
      " ('sample_wordct_correct', 259223),\n",
      " ('top_10_after_filter', 5617),\n",
      " ('top_match', 1825),\n",
      " ('top_match_len_correct', 27858),\n",
      " ('top_match_none', 227),\n",
      " ('top_match_wordct_correct', 26371),\n",
      " ('top_sample_result_len_correct', 24343),\n",
      " ('top_sample_result_wordct_correct', 26131),\n",
      " ('total', 28085)]\n",
      "26546\n",
      "[('agg_filter_len_pre_truncate', 82.56969034882844),\n",
      " ('agg_filtered_few', 0.06528290514578468),\n",
      " ('agg_generate_few', 0.0),\n",
      " ('agg_generate_none', 0.0),\n",
      " ('agg_in_filtered', 0.3651774278610713),\n",
      " ('agg_in_sample', 0.1828147366834928),\n",
      " ('agg_sample_len', 10.0),\n",
      " ('agg_sample_len_correct', 0.8370677314849695),\n",
      " ('agg_sample_len_pre_truncate', 100.0),\n",
      " ('agg_sample_wordct_correct', 0.9083590748135312),\n",
      " ('agg_top_10_after_filter', 0.18918104422511867),\n",
      " ('agg_top_match', 0.06113915467490394),\n",
      " ('agg_top_match_len_correct', 0.9888872146462744),\n",
      " ('agg_top_match_none', 0.011112785353725608),\n",
      " ('agg_top_match_wordct_correct', 0.9278234008890228),\n",
      " ('agg_top_sample_result_len_correct', 0.8435545844948391),\n",
      " ('agg_top_sample_result_wordct_correct', 0.9141490243351164),\n",
      " ('filter_len_pre_truncate', 2191895),\n",
      " ('filtered_few', 1733),\n",
      " ('generate_few', 0),\n",
      " ('generate_none', 0),\n",
      " ('in_filtered', 9694),\n",
      " ('in_sample', 4853),\n",
      " ('sample_len', 265460),\n",
      " ('sample_len_correct', 222208),\n",
      " ('sample_len_pre_truncate', 2654600),\n",
      " ('sample_wordct_correct', 241133),\n",
      " ('top_10_after_filter', 5022),\n",
      " ('top_match', 1623),\n",
      " ('top_match_len_correct', 26251),\n",
      " ('top_match_none', 295),\n",
      " ('top_match_wordct_correct', 24630),\n",
      " ('top_sample_result_len_correct', 22393),\n",
      " ('top_sample_result_wordct_correct', 24267),\n",
      " ('total', 26546)]\n"
     ]
    },
    {
     "name": "stderr",
     "output_type": "stream",
     "text": [
      "WARNING:googleapiclient.http:Sleeping 1.89 seconds before retry 1 of 3 for request: POST https://sheets.googleapis.com/v4/spreadsheets/1vCQo-pavKElPbUeKRoM4KL7ZK6zgNOmNz2BlgdSGbyA:batchUpdate?fields=%2A&alt=json, after [Errno 32] Broken pipe\n",
      "WARNING:googleapiclient.http:Sleeping 0.39 seconds before retry 2 of 3 for request: POST https://sheets.googleapis.com/v4/spreadsheets/1vCQo-pavKElPbUeKRoM4KL7ZK6zgNOmNz2BlgdSGbyA:batchUpdate?fields=%2A&alt=json, after [Errno 54] Connection reset by peer\n"
     ]
    }
   ],
   "source": [
    "##\n",
    "# top curricular disjoint\n",
    "load_and_run('curr_4_4_disj2_test')\n",
    "load_and_run('curr_4_4_disj2_dev')"
   ],
   "metadata": {
    "collapsed": false,
    "pycharm": {
     "name": "#%%\n"
    }
   }
  },
  {
   "cell_type": "code",
   "execution_count": 21,
   "outputs": [
    {
     "name": "stdout",
     "output_type": "stream",
     "text": [
      "28476\n",
      "With filter check_inclusion\n",
      "[('agg_filter_len_pre_truncate', 2.173794976238968),\n",
      " ('agg_filtered_few', 1.0),\n",
      " ('agg_generate_few', 1.0),\n",
      " ('agg_generate_none', 0.0),\n",
      " ('agg_in_filtered', 0.1945010183299389),\n",
      " ('agg_in_sample', 0.1945010183299389),\n",
      " ('agg_sample_len', 5.0),\n",
      " ('agg_sample_len_correct', 0.43638832315003395),\n",
      " ('agg_sample_len_pre_truncate', 5.0),\n",
      " ('agg_sample_wordct_correct', 0.9726408689748812),\n",
      " ('agg_top_10_after_filter', 0.1945010183299389),\n",
      " ('agg_top_match', 0.13713509843856075),\n",
      " ('agg_top_match_len_correct', 0.8988458927359131),\n",
      " ('agg_top_match_none', 0.1011541072640869),\n",
      " ('agg_top_match_wordct_correct', 0.8920570264765784),\n",
      " ('agg_top_sample_result_len_correct', 0.4820095044127631),\n",
      " ('agg_top_sample_result_wordct_correct', 0.9769178547182621),\n",
      " ('filter_len_pre_truncate', 6404),\n",
      " ('filtered_few', 2946),\n",
      " ('generate_few', 2946),\n",
      " ('generate_none', 0),\n",
      " ('in_filtered', 573),\n",
      " ('in_sample', 573),\n",
      " ('sample_len', 14730),\n",
      " ('sample_len_correct', 6428),\n",
      " ('sample_len_pre_truncate', 14730),\n",
      " ('sample_wordct_correct', 14327),\n",
      " ('top_10_after_filter', 573),\n",
      " ('top_match', 404),\n",
      " ('top_match_len_correct', 2648),\n",
      " ('top_match_none', 298),\n",
      " ('top_match_wordct_correct', 2628),\n",
      " ('top_sample_result_len_correct', 1420),\n",
      " ('top_sample_result_wordct_correct', 2878),\n",
      " ('total', 2946)]\n"
     ]
    }
   ],
   "source": [
    "# todo: josh (should be in another folder)\n",
    "\n",
    "## primary - anagram subset performance\n",
    "load_and_run('baseline_naive_e12_val',\n",
    "             filter_fcn=vt.make_set_filter('anag_direct'),\n",
    "             pre_truncate=5)"
   ],
   "metadata": {
    "collapsed": false,
    "pycharm": {
     "name": "#%%\n"
    }
   }
  },
  {
   "cell_type": "code",
   "execution_count": 24,
   "outputs": [
    {
     "name": "stdout",
     "output_type": "stream",
     "text": [
      "28476\n",
      "With filter check_inclusion\n",
      "[('agg_filter_len_pre_truncate', 3.8727087576374744),\n",
      " ('agg_filtered_few', 1.0),\n",
      " ('agg_generate_few', 1.0),\n",
      " ('agg_generate_none', 0.0),\n",
      " ('agg_in_filtered', 0.3000678886625934),\n",
      " ('agg_in_sample', 0.3000678886625934),\n",
      " ('agg_sample_len', 5.0),\n",
      " ('agg_sample_len_correct', 0.7803801765105227),\n",
      " ('agg_sample_len_pre_truncate', 5.0),\n",
      " ('agg_sample_wordct_correct', 0.9613713509843856),\n",
      " ('agg_top_10_after_filter', 0.3000678886625934),\n",
      " ('agg_top_match', 0.21384928716904278),\n",
      " ('agg_top_match_len_correct', 0.9758995247793618),\n",
      " ('agg_top_match_none', 0.024100475220638153),\n",
      " ('agg_top_match_wordct_correct', 0.9694501018329938),\n",
      " ('agg_top_sample_result_len_correct', 0.8295994568906992),\n",
      " ('agg_top_sample_result_wordct_correct', 0.9755600814663951),\n",
      " ('filter_len_pre_truncate', 11409),\n",
      " ('filtered_few', 2946),\n",
      " ('generate_few', 2946),\n",
      " ('generate_none', 0),\n",
      " ('in_filtered', 884),\n",
      " ('in_sample', 884),\n",
      " ('sample_len', 14730),\n",
      " ('sample_len_correct', 11495),\n",
      " ('sample_len_pre_truncate', 14730),\n",
      " ('sample_wordct_correct', 14161),\n",
      " ('top_10_after_filter', 884),\n",
      " ('top_match', 630),\n",
      " ('top_match_len_correct', 2875),\n",
      " ('top_match_none', 71),\n",
      " ('top_match_wordct_correct', 2856),\n",
      " ('top_sample_result_len_correct', 2444),\n",
      " ('top_sample_result_wordct_correct', 2874),\n",
      " ('total', 2946)]\n"
     ]
    }
   ],
   "source": [
    "# best performing model after curricular train\n",
    "load_and_run('ACW_descrambleonly_20',\n",
    "             filter_fcn=vt.make_set_filter('anag_direct'))"
   ],
   "metadata": {
    "collapsed": false,
    "pycharm": {
     "name": "#%%\n"
    }
   }
  },
  {
   "cell_type": "code",
   "execution_count": null,
   "outputs": [],
   "source": [
    "## disjoint sets\n",
    "\n",
    "# disjoint 1\n",
    "load_and_run('baseline_disj1_e6_val')\n",
    "# disjoint 2 (true disjoint)\n",
    "load_and_run('baseline_disj2_e1_val')"
   ],
   "metadata": {
    "collapsed": false,
    "pycharm": {
     "name": "#%%\n"
    }
   }
  },
  {
   "cell_type": "code",
   "execution_count": 5,
   "outputs": [
    {
     "name": "stdout",
     "output_type": "stream",
     "text": [
      "28521\n",
      "[('agg_filter_len_pre_truncate', 39.15812909785772),\n",
      " ('agg_filtered_few', 0.010378317730794853),\n",
      " ('agg_generate_few', 0.0),\n",
      " ('agg_generate_none', 0.0),\n",
      " ('agg_in_filtered', 0.21976789032642613),\n",
      " ('agg_in_sample', 0.07776725921251008),\n",
      " ('agg_sample_len', 10.0),\n",
      " ('agg_sample_len_correct', 0.40793450440026646),\n",
      " ('agg_sample_len_pre_truncate', 100.0),\n",
      " ('agg_sample_wordct_correct', 0.9815890045931068),\n",
      " ('agg_top_10_after_filter', 0.12864205322394026),\n",
      " ('agg_top_match', 0.0323621191402826),\n",
      " ('agg_top_match_len_correct', 0.9999649381157744),\n",
      " ('agg_top_match_none', 3.5061884225658285e-05),\n",
      " ('agg_top_match_wordct_correct', 0.9913747764804881),\n",
      " ('agg_top_sample_result_len_correct', 0.4201816205602889),\n",
      " ('agg_top_sample_result_wordct_correct', 0.9843273377511308),\n",
      " ('filter_len_pre_truncate', 1116829),\n",
      " ('filtered_few', 296),\n",
      " ('generate_few', 0),\n",
      " ('generate_none', 0),\n",
      " ('in_filtered', 6268),\n",
      " ('in_sample', 2218),\n",
      " ('sample_len', 285210),\n",
      " ('sample_len_correct', 116347),\n",
      " ('sample_len_pre_truncate', 2852100),\n",
      " ('sample_wordct_correct', 279959),\n",
      " ('top_10_after_filter', 3669),\n",
      " ('top_match', 923),\n",
      " ('top_match_len_correct', 28520),\n",
      " ('top_match_none', 1),\n",
      " ('top_match_wordct_correct', 28275),\n",
      " ('top_sample_result_len_correct', 11984),\n",
      " ('top_sample_result_wordct_correct', 28074),\n",
      " ('total', 28521)]\n",
      "28085\n",
      "[('agg_filter_len_pre_truncate', 16.954780131742922),\n",
      " ('agg_filtered_few', 0.1413209898522343),\n",
      " ('agg_generate_few', 0.0),\n",
      " ('agg_generate_none', 0.0),\n",
      " ('agg_in_filtered', 0.07530710343599786),\n",
      " ('agg_in_sample', 0.019084920776215063),\n",
      " ('agg_sample_len', 10.0),\n",
      " ('agg_sample_len_correct', 0.16546199038632722),\n",
      " ('agg_sample_len_pre_truncate', 100.0),\n",
      " ('agg_sample_wordct_correct', 0.8755955136193698),\n",
      " ('agg_top_10_after_filter', 0.05775324906533737),\n",
      " ('agg_top_match', 0.010966708207228058),\n",
      " ('agg_top_match_len_correct', 0.9900302652661563),\n",
      " ('agg_top_match_none', 0.009969734733843688),\n",
      " ('agg_top_match_wordct_correct', 0.867438134235357),\n",
      " ('agg_top_sample_result_len_correct', 0.15666726010325796),\n",
      " ('agg_top_sample_result_wordct_correct', 0.8715684529108065),\n",
      " ('filter_len_pre_truncate', 476175),\n",
      " ('filtered_few', 3969),\n",
      " ('generate_few', 0),\n",
      " ('generate_none', 0),\n",
      " ('in_filtered', 2115),\n",
      " ('in_sample', 536),\n",
      " ('sample_len', 280850),\n",
      " ('sample_len_correct', 46470),\n",
      " ('sample_len_pre_truncate', 2808500),\n",
      " ('sample_wordct_correct', 245911),\n",
      " ('top_10_after_filter', 1622),\n",
      " ('top_match', 308),\n",
      " ('top_match_len_correct', 27805),\n",
      " ('top_match_none', 280),\n",
      " ('top_match_wordct_correct', 24362),\n",
      " ('top_sample_result_len_correct', 4400),\n",
      " ('top_sample_result_wordct_correct', 24478),\n",
      " ('total', 28085)]\n"
     ]
    }
   ],
   "source": [
    "# disjoint sets (test)\n",
    "\n",
    "# disjoint 1\n",
    "load_and_run('baseline_disj1_e6_test')\n",
    "# disjoint 2 (true disjoint)\n",
    "load_and_run('baseline_disj2_e1_test')"
   ],
   "metadata": {
    "collapsed": false,
    "pycharm": {
     "name": "#%%\n"
    }
   }
  },
  {
   "cell_type": "code",
   "execution_count": 5,
   "outputs": [
    {
     "name": "stderr",
     "output_type": "stream",
     "text": [
      "INFO:data_util.scrape_parse.guardian_scrape:loading from /Users/jsrozner/jsrozner/cryptic/cryptic-code/data/puzzles/guardian_data/guardian_2020_10_08_json\n",
      "INFO:data_util.scrape_parse.guardian_scrape:Using file glob at /Users/jsrozner/jsrozner/cryptic/cryptic-code/data/puzzles/guardian_data/guardian_2020_10_08_json/cryptic*.json\n",
      "INFO:data_util.scrape_parse.guardian_scrape:Glob has size 5518\n",
      "100%|██████████| 5518/5518 [00:22<00:00, 241.82it/s]\n",
      "INFO:data_util.scrape_parse.guardian_scrape:Params set to not filter\n",
      "100%|██████████| 143991/143991 [00:05<00:00, 24810.84it/s]\n",
      "100%|██████████| 55783/55783 [00:06<00:00, 8603.18it/s] \n",
      "INFO:data_util.scrape_parse.guardian_scrape:Counter({1: 118540, 2: 20105, 3: 2929, 4: 686, 5: 112, 6: 8})\n"
     ]
    },
    {
     "name": "stdout",
     "output_type": "stream",
     "text": [
      "[(\"length punct: '\", 1),\n",
      " ('invalid: clue group', 7687),\n",
      " ('invalid: invalid start char (most are continuation clues)', 607),\n",
      " ('invalid: number in clue (commonly references another clue)', 7066),\n",
      " ('invalid: regexp', 75),\n",
      " ('invalid: soln length does not match specified lens (multi box soln)', 56),\n",
      " ('invalid: unrecognized char in clue (e.g. html)', 85),\n",
      " ('invalid: zero-len clue text after regexp', 15),\n",
      " ('length punct: ,', 24644),\n",
      " ('length punct: -', 4148),\n",
      " ('length punct: .', 8),\n",
      " ('length punct: /', 1),\n",
      " ('stat: parsed_puzzle', 5518),\n",
      " ('stat: total_clues', 143991),\n",
      " (1, 119956),\n",
      " (2, 20272),\n",
      " (3, 2957),\n",
      " (4, 686),\n",
      " (5, 112),\n",
      " (6, 8)]\n",
      "Total clues: len(puzz_list)\n",
      "removed 1611 exact dupes\n",
      "142380\n"
     ]
    }
   ],
   "source": [
    "\n",
    "\n",
    "\n",
    "# special eval\n",
    "# train overlap performance\n",
    "# load_and_run('baseline_naive_e12_val')\n",
    "\n",
    "_, _, (train, _, _) = load_guardian_splits(k_json_folder)"
   ],
   "metadata": {
    "collapsed": false,
    "pycharm": {
     "name": "#%%\n"
    }
   }
  },
  {
   "cell_type": "code",
   "execution_count": 6,
   "outputs": [],
   "source": [
    "def make_set_inclusion_filter_fcn(train_set: List[BaseClue]):\n",
    "    s = set()\n",
    "    for c in train_set:\n",
    "        s.add(c.soln_with_spaces)\n",
    "\n",
    "    # return False to omit\n",
    "    def filter_fcn(mp: vt.ModelPrediction):\n",
    "        if mp.target in s:\n",
    "            return False\n",
    "        return True\n",
    "    return filter_fcn"
   ],
   "metadata": {
    "collapsed": false,
    "pycharm": {
     "name": "#%%\n"
    }
   }
  },
  {
   "cell_type": "code",
   "execution_count": 7,
   "outputs": [
    {
     "name": "stdout",
     "output_type": "stream",
     "text": [
      "28476\n",
      "With filter filter_fcn\n",
      "[('agg_filter_len_pre_truncate', 38.64603782619105),\n",
      " ('agg_filtered_few', 0.014962892027771128),\n",
      " ('agg_generate_few', 0.0),\n",
      " ('agg_generate_none', 0.0),\n",
      " ('agg_in_filtered', 0.15872635863059611),\n",
      " ('agg_in_sample', 0.06308355278908308),\n",
      " ('agg_sample_len', 10.0),\n",
      " ('agg_sample_len_correct', 0.41554943739525974),\n",
      " ('agg_sample_len_pre_truncate', 100.0),\n",
      " ('agg_sample_wordct_correct', 0.963574335647594),\n",
      " ('agg_top_10_after_filter', 0.09456547761551352),\n",
      " ('agg_top_match', 0.030045487191764423),\n",
      " ('agg_top_match_len_correct', 0.9998802968637779),\n",
      " ('agg_top_match_none', 0.00011970313622216902),\n",
      " ('agg_top_match_wordct_correct', 0.9868326550155614),\n",
      " ('agg_top_sample_result_len_correct', 0.44613358870002395),\n",
      " ('agg_top_sample_result_wordct_correct', 0.96744074694757),\n",
      " ('filter_len_pre_truncate', 322849),\n",
      " ('filtered_few', 125),\n",
      " ('generate_few', 0),\n",
      " ('generate_none', 0),\n",
      " ('in_filtered', 1326),\n",
      " ('in_sample', 527),\n",
      " ('sample_len', 83540),\n",
      " ('sample_len_correct', 34715),\n",
      " ('sample_len_pre_truncate', 835400),\n",
      " ('sample_wordct_correct', 80497),\n",
      " ('top_10_after_filter', 790),\n",
      " ('top_match', 251),\n",
      " ('top_match_len_correct', 8353),\n",
      " ('top_match_none', 1),\n",
      " ('top_match_wordct_correct', 8244),\n",
      " ('top_sample_result_len_correct', 3727),\n",
      " ('top_sample_result_wordct_correct', 8082),\n",
      " ('total', 8354)]\n",
      "28476\n",
      "With filter filter_fcn\n",
      "[('agg_filter_len_pre_truncate', 38.605667918130074),\n",
      " ('agg_filtered_few', 0.01731863873077389),\n",
      " ('agg_generate_few', 0.0),\n",
      " ('agg_generate_none', 0.0),\n",
      " ('agg_in_filtered', 0.15901659198256024),\n",
      " ('agg_in_sample', 0.0634613055589197),\n",
      " ('agg_sample_len', 10.0),\n",
      " ('agg_sample_len_correct', 0.4114327237495458),\n",
      " ('agg_sample_len_pre_truncate', 100.0),\n",
      " ('agg_sample_wordct_correct', 0.9616931088773162),\n",
      " ('agg_top_10_after_filter', 0.09688748940293085),\n",
      " ('agg_top_match', 0.028097371926849947),\n",
      " ('agg_top_match_len_correct', 0.999636671914739),\n",
      " ('agg_top_match_none', 0.00036332808526099065),\n",
      " ('agg_top_match_wordct_correct', 0.9874046263776189),\n",
      " ('agg_top_sample_result_len_correct', 0.4373259052924791),\n",
      " ('agg_top_sample_result_wordct_correct', 0.9662104880707278),\n",
      " ('filter_len_pre_truncate', 318767),\n",
      " ('filtered_few', 143),\n",
      " ('generate_few', 0),\n",
      " ('generate_none', 0),\n",
      " ('in_filtered', 1313),\n",
      " ('in_sample', 524),\n",
      " ('sample_len', 82570),\n",
      " ('sample_len_correct', 33972),\n",
      " ('sample_len_pre_truncate', 825700),\n",
      " ('sample_wordct_correct', 79407),\n",
      " ('top_10_after_filter', 800),\n",
      " ('top_match', 232),\n",
      " ('top_match_len_correct', 8254),\n",
      " ('top_match_none', 3),\n",
      " ('top_match_wordct_correct', 8153),\n",
      " ('top_sample_result_len_correct', 3611),\n",
      " ('top_sample_result_wordct_correct', 7978),\n",
      " ('total', 8257)]\n"
     ]
    }
   ],
   "source": [
    "# subset that does not overlap with train (exact match)\n",
    "load_and_run('baseline_naive_e12_val',\n",
    "             label='baseline_naive_e12_val_diff_exact',\n",
    "             filter_fcn=make_set_inclusion_filter_fcn(train))\n",
    "load_and_run('baseline_naive_e12_test',\n",
    "             label='baseline_naive_e12_test_diff_exact',\n",
    "             filter_fcn=make_set_inclusion_filter_fcn(train))"
   ],
   "metadata": {
    "collapsed": false,
    "pycharm": {
     "name": "#%%\n"
    }
   }
  },
  {
   "cell_type": "code",
   "execution_count": 28,
   "outputs": [
    {
     "name": "stderr",
     "output_type": "stream",
     "text": [
      "INFO:data_util.scrape_parse.guardian_scrape:loading from /Users/jsrozner/jsrozner/cryptic/cryptic-code/data/puzzles/guardian_data/guardian_2020_10_08_json\n",
      "INFO:data_util.scrape_parse.guardian_scrape:Using file glob at /Users/jsrozner/jsrozner/cryptic/cryptic-code/data/puzzles/guardian_data/guardian_2020_10_08_json/cryptic*.json\n",
      "INFO:data_util.scrape_parse.guardian_scrape:Glob has size 5518\n",
      "100%|██████████| 5518/5518 [00:19<00:00, 287.01it/s]\n",
      "INFO:data_util.scrape_parse.guardian_scrape:Params set to not filter\n",
      "100%|██████████| 143991/143991 [00:00<00:00, 637508.78it/s]\n",
      "100%|██████████| 55783/55783 [00:02<00:00, 22397.92it/s]\n",
      "INFO:data_util.scrape_parse.guardian_scrape:Counter({1: 118540, 2: 20105, 3: 2929, 4: 686, 5: 112, 6: 8})\n"
     ]
    },
    {
     "name": "stdout",
     "output_type": "stream",
     "text": [
      "[(\"length punct: '\", 1),\n",
      " ('invalid: clue group', 7687),\n",
      " ('invalid: invalid start char (most are continuation clues)', 607),\n",
      " ('invalid: number in clue (commonly references another clue)', 7066),\n",
      " ('invalid: regexp', 75),\n",
      " ('invalid: soln length does not match specified lens (multi box soln)', 56),\n",
      " ('invalid: unrecognized char in clue (e.g. html)', 85),\n",
      " ('invalid: zero-len clue text after regexp', 15),\n",
      " ('length punct: ,', 24644),\n",
      " ('length punct: -', 4148),\n",
      " ('length punct: .', 8),\n",
      " ('length punct: /', 1),\n",
      " ('stat: parsed_puzzle', 5518),\n",
      " ('stat: total_clues', 143991),\n",
      " (1, 119956),\n",
      " (2, 20272),\n",
      " (3, 2957),\n",
      " (4, 686),\n",
      " (5, 112),\n",
      " (6, 8)]\n",
      "Total clues: len(puzz_list)\n",
      "removed 1611 exact dupes\n",
      "142380\n"
     ]
    }
   ],
   "source": [],
   "metadata": {
    "collapsed": false,
    "pycharm": {
     "name": "#%%\n"
    }
   }
  },
  {
   "cell_type": "code",
   "execution_count": 8,
   "outputs": [],
   "source": [
    "###\n",
    "# prepare for set that does not overlap, fuzzily\n",
    "##\n",
    "# this result not in paper\n",
    "def make_set_inclusion_filter_fcn_fuzz(train_set: List[BaseClue]):\n",
    "    s = set()\n",
    "    for c in train_set:\n",
    "        soln = c.soln_with_spaces\n",
    "        if soln.endswith('es'):\n",
    "            s.add(soln[:-2])\n",
    "        if soln.endswith('s'):\n",
    "            s.add(soln[:-1])\n",
    "        s.add(soln + 'es')\n",
    "        s.add(soln + 's')\n",
    "        s.add(soln)\n",
    "\n",
    "    # return False to omit\n",
    "    def filter_fcn(mp: vt.ModelPrediction):\n",
    "        if mp.target in s or mp.target[:-1] in s or mp.target[:-2] in s:\n",
    "            return False\n",
    "        return True\n",
    "    return filter_fcn"
   ],
   "metadata": {
    "collapsed": false,
    "pycharm": {
     "name": "#%%\n"
    }
   }
  },
  {
   "cell_type": "code",
   "execution_count": 9,
   "outputs": [
    {
     "name": "stdout",
     "output_type": "stream",
     "text": [
      "28476\n",
      "With filter filter_fcn\n",
      "[('agg_filter_len_pre_truncate', 37.30992736077482),\n",
      " ('agg_filtered_few', 0.01791767554479419),\n",
      " ('agg_generate_few', 0.0),\n",
      " ('agg_generate_none', 0.0),\n",
      " ('agg_in_filtered', 0.12784503631961258),\n",
      " ('agg_in_sample', 0.049878934624697335),\n",
      " ('agg_sample_len', 10.0),\n",
      " ('agg_sample_len_correct', 0.40508474576271186),\n",
      " ('agg_sample_len_pre_truncate', 100.0),\n",
      " ('agg_sample_wordct_correct', 0.9544471347861179),\n",
      " ('agg_top_10_after_filter', 0.07602905569007264),\n",
      " ('agg_top_match', 0.022598870056497175),\n",
      " ('agg_top_match_len_correct', 0.9998385794995964),\n",
      " ('agg_top_match_none', 0.00016142050040355126),\n",
      " ('agg_top_match_wordct_correct', 0.9832122679580306),\n",
      " ('agg_top_sample_result_len_correct', 0.4314769975786925),\n",
      " ('agg_top_sample_result_wordct_correct', 0.9583535108958838),\n",
      " ('filter_len_pre_truncate', 231135),\n",
      " ('filtered_few', 111),\n",
      " ('generate_few', 0),\n",
      " ('generate_none', 0),\n",
      " ('in_filtered', 792),\n",
      " ('in_sample', 309),\n",
      " ('sample_len', 61950),\n",
      " ('sample_len_correct', 25095),\n",
      " ('sample_len_pre_truncate', 619500),\n",
      " ('sample_wordct_correct', 59128),\n",
      " ('top_10_after_filter', 471),\n",
      " ('top_match', 140),\n",
      " ('top_match_len_correct', 6194),\n",
      " ('top_match_none', 1),\n",
      " ('top_match_wordct_correct', 6091),\n",
      " ('top_sample_result_len_correct', 2673),\n",
      " ('top_sample_result_wordct_correct', 5937),\n",
      " ('total', 6195)]\n",
      "28476\n",
      "With filter filter_fcn\n",
      "[('agg_filter_len_pre_truncate', 37.38182412553122),\n",
      " ('agg_filtered_few', 0.022229486760379207),\n",
      " ('agg_generate_few', 0.0),\n",
      " ('agg_generate_none', 0.0),\n",
      " ('agg_in_filtered', 0.13010787839163127),\n",
      " ('agg_in_sample', 0.05067015364498202),\n",
      " ('agg_sample_len', 10.0),\n",
      " ('agg_sample_len_correct', 0.40096436744034),\n",
      " ('agg_sample_len_pre_truncate', 100.0),\n",
      " ('agg_sample_wordct_correct', 0.9521902582543315),\n",
      " ('agg_top_10_after_filter', 0.08009153318077804),\n",
      " ('agg_top_match', 0.021739130434782608),\n",
      " ('agg_top_match_len_correct', 0.9995096436744034),\n",
      " ('agg_top_match_none', 0.0004903563255966002),\n",
      " ('agg_top_match_wordct_correct', 0.9838182412553121),\n",
      " ('agg_top_sample_result_len_correct', 0.422360248447205),\n",
      " ('agg_top_sample_result_wordct_correct', 0.9579928081072245),\n",
      " ('filter_len_pre_truncate', 228702),\n",
      " ('filtered_few', 136),\n",
      " ('generate_few', 0),\n",
      " ('generate_none', 0),\n",
      " ('in_filtered', 796),\n",
      " ('in_sample', 310),\n",
      " ('sample_len', 61180),\n",
      " ('sample_len_correct', 24531),\n",
      " ('sample_len_pre_truncate', 611800),\n",
      " ('sample_wordct_correct', 58255),\n",
      " ('top_10_after_filter', 490),\n",
      " ('top_match', 133),\n",
      " ('top_match_len_correct', 6115),\n",
      " ('top_match_none', 3),\n",
      " ('top_match_wordct_correct', 6019),\n",
      " ('top_sample_result_len_correct', 2584),\n",
      " ('top_sample_result_wordct_correct', 5861),\n",
      " ('total', 6118)]\n"
     ]
    }
   ],
   "source": [
    "load_and_run('baseline_naive_e12_val',\n",
    "             label='baseline_naive_e12_val_diff_plurals',\n",
    "             filter_fcn=make_set_inclusion_filter_fcn_fuzz(train))\n",
    "load_and_run('baseline_naive_e12_test',\n",
    "             label='baseline_naive_e12_test_diff_plurals',\n",
    "             filter_fcn=make_set_inclusion_filter_fcn_fuzz(train))"
   ],
   "metadata": {
    "collapsed": false,
    "pycharm": {
     "name": "#%%\n"
    }
   }
  },
  {
   "cell_type": "code",
   "execution_count": null,
   "outputs": [],
   "source": [
    "###\n",
    "# disjoint\n",
    "###\n",
    "# not reported in paper\n",
    "_, _, (train_disj, val_disj, _) = load_guardian_splits_disjoint_hash(k_json_folder)\n",
    "\n",
    "load_and_run('baseline_disj1_e6_val',\n",
    "             label='baseline_disj1_e6_val_diff',\n",
    "             filter_fcn=make_set_inclusion_filter_fcn_fuzz(train_disj))\n",
    "\n",
    "\n"
   ],
   "metadata": {
    "collapsed": false,
    "pycharm": {
     "name": "#%%\n"
    }
   }
  }
 ],
 "metadata": {
  "kernelspec": {
   "display_name": "Python 3",
   "language": "python",
   "name": "python3"
  },
  "language_info": {
   "codemirror_mode": {
    "name": "ipython",
    "version": 2
   },
   "file_extension": ".py",
   "mimetype": "text/x-python",
   "name": "python",
   "nbconvert_exporter": "python",
   "pygments_lexer": "ipython2",
   "version": "2.7.6"
  }
 },
 "nbformat": 4,
 "nbformat_minor": 0
}