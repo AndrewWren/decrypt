{
 "cells": [
  {
   "cell_type": "markdown",
   "metadata": {
    "collapsed": true,
    "pycharm": {
     "name": "#%% md\n"
    }
   },
   "source": [
    "## For running the T5 vanilla baseline\n",
    "1. Setup datafiles for running t5 (i.e. produce json files)\n",
    "1. Run the seq2seq model to produce outputs, saving in a directory that matches k_t5_outputs below\n",
    "    - Train model (produces saved checkpoints)\n",
    "    - Eval top performing model (load from top checkpoint, produces json outputs)\n",
    "\n",
    "1. run the eval code here using the json output from model eval"
   ]
  },
  {
   "cell_type": "code",
   "execution_count": 5,
   "outputs": [
    {
     "name": "stdout",
     "output_type": "stream",
     "text": [
      "The autoreload extension is already loaded. To reload it, use:\n",
      "  %reload_ext autoreload\n"
     ]
    }
   ],
   "source": [
    "%load_ext autoreload\n",
    "%autoreload 2\n",
    "\n",
    "import sys\n",
    "sys.path.append('../decrypt')\n",
    "from decrypt.scrape_parse import (\n",
    "    load_guardian_splits,\n",
    "    load_guardian_splits_disjoint,\n",
    "    load_guardian_splits_disjoint_hash\n",
    ")\n",
    "\n",
    "import os\n",
    "import config\n",
    "from decrypt.common.puzzle_clue import GuardianClue, BaseClue\n",
    "from decrypt.common import validation_tools as vt\n",
    "from decrypt.common.util_data import clue_list_tuple_to_train_split_json\n",
    "from typing import List\n",
    "import json\n",
    "import logging\n",
    "logging.getLogger(__name__)\n",
    "\n",
    "\n",
    "k_json_folder = config.DataDirs.Guardian.json_folder"
   ],
   "metadata": {
    "collapsed": false,
    "pycharm": {
     "name": "#%%\n"
    }
   }
  },
  {
   "cell_type": "markdown",
   "source": [
    "## 1 Produce datasets"
   ],
   "metadata": {
    "collapsed": false,
    "pycharm": {
     "name": "#%% md\n"
    }
   }
  },
  {
   "cell_type": "code",
   "execution_count": 10,
   "outputs": [
    {
     "name": "stderr",
     "output_type": "stream",
     "text": [
      "INFO:decrypt.scrape_parse.guardian_load:loading from /Users/jsrozner/jsrozner/cryptic/decrypt/data/puzzles\n",
      "INFO:decrypt.scrape_parse.guardian_load:Using file glob at /Users/jsrozner/jsrozner/cryptic/decrypt/data/puzzles/cryptic*.json\n",
      "INFO:decrypt.scrape_parse.guardian_load:Glob has size 5518\n",
      "INFO:decrypt.scrape_parse.guardian_load:Glob size matches the expected one from Decrypting paper\n",
      "100%|██████████| 5518/5518 [00:12<00:00, 448.52it/s]\n",
      " 70%|███████   | 100848/143991 [00:01<00:00, 76506.56it/s]"
     ]
    },
    {
     "name": "stdout",
     "output_type": "stream",
     "text": [
      "[(\"length punct: '\", 1),\n",
      " ('invalid: clue group', 7687),\n",
      " ('invalid: invalid start char (most are continuation clues)', 607),\n",
      " ('invalid: number in clue (commonly references another clue)', 7066),\n",
      " ('invalid: regexp', 75),\n",
      " ('invalid: soln length does not match specified lens (multi box soln)', 56),\n",
      " ('invalid: unrecognized char in clue (e.g. html)', 85),\n",
      " ('invalid: zero-len clue text after regexp', 15),\n",
      " ('length punct: ,', 24644),\n",
      " ('length punct: -', 4148),\n",
      " ('length punct: .', 8),\n",
      " ('length punct: /', 1),\n",
      " ('stat: parsed_puzzle', 5518),\n",
      " ('stat: total_clues', 143991),\n",
      " (1, 119956),\n",
      " (2, 20272),\n",
      " (3, 2957),\n",
      " (4, 686),\n",
      " (5, 112),\n",
      " (6, 8)]\n",
      "Total clues: len(puzz_list)\n"
     ]
    },
    {
     "name": "stderr",
     "output_type": "stream",
     "text": [
      "100%|██████████| 143991/143991 [00:01<00:00, 130467.53it/s]\n",
      "100%|██████████| 55783/55783 [00:02<00:00, 24200.43it/s]\n"
     ]
    },
    {
     "name": "stdout",
     "output_type": "stream",
     "text": [
      "removed 1611 exact dupes\n",
      "142380\n"
     ]
    },
    {
     "name": "stderr",
     "output_type": "stream",
     "text": [
      "INFO:decrypt.scrape_parse.guardian_load:Counter({1: 118540, 2: 20105, 3: 2929, 4: 686, 5: 112, 6: 8})\n",
      "INFO:decrypt.scrape_parse.guardian_load:Clue list length matches Decrypting paper expected length\n",
      "INFO:decrypt.scrape_parse.guardian_load:Got splits of lenghts [75847, 32628, 33905]\n",
      "INFO:decrypt.scrape_parse.guardian_load:First three clues of train set:\n",
      "\t[GuardianClue(clue='Sailor boy in his hammock', lengths=[4], soln='abed', soln_with_spaces='abed', idx=34809, dataset=PosixPath('/Users/jsrozner/jsrozner/cryptic/decrypt/data/puzzles'), across_or_down='across', pos=(0, 2), unique_clue_id='cryptic_23048_10-across', type='cryptic', number=23048, id='crosswords/cryptic/23048', creator='Rufus', orig_lengths='4', lengths_punctuation=set()), GuardianClue(clue='With a degree, I leave this subject', lengths=[5], soln='maths', soln_with_spaces='maths', idx=412, dataset=PosixPath('/Users/jsrozner/jsrozner/cryptic/decrypt/data/puzzles'), across_or_down='across', pos=(0, 13), unique_clue_id='cryptic_27305_24-across', type='cryptic', number=27305, id='crosswords/cryptic/27305', creator='Rufus', orig_lengths='5', lengths_punctuation=set()), GuardianClue(clue='Burrow to cure limb and make sure one gets up', lengths=[3, 3, 5], soln='setthealarm', soln_with_spaces='set the alarm', idx=116809, dataset=PosixPath('/Users/jsrozner/jsrozner/cryptic/decrypt/data/puzzles'), across_or_down='across', pos=(4, 6), unique_clue_id='cryptic_24812_14-across', type='cryptic', number=24812, id='crosswords/cryptic/24812', creator='Araucaria', orig_lengths='3,3,5', lengths_punctuation={','})]\n",
      "100%|██████████| 75847/75847 [00:00<00:00, 206955.23it/s]\n",
      "100%|██████████| 32628/32628 [00:00<00:00, 245525.96it/s]\n",
      "100%|██████████| 33905/33905 [00:00<00:00, 244112.32it/s]\n",
      "INFO:decrypt.common.util_data:Source target mapping:\n",
      "\tSailor boy in his hammock (4) => abed\n",
      "\n",
      "INFO:decrypt.common.util_data:Finished writing all files\n"
     ]
    },
    {
     "name": "stdout",
     "output_type": "stream",
     "text": [
      "{'idx': 34809, 'input': 'Sailor boy in his hammock (4)', 'target': 'abed'}\n",
      "{'idx': 412,\n",
      " 'input': 'With a degree, I leave this subject (5)',\n",
      " 'target': 'maths'}\n",
      "{'idx': 116809,\n",
      " 'input': 'Burrow to cure limb and make sure one gets up (3,3,5)',\n",
      " 'target': 'set the alarm'}\n",
      "\n"
     ]
    }
   ],
   "source": [
    "def make_dataset(split_type: str, overwrite=False):\n",
    "    assert split_type in ['naive_random', 'naive_disjoint', 'word_init_disjoint']\n",
    "    if split_type == 'naive_random':\n",
    "        load_fn = load_guardian_splits\n",
    "        tgt_dir = config.DataDirs.DataExport.guardian_naive_random_split\n",
    "    elif split_type == 'naive_disjoint':\n",
    "        load_fn = load_guardian_splits_disjoint\n",
    "        tgt_dir = config.DataDirs.DataExport.guardian_naive_disjoint_split\n",
    "    else:\n",
    "        load_fn = load_guardian_splits_disjoint_hash\n",
    "        tgt_dir = config.DataDirs.DataExport.guardian_word_init_disjoint_split\n",
    "\n",
    "    _, _, (train, val, test) = load_fn(k_json_folder)\n",
    "\n",
    "    os.makedirs(tgt_dir, exist_ok=True)\n",
    "    # write the output as json\n",
    "    try:\n",
    "        clue_list_tuple_to_train_split_json((train, val, test),\n",
    "                                            comment=f'Guardian data. Split: {split_type}',\n",
    "                                            export_dir=tgt_dir,\n",
    "                                            overwrite=overwrite)\n",
    "    except FileExistsError:\n",
    "        logging.warning(f'You have already generated the {split_type} dataset.\\n'\n",
    "                        f'It is located at {tgt_dir}\\n'\n",
    "                        f'To regenerate, pass overwrite=True or delete it\\n')\n",
    "\n",
    "\n",
    "make_dataset('naive_random')\n",
    "make_dataset('word_init_disjoint')\n",
    "# you can also make_dataset('naive_disjoint')"
   ],
   "metadata": {
    "collapsed": false,
    "pycharm": {
     "name": "#%%\n"
    }
   }
  },
  {
   "cell_type": "markdown",
   "source": [
    "## 2 Running (training) the model\n",
    "1. Setup environment\n",
    "    1. You should setup wandb for logging (that's where metrics will show up).\n",
    "    If you try to run, the wandb will tell you what you need to do to initialize\n",
    "1. Train the model\n",
    "    1. from directory seq2seq, run the commands in the box below\n",
    "    1. Will produce model checkpoints\n",
    "\n",
    "# TODO\n",
    "todo: environment setup"
   ],
   "metadata": {
    "collapsed": false,
    "pycharm": {
     "name": "#%% md\n"
    }
   }
  },
  {
   "cell_type": "markdown",
   "source": [
    "- Choose place for your wandb dir, e.g., `'./wandb' `\n",
    "- Note that the default arguments are given in args_cryptic. See `--default_train` and `--default_val`\n",
    "- Note that it looks like epochs start at 11, so that we have space for 10 \"warmup\" epochs for curricular training - this is so that plots in wandb will line up\n",
    "\n",
    "Baseline naive\n",
    "```python\n",
    "train_clues.py --default_train=base --name=baseline_naive --project=baseline --wandb_dir='./wandb' --data_dir='../data/clue_json/guardian/naive_random'\n",
    "```\n",
    "Baseline disjoint (word initial disjoint)\n",
    "```python\n",
    "train_clues.py --default_train=base --name=baseline_disj --project=baseline --wandb_dir='./wandb' --data_dir='../data/clue_json/guardian/word_initial_disjoint'\n",
    "```\n",
    "\n",
    "Baseline (naive split), without lengths\n",
    "```python\n",
    "train_clues.py --default_train=base --name=baseline_naive_nolens --project=baseline --wandb_dir='./wandb' --data_dir='../data/clue_json/guardian/word_initial_disjoint' --special=no_lens\n",
    "```"
   ],
   "metadata": {
    "collapsed": false,
    "pycharm": {
     "name": "#%% md\n"
    }
   }
  },
  {
   "cell_type": "markdown",
   "source": [
    "## 3 Evaluating the model\n",
    "For training we generate only 5 beams. For eval we are going to generate 100.\n",
    "1. Select the best model based on num_match_top_sampled\n",
    "2. Run eval using that model\n",
    "3. This will produce a file in a new wandb directory that looks like `epoch_11.pth.tar.preds.json` (i.e a single epoch)\n",
    "\n",
    "For example,\n",
    "\n",
    "Baseline naive, if epoch 10 is best (you'll need to set the run_name)\n",
    "This runs the eval set\n",
    "```python\n",
    "train_clues.py --default_val=base --name=baseline_naive_val --data_dir='../data/clue_json/guardian/naive_random' --ckpt_path='./wandb/run_name/files/epoch_10.pth.tar\n",
    "```\n",
    "\n",
    "To test the test set, add `--test`\n",
    "```python\n",
    "train_clues.py --default_val=base --name=baseline_naive_val --data_dir='../data/clue_json/guardian/naive_random' --ckpt_path='./wandb/run_name/files/epoch_10.pth.tar --test\n",
    "```\n"
   ],
   "metadata": {
    "collapsed": false,
    "pycharm": {
     "name": "#%% md\n"
    }
   }
  },
  {
   "cell_type": "markdown",
   "source": [
    "Now we evaluate the json that was produced\n",
    "1. Change the k_t5_outputs_dir value to the location where you have saved the json files. \n",
    "    - Recommend copying all of the preds.json files into a common directory and working from that.\n",
    "    - Alternatively you could modify the code below and pass in a full path name to each of the json outputs (using the wandb directory path)\n",
    "1. For each t5 model eval that you ran, run `load_and_run()` to get metrics for those outputs\n",
    "1. The resulting outputs are the values we report in the tables. See `decrypt/common/validation_tools.ModelEval` for more details about the numbers that are produced. Percentages are prefixed by agg_"
   ],
   "metadata": {
    "collapsed": false,
    "pycharm": {
     "name": "#%% md\n"
    }
   }
  },
  {
   "cell_type": "code",
   "execution_count": null,
   "outputs": [],
   "source": [
    "# Copy your preds.json files to a directory and specify that directory here\n",
    "k_t5_outputs_dir = None\n",
    "assert k_t5_outputs_dir is not None\n",
    "\n",
    "def load_t5(json_out_file: str, pre_truncate=None):\n",
    "    with open(json_out_file, 'r') as f:\n",
    "        json_blob = json.load(f)\n",
    "\n",
    "    # eval (and backfill)\n",
    "    model_outputs = []\n",
    "    idx_set = set()\n",
    "    for d in json_blob:\n",
    "        idx, input, tgt, greedy, sampled = d\n",
    "        assert idx not in idx_set\n",
    "        idx_set.add(idx)\n",
    "\n",
    "        mp = vt.ModelPrediction(idx, input, tgt, greedy, sampled)\n",
    "        mp.model_eval = vt.eval(mp, pre_truncate=pre_truncate)\n",
    "        model_outputs.append(mp)\n",
    "\n",
    "    print(len(model_outputs))\n",
    "    # can use to verify there is an output for all inputs\n",
    "    # for i in range(28476):\n",
    "    #     if i not in idx_set:\n",
    "    #         print(i)\n",
    "\n",
    "    return model_outputs\n",
    "\n"
   ],
   "metadata": {
    "collapsed": false,
    "pycharm": {
     "name": "#%%\n"
    }
   }
  },
  {
   "cell_type": "code",
   "execution_count": 4,
   "outputs": [],
   "source": [
    "def load_and_run(fname, label=None, filter_fcn=None, pre_truncate=None):\n",
    "    if label is None:\n",
    "        label = fname\n",
    "    data = load_t5(k_t5_outputs_dir + fname + '.json',\n",
    "                   pre_truncate=pre_truncate)\n",
    "    vt.all_aggregate(data, label=label, filter_fcn=filter_fcn)"
   ],
   "metadata": {
    "collapsed": false,
    "pycharm": {
     "name": "#%%\n"
    }
   }
  },
  {
   "cell_type": "code",
   "execution_count": 6,
   "outputs": [
    {
     "name": "stdout",
     "output_type": "stream",
     "text": [
      "28476\n",
      "[('agg_filter_len_pre_truncate', 44.504495013344574),\n",
      " ('agg_filtered_few', 0.007093692934400899),\n",
      " ('agg_generate_few', 0.0),\n",
      " ('agg_generate_none', 0.0),\n",
      " ('agg_in_filtered', 0.4591234723978087),\n",
      " ('agg_in_sample', 0.2807978648686613),\n",
      " ('agg_sample_len', 10.0),\n",
      " ('agg_sample_len_correct', 0.48454136816968674),\n",
      " ('agg_sample_len_pre_truncate', 100.0),\n",
      " ('agg_sample_wordct_correct', 0.9789858126141312),\n",
      " ('agg_top_10_after_filter', 0.3385658098047479),\n",
      " ('agg_top_match', 0.1630495856159573),\n",
      " ('agg_top_match_len_correct', 0.9998946481247366),\n",
      " ('agg_top_match_none', 0.00010535187526337969),\n",
      " ('agg_top_match_wordct_correct', 0.9942407641522686),\n",
      " ('agg_top_sample_result_len_correct', 0.560858266610479),\n",
      " ('agg_top_sample_result_wordct_correct', 0.9846186262115466),\n",
      " ('filter_len_pre_truncate', 1267310),\n",
      " ('filtered_few', 202),\n",
      " ('generate_few', 0),\n",
      " ('generate_none', 0),\n",
      " ('in_filtered', 13074),\n",
      " ('in_sample', 7996),\n",
      " ('sample_len', 284760),\n",
      " ('sample_len_correct', 137978),\n",
      " ('sample_len_pre_truncate', 2847600),\n",
      " ('sample_wordct_correct', 278776),\n",
      " ('top_10_after_filter', 9641),\n",
      " ('top_match', 4643),\n",
      " ('top_match_len_correct', 28473),\n",
      " ('top_match_none', 3),\n",
      " ('top_match_wordct_correct', 28312),\n",
      " ('top_sample_result_len_correct', 15971),\n",
      " ('top_sample_result_wordct_correct', 28038),\n",
      " ('total', 28476)]\n"
     ]
    }
   ],
   "source": [
    "# for example, if your output files are in\n",
    "# 'decrypt/t5_outputs/'\n",
    "# you would have set k_t5_outputs_dir to be 'decrypt/t5_outputs/\n",
    "# and you will run the below, e.g., if you have named the files\n",
    "# baseline_naive_e12_test.json\n",
    "\n",
    "# for example\n",
    "### primary - test\n",
    "load_and_run('baseline_naive_e12_test')\n",
    "load_and_run('baseline_naive_nolens_e15_test')     # test set\n",
    "\n",
    "## primary val\n",
    "load_and_run('baseline_naive_e12_val')\n",
    "load_and_run('baseline_naive_nolens_e15_val')     \n"
   ],
   "metadata": {
    "collapsed": false,
    "pycharm": {
     "name": "#%%\n"
    }
   }
  },
  {
   "cell_type": "code",
   "execution_count": 5,
   "outputs": [
    {
     "name": "stdout",
     "output_type": "stream",
     "text": [
      "28476\n",
      "[('agg_filter_len_pre_truncate', 88.33677482792527),\n",
      " ('agg_filtered_few', 0.001685630004214075),\n",
      " ('agg_generate_few', 0.0),\n",
      " ('agg_generate_none', 0.0),\n",
      " ('agg_in_filtered', 0.6056679308891698),\n",
      " ('agg_in_sample', 0.41515662312122487),\n",
      " ('agg_sample_len', 10.0),\n",
      " ('agg_sample_len_correct', 0.9134042702626773),\n",
      " ('agg_sample_len_pre_truncate', 100.0),\n",
      " ('agg_sample_wordct_correct', 0.9718253968253968),\n",
      " ('agg_top_10_after_filter', 0.4220747295968535),\n",
      " ('agg_top_match', 0.21519876387133025),\n",
      " ('agg_top_match_len_correct', 0.9998244135412278),\n",
      " ('agg_top_match_none', 0.00017558645877229948),\n",
      " ('agg_top_match_wordct_correct', 0.9902373928922602),\n",
      " ('agg_top_sample_result_len_correct', 0.9383340356791684),\n",
      " ('agg_top_sample_result_wordct_correct', 0.9814229526618907),\n",
      " ('filter_len_pre_truncate', 2515478),\n",
      " ('filtered_few', 48),\n",
      " ('generate_few', 0),\n",
      " ('generate_none', 0),\n",
      " ('in_filtered', 17247),\n",
      " ('in_sample', 11822),\n",
      " ('sample_len', 284760),\n",
      " ('sample_len_correct', 260101),\n",
      " ('sample_len_pre_truncate', 2847600),\n",
      " ('sample_wordct_correct', 276737),\n",
      " ('top_10_after_filter', 12019),\n",
      " ('top_match', 6128),\n",
      " ('top_match_len_correct', 28471),\n",
      " ('top_match_none', 5),\n",
      " ('top_match_wordct_correct', 28198),\n",
      " ('top_sample_result_len_correct', 26720),\n",
      " ('top_sample_result_wordct_correct', 27947),\n",
      " ('total', 28476)]\n",
      "28476\n",
      "[('agg_filter_len_pre_truncate', 88.25755021772721),\n",
      " ('agg_filtered_few', 0.0017909818794774547),\n",
      " ('agg_generate_few', 0.0),\n",
      " ('agg_generate_none', 0.0),\n",
      " ('agg_in_filtered', 0.6022615535889873),\n",
      " ('agg_in_sample', 0.41677201854193),\n",
      " ('agg_sample_len', 10.0),\n",
      " ('agg_sample_len_correct', 0.9126176429273775),\n",
      " ('agg_sample_len_pre_truncate', 100.0),\n",
      " ('agg_sample_wordct_correct', 0.9708140188228683),\n",
      " ('agg_top_10_after_filter', 0.42358477314229526),\n",
      " ('agg_top_match', 0.2179379126281781),\n",
      " ('agg_top_match_len_correct', 0.9998946481247366),\n",
      " ('agg_top_match_none', 0.00010535187526337969),\n",
      " ('agg_top_match_wordct_correct', 0.9898862199747156),\n",
      " ('agg_top_sample_result_len_correct', 0.9377721590110971),\n",
      " ('agg_top_sample_result_wordct_correct', 0.97984267453294),\n",
      " ('filter_len_pre_truncate', 2513222),\n",
      " ('filtered_few', 51),\n",
      " ('generate_few', 0),\n",
      " ('generate_none', 0),\n",
      " ('in_filtered', 17150),\n",
      " ('in_sample', 11868),\n",
      " ('sample_len', 284760),\n",
      " ('sample_len_correct', 259877),\n",
      " ('sample_len_pre_truncate', 2847600),\n",
      " ('sample_wordct_correct', 276449),\n",
      " ('top_10_after_filter', 12062),\n",
      " ('top_match', 6206),\n",
      " ('top_match_len_correct', 28473),\n",
      " ('top_match_none', 3),\n",
      " ('top_match_wordct_correct', 28188),\n",
      " ('top_sample_result_len_correct', 26704),\n",
      " ('top_sample_result_wordct_correct', 27902),\n",
      " ('total', 28476)]\n"
     ]
    }
   ],
   "source": [],
   "metadata": {
    "collapsed": false,
    "pycharm": {
     "name": "#%%\n"
    }
   }
  },
  {
   "cell_type": "code",
   "execution_count": null,
   "outputs": [],
   "source": [
    "##################\n",
    "###############\n",
    "\n",
    "# top curricular\n",
    "load_and_run('cw_4_4_e19_val_all')\n",
    "load_and_run('cw_4_4_e19_test_all')"
   ],
   "metadata": {
    "collapsed": false,
    "pycharm": {
     "name": "#%%\n"
    }
   }
  },
  {
   "cell_type": "code",
   "execution_count": 6,
   "outputs": [
    {
     "name": "stdout",
     "output_type": "stream",
     "text": [
      "28085\n",
      "[('agg_filter_len_pre_truncate', 84.89104504183727),\n",
      " ('agg_filtered_few', 0.053444899412497776),\n",
      " ('agg_generate_few', 0.0),\n",
      " ('agg_generate_none', 0.0),\n",
      " ('agg_in_filtered', 0.386612070500267),\n",
      " ('agg_in_sample', 0.1935196724230016),\n",
      " ('agg_sample_len', 10.0),\n",
      " ('agg_sample_len_correct', 0.861146519494392),\n",
      " ('agg_sample_len_pre_truncate', 100.0),\n",
      " ('agg_sample_wordct_correct', 0.9229944810397009),\n",
      " ('agg_top_10_after_filter', 0.2),\n",
      " ('agg_top_match', 0.06498130674737404),\n",
      " ('agg_top_match_len_correct', 0.991917393626491),\n",
      " ('agg_top_match_none', 0.00808260637350899),\n",
      " ('agg_top_match_wordct_correct', 0.9389709809506854),\n",
      " ('agg_top_sample_result_len_correct', 0.8667616165212747),\n",
      " ('agg_top_sample_result_wordct_correct', 0.9304254940359623),\n",
      " ('filter_len_pre_truncate', 2384165),\n",
      " ('filtered_few', 1501),\n",
      " ('generate_few', 0),\n",
      " ('generate_none', 0),\n",
      " ('in_filtered', 10858),\n",
      " ('in_sample', 5435),\n",
      " ('sample_len', 280850),\n",
      " ('sample_len_correct', 241853),\n",
      " ('sample_len_pre_truncate', 2808500),\n",
      " ('sample_wordct_correct', 259223),\n",
      " ('top_10_after_filter', 5617),\n",
      " ('top_match', 1825),\n",
      " ('top_match_len_correct', 27858),\n",
      " ('top_match_none', 227),\n",
      " ('top_match_wordct_correct', 26371),\n",
      " ('top_sample_result_len_correct', 24343),\n",
      " ('top_sample_result_wordct_correct', 26131),\n",
      " ('total', 28085)]\n",
      "26546\n",
      "[('agg_filter_len_pre_truncate', 82.56969034882844),\n",
      " ('agg_filtered_few', 0.06528290514578468),\n",
      " ('agg_generate_few', 0.0),\n",
      " ('agg_generate_none', 0.0),\n",
      " ('agg_in_filtered', 0.3651774278610713),\n",
      " ('agg_in_sample', 0.1828147366834928),\n",
      " ('agg_sample_len', 10.0),\n",
      " ('agg_sample_len_correct', 0.8370677314849695),\n",
      " ('agg_sample_len_pre_truncate', 100.0),\n",
      " ('agg_sample_wordct_correct', 0.9083590748135312),\n",
      " ('agg_top_10_after_filter', 0.18918104422511867),\n",
      " ('agg_top_match', 0.06113915467490394),\n",
      " ('agg_top_match_len_correct', 0.9888872146462744),\n",
      " ('agg_top_match_none', 0.011112785353725608),\n",
      " ('agg_top_match_wordct_correct', 0.9278234008890228),\n",
      " ('agg_top_sample_result_len_correct', 0.8435545844948391),\n",
      " ('agg_top_sample_result_wordct_correct', 0.9141490243351164),\n",
      " ('filter_len_pre_truncate', 2191895),\n",
      " ('filtered_few', 1733),\n",
      " ('generate_few', 0),\n",
      " ('generate_none', 0),\n",
      " ('in_filtered', 9694),\n",
      " ('in_sample', 4853),\n",
      " ('sample_len', 265460),\n",
      " ('sample_len_correct', 222208),\n",
      " ('sample_len_pre_truncate', 2654600),\n",
      " ('sample_wordct_correct', 241133),\n",
      " ('top_10_after_filter', 5022),\n",
      " ('top_match', 1623),\n",
      " ('top_match_len_correct', 26251),\n",
      " ('top_match_none', 295),\n",
      " ('top_match_wordct_correct', 24630),\n",
      " ('top_sample_result_len_correct', 22393),\n",
      " ('top_sample_result_wordct_correct', 24267),\n",
      " ('total', 26546)]\n"
     ]
    },
    {
     "name": "stderr",
     "output_type": "stream",
     "text": [
      "WARNING:googleapiclient.http:Sleeping 1.89 seconds before retry 1 of 3 for request: POST https://sheets.googleapis.com/v4/spreadsheets/1vCQo-pavKElPbUeKRoM4KL7ZK6zgNOmNz2BlgdSGbyA:batchUpdate?fields=%2A&alt=json, after [Errno 32] Broken pipe\n",
      "WARNING:googleapiclient.http:Sleeping 0.39 seconds before retry 2 of 3 for request: POST https://sheets.googleapis.com/v4/spreadsheets/1vCQo-pavKElPbUeKRoM4KL7ZK6zgNOmNz2BlgdSGbyA:batchUpdate?fields=%2A&alt=json, after [Errno 54] Connection reset by peer\n"
     ]
    }
   ],
   "source": [
    "##\n",
    "# top curricular disjoint\n",
    "load_and_run('curr_4_4_disj2_test')\n",
    "load_and_run('curr_4_4_disj2_dev')"
   ],
   "metadata": {
    "collapsed": false,
    "pycharm": {
     "name": "#%%\n"
    }
   }
  },
  {
   "cell_type": "code",
   "execution_count": null,
   "outputs": [],
   "source": [
    "##################\n",
    "###############\n",
    "\n",
    "# todo: josh (should be in another folder)\n",
    "\n",
    "## primary - anagram subset performance\n",
    "load_and_run('baseline_naive_e12_val',\n",
    "             filter_fcn=vt.make_set_filter('anag_direct'),\n",
    "             pre_truncate=5)"
   ],
   "metadata": {
    "collapsed": false,
    "pycharm": {
     "name": "#%%\n"
    }
   }
  },
  {
   "cell_type": "code",
   "execution_count": 24,
   "outputs": [
    {
     "name": "stdout",
     "output_type": "stream",
     "text": [
      "28476\n",
      "With filter check_inclusion\n",
      "[('agg_filter_len_pre_truncate', 3.8727087576374744),\n",
      " ('agg_filtered_few', 1.0),\n",
      " ('agg_generate_few', 1.0),\n",
      " ('agg_generate_none', 0.0),\n",
      " ('agg_in_filtered', 0.3000678886625934),\n",
      " ('agg_in_sample', 0.3000678886625934),\n",
      " ('agg_sample_len', 5.0),\n",
      " ('agg_sample_len_correct', 0.7803801765105227),\n",
      " ('agg_sample_len_pre_truncate', 5.0),\n",
      " ('agg_sample_wordct_correct', 0.9613713509843856),\n",
      " ('agg_top_10_after_filter', 0.3000678886625934),\n",
      " ('agg_top_match', 0.21384928716904278),\n",
      " ('agg_top_match_len_correct', 0.9758995247793618),\n",
      " ('agg_top_match_none', 0.024100475220638153),\n",
      " ('agg_top_match_wordct_correct', 0.9694501018329938),\n",
      " ('agg_top_sample_result_len_correct', 0.8295994568906992),\n",
      " ('agg_top_sample_result_wordct_correct', 0.9755600814663951),\n",
      " ('filter_len_pre_truncate', 11409),\n",
      " ('filtered_few', 2946),\n",
      " ('generate_few', 2946),\n",
      " ('generate_none', 0),\n",
      " ('in_filtered', 884),\n",
      " ('in_sample', 884),\n",
      " ('sample_len', 14730),\n",
      " ('sample_len_correct', 11495),\n",
      " ('sample_len_pre_truncate', 14730),\n",
      " ('sample_wordct_correct', 14161),\n",
      " ('top_10_after_filter', 884),\n",
      " ('top_match', 630),\n",
      " ('top_match_len_correct', 2875),\n",
      " ('top_match_none', 71),\n",
      " ('top_match_wordct_correct', 2856),\n",
      " ('top_sample_result_len_correct', 2444),\n",
      " ('top_sample_result_wordct_correct', 2874),\n",
      " ('total', 2946)]\n"
     ]
    }
   ],
   "source": [
    "# best performing model after curricular train\n",
    "load_and_run('ACW_descrambleonly_20',\n",
    "             filter_fcn=vt.make_set_filter('anag_direct'))"
   ],
   "metadata": {
    "collapsed": false,
    "pycharm": {
     "name": "#%%\n"
    }
   }
  },
  {
   "cell_type": "code",
   "execution_count": null,
   "outputs": [],
   "source": [
    "## disjoint sets\n",
    "\n",
    "# disjoint 1\n",
    "load_and_run('baseline_disj1_e6_val')\n",
    "# disjoint 2 (true disjoint)\n",
    "load_and_run('baseline_disj2_e1_val')"
   ],
   "metadata": {
    "collapsed": false,
    "pycharm": {
     "name": "#%%\n"
    }
   }
  },
  {
   "cell_type": "code",
   "execution_count": 5,
   "outputs": [
    {
     "name": "stdout",
     "output_type": "stream",
     "text": [
      "28521\n",
      "[('agg_filter_len_pre_truncate', 39.15812909785772),\n",
      " ('agg_filtered_few', 0.010378317730794853),\n",
      " ('agg_generate_few', 0.0),\n",
      " ('agg_generate_none', 0.0),\n",
      " ('agg_in_filtered', 0.21976789032642613),\n",
      " ('agg_in_sample', 0.07776725921251008),\n",
      " ('agg_sample_len', 10.0),\n",
      " ('agg_sample_len_correct', 0.40793450440026646),\n",
      " ('agg_sample_len_pre_truncate', 100.0),\n",
      " ('agg_sample_wordct_correct', 0.9815890045931068),\n",
      " ('agg_top_10_after_filter', 0.12864205322394026),\n",
      " ('agg_top_match', 0.0323621191402826),\n",
      " ('agg_top_match_len_correct', 0.9999649381157744),\n",
      " ('agg_top_match_none', 3.5061884225658285e-05),\n",
      " ('agg_top_match_wordct_correct', 0.9913747764804881),\n",
      " ('agg_top_sample_result_len_correct', 0.4201816205602889),\n",
      " ('agg_top_sample_result_wordct_correct', 0.9843273377511308),\n",
      " ('filter_len_pre_truncate', 1116829),\n",
      " ('filtered_few', 296),\n",
      " ('generate_few', 0),\n",
      " ('generate_none', 0),\n",
      " ('in_filtered', 6268),\n",
      " ('in_sample', 2218),\n",
      " ('sample_len', 285210),\n",
      " ('sample_len_correct', 116347),\n",
      " ('sample_len_pre_truncate', 2852100),\n",
      " ('sample_wordct_correct', 279959),\n",
      " ('top_10_after_filter', 3669),\n",
      " ('top_match', 923),\n",
      " ('top_match_len_correct', 28520),\n",
      " ('top_match_none', 1),\n",
      " ('top_match_wordct_correct', 28275),\n",
      " ('top_sample_result_len_correct', 11984),\n",
      " ('top_sample_result_wordct_correct', 28074),\n",
      " ('total', 28521)]\n",
      "28085\n",
      "[('agg_filter_len_pre_truncate', 16.954780131742922),\n",
      " ('agg_filtered_few', 0.1413209898522343),\n",
      " ('agg_generate_few', 0.0),\n",
      " ('agg_generate_none', 0.0),\n",
      " ('agg_in_filtered', 0.07530710343599786),\n",
      " ('agg_in_sample', 0.019084920776215063),\n",
      " ('agg_sample_len', 10.0),\n",
      " ('agg_sample_len_correct', 0.16546199038632722),\n",
      " ('agg_sample_len_pre_truncate', 100.0),\n",
      " ('agg_sample_wordct_correct', 0.8755955136193698),\n",
      " ('agg_top_10_after_filter', 0.05775324906533737),\n",
      " ('agg_top_match', 0.010966708207228058),\n",
      " ('agg_top_match_len_correct', 0.9900302652661563),\n",
      " ('agg_top_match_none', 0.009969734733843688),\n",
      " ('agg_top_match_wordct_correct', 0.867438134235357),\n",
      " ('agg_top_sample_result_len_correct', 0.15666726010325796),\n",
      " ('agg_top_sample_result_wordct_correct', 0.8715684529108065),\n",
      " ('filter_len_pre_truncate', 476175),\n",
      " ('filtered_few', 3969),\n",
      " ('generate_few', 0),\n",
      " ('generate_none', 0),\n",
      " ('in_filtered', 2115),\n",
      " ('in_sample', 536),\n",
      " ('sample_len', 280850),\n",
      " ('sample_len_correct', 46470),\n",
      " ('sample_len_pre_truncate', 2808500),\n",
      " ('sample_wordct_correct', 245911),\n",
      " ('top_10_after_filter', 1622),\n",
      " ('top_match', 308),\n",
      " ('top_match_len_correct', 27805),\n",
      " ('top_match_none', 280),\n",
      " ('top_match_wordct_correct', 24362),\n",
      " ('top_sample_result_len_correct', 4400),\n",
      " ('top_sample_result_wordct_correct', 24478),\n",
      " ('total', 28085)]\n"
     ]
    }
   ],
   "source": [
    "# disjoint sets (test)\n",
    "\n",
    "# disjoint 1\n",
    "load_and_run('baseline_disj1_e6_test')\n",
    "# disjoint 2 (true disjoint)\n",
    "load_and_run('baseline_disj2_e1_test')"
   ],
   "metadata": {
    "collapsed": false,
    "pycharm": {
     "name": "#%%\n"
    }
   }
  },
  {
   "cell_type": "code",
   "execution_count": 5,
   "outputs": [
    {
     "name": "stderr",
     "output_type": "stream",
     "text": [
      "INFO:data_util.scrape_parse.guardian_scrape:loading from /Users/jsrozner/jsrozner/cryptic/cryptic-code/data/puzzles/guardian_data/guardian_2020_10_08_json\n",
      "INFO:data_util.scrape_parse.guardian_scrape:Using file glob at /Users/jsrozner/jsrozner/cryptic/cryptic-code/data/puzzles/guardian_data/guardian_2020_10_08_json/cryptic*.json\n",
      "INFO:data_util.scrape_parse.guardian_scrape:Glob has size 5518\n",
      "100%|██████████| 5518/5518 [00:22<00:00, 241.82it/s]\n",
      "INFO:data_util.scrape_parse.guardian_scrape:Params set to not filter\n",
      "100%|██████████| 143991/143991 [00:05<00:00, 24810.84it/s]\n",
      "100%|██████████| 55783/55783 [00:06<00:00, 8603.18it/s] \n",
      "INFO:data_util.scrape_parse.guardian_scrape:Counter({1: 118540, 2: 20105, 3: 2929, 4: 686, 5: 112, 6: 8})\n"
     ]
    },
    {
     "name": "stdout",
     "output_type": "stream",
     "text": [
      "[(\"length punct: '\", 1),\n",
      " ('invalid: clue group', 7687),\n",
      " ('invalid: invalid start char (most are continuation clues)', 607),\n",
      " ('invalid: number in clue (commonly references another clue)', 7066),\n",
      " ('invalid: regexp', 75),\n",
      " ('invalid: soln length does not match specified lens (multi box soln)', 56),\n",
      " ('invalid: unrecognized char in clue (e.g. html)', 85),\n",
      " ('invalid: zero-len clue text after regexp', 15),\n",
      " ('length punct: ,', 24644),\n",
      " ('length punct: -', 4148),\n",
      " ('length punct: .', 8),\n",
      " ('length punct: /', 1),\n",
      " ('stat: parsed_puzzle', 5518),\n",
      " ('stat: total_clues', 143991),\n",
      " (1, 119956),\n",
      " (2, 20272),\n",
      " (3, 2957),\n",
      " (4, 686),\n",
      " (5, 112),\n",
      " (6, 8)]\n",
      "Total clues: len(puzz_list)\n",
      "removed 1611 exact dupes\n",
      "142380\n"
     ]
    }
   ],
   "source": [
    "\n",
    "\n",
    "\n",
    "# special eval\n",
    "# train overlap performance\n",
    "# load_and_run('baseline_naive_e12_val')\n",
    "\n",
    "_, _, (train, _, _) = load_guardian_splits(k_json_folder)"
   ],
   "metadata": {
    "collapsed": false,
    "pycharm": {
     "name": "#%%\n"
    }
   }
  },
  {
   "cell_type": "code",
   "execution_count": 6,
   "outputs": [],
   "source": [
    "def make_set_inclusion_filter_fcn(train_set: List[BaseClue]):\n",
    "    s = set()\n",
    "    for c in train_set:\n",
    "        s.add(c.soln_with_spaces)\n",
    "\n",
    "    # return False to omit\n",
    "    def filter_fcn(mp: vt.ModelPrediction):\n",
    "        if mp.target in s:\n",
    "            return False\n",
    "        return True\n",
    "    return filter_fcn"
   ],
   "metadata": {
    "collapsed": false,
    "pycharm": {
     "name": "#%%\n"
    }
   }
  },
  {
   "cell_type": "code",
   "execution_count": 7,
   "outputs": [
    {
     "name": "stdout",
     "output_type": "stream",
     "text": [
      "28476\n",
      "With filter filter_fcn\n",
      "[('agg_filter_len_pre_truncate', 38.64603782619105),\n",
      " ('agg_filtered_few', 0.014962892027771128),\n",
      " ('agg_generate_few', 0.0),\n",
      " ('agg_generate_none', 0.0),\n",
      " ('agg_in_filtered', 0.15872635863059611),\n",
      " ('agg_in_sample', 0.06308355278908308),\n",
      " ('agg_sample_len', 10.0),\n",
      " ('agg_sample_len_correct', 0.41554943739525974),\n",
      " ('agg_sample_len_pre_truncate', 100.0),\n",
      " ('agg_sample_wordct_correct', 0.963574335647594),\n",
      " ('agg_top_10_after_filter', 0.09456547761551352),\n",
      " ('agg_top_match', 0.030045487191764423),\n",
      " ('agg_top_match_len_correct', 0.9998802968637779),\n",
      " ('agg_top_match_none', 0.00011970313622216902),\n",
      " ('agg_top_match_wordct_correct', 0.9868326550155614),\n",
      " ('agg_top_sample_result_len_correct', 0.44613358870002395),\n",
      " ('agg_top_sample_result_wordct_correct', 0.96744074694757),\n",
      " ('filter_len_pre_truncate', 322849),\n",
      " ('filtered_few', 125),\n",
      " ('generate_few', 0),\n",
      " ('generate_none', 0),\n",
      " ('in_filtered', 1326),\n",
      " ('in_sample', 527),\n",
      " ('sample_len', 83540),\n",
      " ('sample_len_correct', 34715),\n",
      " ('sample_len_pre_truncate', 835400),\n",
      " ('sample_wordct_correct', 80497),\n",
      " ('top_10_after_filter', 790),\n",
      " ('top_match', 251),\n",
      " ('top_match_len_correct', 8353),\n",
      " ('top_match_none', 1),\n",
      " ('top_match_wordct_correct', 8244),\n",
      " ('top_sample_result_len_correct', 3727),\n",
      " ('top_sample_result_wordct_correct', 8082),\n",
      " ('total', 8354)]\n",
      "28476\n",
      "With filter filter_fcn\n",
      "[('agg_filter_len_pre_truncate', 38.605667918130074),\n",
      " ('agg_filtered_few', 0.01731863873077389),\n",
      " ('agg_generate_few', 0.0),\n",
      " ('agg_generate_none', 0.0),\n",
      " ('agg_in_filtered', 0.15901659198256024),\n",
      " ('agg_in_sample', 0.0634613055589197),\n",
      " ('agg_sample_len', 10.0),\n",
      " ('agg_sample_len_correct', 0.4114327237495458),\n",
      " ('agg_sample_len_pre_truncate', 100.0),\n",
      " ('agg_sample_wordct_correct', 0.9616931088773162),\n",
      " ('agg_top_10_after_filter', 0.09688748940293085),\n",
      " ('agg_top_match', 0.028097371926849947),\n",
      " ('agg_top_match_len_correct', 0.999636671914739),\n",
      " ('agg_top_match_none', 0.00036332808526099065),\n",
      " ('agg_top_match_wordct_correct', 0.9874046263776189),\n",
      " ('agg_top_sample_result_len_correct', 0.4373259052924791),\n",
      " ('agg_top_sample_result_wordct_correct', 0.9662104880707278),\n",
      " ('filter_len_pre_truncate', 318767),\n",
      " ('filtered_few', 143),\n",
      " ('generate_few', 0),\n",
      " ('generate_none', 0),\n",
      " ('in_filtered', 1313),\n",
      " ('in_sample', 524),\n",
      " ('sample_len', 82570),\n",
      " ('sample_len_correct', 33972),\n",
      " ('sample_len_pre_truncate', 825700),\n",
      " ('sample_wordct_correct', 79407),\n",
      " ('top_10_after_filter', 800),\n",
      " ('top_match', 232),\n",
      " ('top_match_len_correct', 8254),\n",
      " ('top_match_none', 3),\n",
      " ('top_match_wordct_correct', 8153),\n",
      " ('top_sample_result_len_correct', 3611),\n",
      " ('top_sample_result_wordct_correct', 7978),\n",
      " ('total', 8257)]\n"
     ]
    }
   ],
   "source": [
    "# subset that does not overlap with train (exact match)\n",
    "load_and_run('baseline_naive_e12_val',\n",
    "             label='baseline_naive_e12_val_diff_exact',\n",
    "             filter_fcn=make_set_inclusion_filter_fcn(train))\n",
    "load_and_run('baseline_naive_e12_test',\n",
    "             label='baseline_naive_e12_test_diff_exact',\n",
    "             filter_fcn=make_set_inclusion_filter_fcn(train))"
   ],
   "metadata": {
    "collapsed": false,
    "pycharm": {
     "name": "#%%\n"
    }
   }
  },
  {
   "cell_type": "code",
   "execution_count": 28,
   "outputs": [
    {
     "name": "stderr",
     "output_type": "stream",
     "text": [
      "INFO:data_util.scrape_parse.guardian_scrape:loading from /Users/jsrozner/jsrozner/cryptic/cryptic-code/data/puzzles/guardian_data/guardian_2020_10_08_json\n",
      "INFO:data_util.scrape_parse.guardian_scrape:Using file glob at /Users/jsrozner/jsrozner/cryptic/cryptic-code/data/puzzles/guardian_data/guardian_2020_10_08_json/cryptic*.json\n",
      "INFO:data_util.scrape_parse.guardian_scrape:Glob has size 5518\n",
      "100%|██████████| 5518/5518 [00:19<00:00, 287.01it/s]\n",
      "INFO:data_util.scrape_parse.guardian_scrape:Params set to not filter\n",
      "100%|██████████| 143991/143991 [00:00<00:00, 637508.78it/s]\n",
      "100%|██████████| 55783/55783 [00:02<00:00, 22397.92it/s]\n",
      "INFO:data_util.scrape_parse.guardian_scrape:Counter({1: 118540, 2: 20105, 3: 2929, 4: 686, 5: 112, 6: 8})\n"
     ]
    },
    {
     "name": "stdout",
     "output_type": "stream",
     "text": [
      "[(\"length punct: '\", 1),\n",
      " ('invalid: clue group', 7687),\n",
      " ('invalid: invalid start char (most are continuation clues)', 607),\n",
      " ('invalid: number in clue (commonly references another clue)', 7066),\n",
      " ('invalid: regexp', 75),\n",
      " ('invalid: soln length does not match specified lens (multi box soln)', 56),\n",
      " ('invalid: unrecognized char in clue (e.g. html)', 85),\n",
      " ('invalid: zero-len clue text after regexp', 15),\n",
      " ('length punct: ,', 24644),\n",
      " ('length punct: -', 4148),\n",
      " ('length punct: .', 8),\n",
      " ('length punct: /', 1),\n",
      " ('stat: parsed_puzzle', 5518),\n",
      " ('stat: total_clues', 143991),\n",
      " (1, 119956),\n",
      " (2, 20272),\n",
      " (3, 2957),\n",
      " (4, 686),\n",
      " (5, 112),\n",
      " (6, 8)]\n",
      "Total clues: len(puzz_list)\n",
      "removed 1611 exact dupes\n",
      "142380\n"
     ]
    }
   ],
   "source": [],
   "metadata": {
    "collapsed": false,
    "pycharm": {
     "name": "#%%\n"
    }
   }
  },
  {
   "cell_type": "code",
   "execution_count": 8,
   "outputs": [],
   "source": [
    "###\n",
    "# prepare for set that does not overlap, fuzzily\n",
    "##\n",
    "# this result not in paper\n",
    "def make_set_inclusion_filter_fcn_fuzz(train_set: List[BaseClue]):\n",
    "    s = set()\n",
    "    for c in train_set:\n",
    "        soln = c.soln_with_spaces\n",
    "        if soln.endswith('es'):\n",
    "            s.add(soln[:-2])\n",
    "        if soln.endswith('s'):\n",
    "            s.add(soln[:-1])\n",
    "        s.add(soln + 'es')\n",
    "        s.add(soln + 's')\n",
    "        s.add(soln)\n",
    "\n",
    "    # return False to omit\n",
    "    def filter_fcn(mp: vt.ModelPrediction):\n",
    "        if mp.target in s or mp.target[:-1] in s or mp.target[:-2] in s:\n",
    "            return False\n",
    "        return True\n",
    "    return filter_fcn"
   ],
   "metadata": {
    "collapsed": false,
    "pycharm": {
     "name": "#%%\n"
    }
   }
  },
  {
   "cell_type": "code",
   "execution_count": 9,
   "outputs": [
    {
     "name": "stdout",
     "output_type": "stream",
     "text": [
      "28476\n",
      "With filter filter_fcn\n",
      "[('agg_filter_len_pre_truncate', 37.30992736077482),\n",
      " ('agg_filtered_few', 0.01791767554479419),\n",
      " ('agg_generate_few', 0.0),\n",
      " ('agg_generate_none', 0.0),\n",
      " ('agg_in_filtered', 0.12784503631961258),\n",
      " ('agg_in_sample', 0.049878934624697335),\n",
      " ('agg_sample_len', 10.0),\n",
      " ('agg_sample_len_correct', 0.40508474576271186),\n",
      " ('agg_sample_len_pre_truncate', 100.0),\n",
      " ('agg_sample_wordct_correct', 0.9544471347861179),\n",
      " ('agg_top_10_after_filter', 0.07602905569007264),\n",
      " ('agg_top_match', 0.022598870056497175),\n",
      " ('agg_top_match_len_correct', 0.9998385794995964),\n",
      " ('agg_top_match_none', 0.00016142050040355126),\n",
      " ('agg_top_match_wordct_correct', 0.9832122679580306),\n",
      " ('agg_top_sample_result_len_correct', 0.4314769975786925),\n",
      " ('agg_top_sample_result_wordct_correct', 0.9583535108958838),\n",
      " ('filter_len_pre_truncate', 231135),\n",
      " ('filtered_few', 111),\n",
      " ('generate_few', 0),\n",
      " ('generate_none', 0),\n",
      " ('in_filtered', 792),\n",
      " ('in_sample', 309),\n",
      " ('sample_len', 61950),\n",
      " ('sample_len_correct', 25095),\n",
      " ('sample_len_pre_truncate', 619500),\n",
      " ('sample_wordct_correct', 59128),\n",
      " ('top_10_after_filter', 471),\n",
      " ('top_match', 140),\n",
      " ('top_match_len_correct', 6194),\n",
      " ('top_match_none', 1),\n",
      " ('top_match_wordct_correct', 6091),\n",
      " ('top_sample_result_len_correct', 2673),\n",
      " ('top_sample_result_wordct_correct', 5937),\n",
      " ('total', 6195)]\n",
      "28476\n",
      "With filter filter_fcn\n",
      "[('agg_filter_len_pre_truncate', 37.38182412553122),\n",
      " ('agg_filtered_few', 0.022229486760379207),\n",
      " ('agg_generate_few', 0.0),\n",
      " ('agg_generate_none', 0.0),\n",
      " ('agg_in_filtered', 0.13010787839163127),\n",
      " ('agg_in_sample', 0.05067015364498202),\n",
      " ('agg_sample_len', 10.0),\n",
      " ('agg_sample_len_correct', 0.40096436744034),\n",
      " ('agg_sample_len_pre_truncate', 100.0),\n",
      " ('agg_sample_wordct_correct', 0.9521902582543315),\n",
      " ('agg_top_10_after_filter', 0.08009153318077804),\n",
      " ('agg_top_match', 0.021739130434782608),\n",
      " ('agg_top_match_len_correct', 0.9995096436744034),\n",
      " ('agg_top_match_none', 0.0004903563255966002),\n",
      " ('agg_top_match_wordct_correct', 0.9838182412553121),\n",
      " ('agg_top_sample_result_len_correct', 0.422360248447205),\n",
      " ('agg_top_sample_result_wordct_correct', 0.9579928081072245),\n",
      " ('filter_len_pre_truncate', 228702),\n",
      " ('filtered_few', 136),\n",
      " ('generate_few', 0),\n",
      " ('generate_none', 0),\n",
      " ('in_filtered', 796),\n",
      " ('in_sample', 310),\n",
      " ('sample_len', 61180),\n",
      " ('sample_len_correct', 24531),\n",
      " ('sample_len_pre_truncate', 611800),\n",
      " ('sample_wordct_correct', 58255),\n",
      " ('top_10_after_filter', 490),\n",
      " ('top_match', 133),\n",
      " ('top_match_len_correct', 6115),\n",
      " ('top_match_none', 3),\n",
      " ('top_match_wordct_correct', 6019),\n",
      " ('top_sample_result_len_correct', 2584),\n",
      " ('top_sample_result_wordct_correct', 5861),\n",
      " ('total', 6118)]\n"
     ]
    }
   ],
   "source": [
    "load_and_run('baseline_naive_e12_val',\n",
    "             label='baseline_naive_e12_val_diff_plurals',\n",
    "             filter_fcn=make_set_inclusion_filter_fcn_fuzz(train))\n",
    "load_and_run('baseline_naive_e12_test',\n",
    "             label='baseline_naive_e12_test_diff_plurals',\n",
    "             filter_fcn=make_set_inclusion_filter_fcn_fuzz(train))"
   ],
   "metadata": {
    "collapsed": false,
    "pycharm": {
     "name": "#%%\n"
    }
   }
  },
  {
   "cell_type": "code",
   "execution_count": null,
   "outputs": [],
   "source": [
    "###\n",
    "# disjoint\n",
    "###\n",
    "# not reported in paper\n",
    "_, _, (train_disj, val_disj, _) = load_guardian_splits_disjoint_hash(k_json_folder)\n",
    "\n",
    "load_and_run('baseline_disj1_e6_val',\n",
    "             label='baseline_disj1_e6_val_diff',\n",
    "             filter_fcn=make_set_inclusion_filter_fcn_fuzz(train_disj))\n",
    "\n",
    "\n"
   ],
   "metadata": {
    "collapsed": false,
    "pycharm": {
     "name": "#%%\n"
    }
   }
  }
 ],
 "metadata": {
  "kernelspec": {
   "display_name": "Python 3",
   "language": "python",
   "name": "python3"
  },
  "language_info": {
   "codemirror_mode": {
    "name": "ipython",
    "version": 2
   },
   "file_extension": ".py",
   "mimetype": "text/x-python",
   "name": "python",
   "nbconvert_exporter": "python",
   "pygments_lexer": "ipython2",
   "version": "2.7.6"
  }
 },
 "nbformat": 4,
 "nbformat_minor": 0
}