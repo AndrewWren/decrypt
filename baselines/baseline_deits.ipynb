{
 "cells": [
  {
   "cell_type": "markdown",
   "source": [
    "# how to run deits solver\n",
    "1. clone the deits repository (https://github.com/rdeits/cryptics) into './deits/; Note that the julia solver is better but for our research we used python version.\n",
    "2. checkout commit 402579 (in deits repo)\n",
    "3. apply patch 0001-Set-up... (in this directory)\n",
    "4. Use this notebook to set up the deits input clue file\n",
    "5. run validate_cryptics.py in the deits directory.\n",
    "    - the patch will create this file. (see bottom of validate_cryptics.py for command line arguments)\n",
    "    - you will need to specify an output file. Use the abs path of '../deits/clues/'\n",
    "    - you will need to specify input clue file. that should be the one generated in this nb ('../deits/clues/*')\n",
    "6. Use this notebook to run eval (this file)\n"
   ],
   "metadata": {
    "collapsed": false
   }
  },
  {
   "cell_type": "code",
   "execution_count": null,
   "outputs": [],
   "source": [
    "%load_ext autoreload\n",
    "%autoreload 2"
   ],
   "metadata": {
    "collapsed": false,
    "pycharm": {
     "name": "#%%\n"
    }
   }
  },
  {
   "cell_type": "code",
   "execution_count": null,
   "outputs": [],
   "source": [
    "import config\n",
    "k_json_folder = config.DataDirs.Guardian.json_folder\n",
    "k_deits_clue_folder = config.DataDirs.Deits.k_deits_clues\n",
    "k_deits_output_folder = config.DataDirs.Deits.k_deits_outputs"
   ],
   "metadata": {
    "collapsed": false,
    "pycharm": {
     "name": "#%%\n"
    }
   }
  },
  {
   "cell_type": "code",
   "execution_count": null,
   "outputs": [],
   "source": [
    "import sys\n",
    "sys.path.append('../decrypt')\n",
    "from decrypt.scrape_parse import (\n",
    "    load_guardian_splits,\n",
    "    load_guardian_splits_disjoint_hash\n",
    ")"
   ],
   "metadata": {
    "collapsed": false,
    "pycharm": {
     "name": "#%%\n"
    }
   }
  },
  {
   "cell_type": "code",
   "execution_count": 2,
   "outputs": [
    {
     "name": "stdout",
     "output_type": "stream",
     "text": [
      "initializing a csv writer\n"
     ]
    },
    {
     "name": "stderr",
     "output_type": "stream",
     "text": [
      "INFO:data_util.baselines.validation_tools:Opened clue labels file:\n"
     ]
    }
   ],
   "source": [
    "# from data_util.scrape_parse.guardian_scrape import load_guardian_splits, load_guardian_splits_disjoint_hash\n",
    "from decrypt.common.validation_tools import (\n",
    "    load_deits,\n",
    "    all_aggregate,\n",
    ")\n",
    "from decrypt.common.puzzle_clue import GuardianClue"
   ],
   "metadata": {
    "collapsed": false,
    "pycharm": {
     "name": "#%%\n"
    }
   }
  },
  {
   "cell_type": "code",
   "execution_count": 3,
   "outputs": [],
   "source": [
    "## produce deits\n",
    "\n",
    "# produce test set for cdeits\n",
    "def make_deits_format(gc: GuardianClue):\n",
    "    len_str = \"(\" + \",\".join(map(str, gc.lengths)) + \")\"\n",
    "    clue_str = gc.clue + \" \" + len_str\n",
    "    final = clue_str + \" | \" + gc.soln_with_spaces\n",
    "    return final\n",
    "\n",
    "def make_deits(fname, clueset):\n",
    "    with open(fname, \"w\") as f:\n",
    "        for c in clueset:\n",
    "            f.write(make_deits_format(c) + \"\\n\")\n"
   ],
   "metadata": {
    "collapsed": false,
    "pycharm": {
     "name": "#%%\n"
    }
   }
  },
  {
   "cell_type": "code",
   "execution_count": 12,
   "outputs": [],
   "source": [
    "def prep_deits(val_or_test: str,\n",
    "               naive_or_disj: str):\n",
    "    assert val_or_test in [\"val\", \"test\"]\n",
    "    assert naive_or_disj in [\"naive\", \"disj\"]\n",
    "    if naive_or_disj == \"naive\":\n",
    "        load_fn = load_guardian_splits\n",
    "    else:\n",
    "        load_fn = load_guardian_splits_disjoint_hash\n",
    "\n",
    "    _, _, (train_local, val, test) = load_fn(k_json_folder)\n",
    "    if val_or_test == \"val\":\n",
    "        val_local = val\n",
    "    else:\n",
    "        val_local = test\n",
    "\n",
    "    append_name = f'guardian_{naive_or_disj}_{val_or_test}'\n",
    "    fname = f'{k_deits_clue_folder}{append_name}.txt'\n",
    "    output_folder = f'{k_deits_output_folder}{append_name}/'        # outputs will be like output/{append_name}/*-1.json\n",
    "    return val_local, fname, output_folder\n",
    "\n",
    "def make_deits_clues(val_or_test,\n",
    "                     naive_or_disj):\n",
    "    val_local, fname, _ = prep_deits(val_or_test, naive_or_disj)\n",
    "    make_deits(fname, val_local)\n",
    "\n",
    "def eval_deits_clues(val_or_test,\n",
    "                     naive_or_disj):\n",
    "    val_local, fname, output_folder = prep_deits(val_or_test, naive_or_disj)\n",
    "    deits_outputs_glob = output_folder + \"*-1.json\"\n",
    "    model_outputs = load_deits(val_local, deits_outputs_glob)\n",
    "    all_aggregate(model_outputs)\n"
   ],
   "metadata": {
    "collapsed": false,
    "pycharm": {
     "name": "#%%\n"
    }
   }
  },
  {
   "cell_type": "code",
   "execution_count": null,
   "outputs": [],
   "source": [
    "# e.g. for disjoint val\n",
    "make_deits_clues('val', 'disj')     # produces a clue file in k_deits_clue_folder\n",
    "# between these need to run deits/validate_cryptics.py to actually generate the outputs\n",
    "# now we have an output in the deits output folder\n",
    "eval_deits_clues('val', 'disj')     # will evaluate the outputs\n",
    "\n",
    "# can also do 'val', 'naive' and 'test' + ['naive', 'disj']\n",
    "\n"
   ],
   "metadata": {
    "collapsed": false,
    "pycharm": {
     "name": "#%%\n"
    }
   }
  }
 ],
 "metadata": {
  "kernelspec": {
   "display_name": "Python 3",
   "language": "python",
   "name": "python3"
  },
  "language_info": {
   "codemirror_mode": {
    "name": "ipython",
    "version": 2
   },
   "file_extension": ".py",
   "mimetype": "text/x-python",
   "name": "python",
   "nbconvert_exporter": "python",
   "pygments_lexer": "ipython2",
   "version": "2.7.6"
  }
 },
 "nbformat": 4,
 "nbformat_minor": 0
}